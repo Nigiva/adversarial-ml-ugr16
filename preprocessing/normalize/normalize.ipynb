{
 "cells": [
  {
   "cell_type": "code",
   "execution_count": 1,
   "metadata": {},
   "outputs": [],
   "source": [
    "import pandas as pd\n",
    "import seaborn as sns\n",
    "from matplotlib import pyplot as plt\n",
    "from tqdm.notebook import tqdm\n",
    "import plotly.express as px\n",
    "tqdm.pandas()\n",
    "\n",
    "LEVEL = \"small\"\n",
    "\n",
    "%config InlineBackend.figure_formats = ['svg']"
   ]
  },
  {
   "cell_type": "code",
   "execution_count": 2,
   "metadata": {},
   "outputs": [
    {
     "data": {
      "text/html": [
       "<div>\n",
       "<style scoped>\n",
       "    .dataframe tbody tr th:only-of-type {\n",
       "        vertical-align: middle;\n",
       "    }\n",
       "\n",
       "    .dataframe tbody tr th {\n",
       "        vertical-align: top;\n",
       "    }\n",
       "\n",
       "    .dataframe thead th {\n",
       "        text-align: right;\n",
       "    }\n",
       "</style>\n",
       "<table border=\"1\" class=\"dataframe\">\n",
       "  <thead>\n",
       "    <tr style=\"text-align: right;\">\n",
       "      <th></th>\n",
       "      <th>datetime_end</th>\n",
       "      <th>duration</th>\n",
       "      <th>source_ip</th>\n",
       "      <th>destination_ip</th>\n",
       "      <th>source_port</th>\n",
       "      <th>destination_port</th>\n",
       "      <th>protocol</th>\n",
       "      <th>flag</th>\n",
       "      <th>forwarding</th>\n",
       "      <th>type</th>\n",
       "      <th>packet</th>\n",
       "      <th>byte</th>\n",
       "      <th>label</th>\n",
       "    </tr>\n",
       "  </thead>\n",
       "  <tbody>\n",
       "    <tr>\n",
       "      <th>0</th>\n",
       "      <td>2016-08-07 21:08:25</td>\n",
       "      <td>0.484</td>\n",
       "      <td>253.139.127.229</td>\n",
       "      <td>42.219.156.215</td>\n",
       "      <td>25</td>\n",
       "      <td>48324</td>\n",
       "      <td>TCP</td>\n",
       "      <td>.AP.SF</td>\n",
       "      <td>0</td>\n",
       "      <td>0</td>\n",
       "      <td>5</td>\n",
       "      <td>564</td>\n",
       "      <td>anomaly-spam</td>\n",
       "    </tr>\n",
       "    <tr>\n",
       "      <th>1</th>\n",
       "      <td>2016-08-08 14:10:17</td>\n",
       "      <td>0.468</td>\n",
       "      <td>253.139.127.230</td>\n",
       "      <td>42.219.156.213</td>\n",
       "      <td>25</td>\n",
       "      <td>51871</td>\n",
       "      <td>TCP</td>\n",
       "      <td>.AP.SF</td>\n",
       "      <td>0</td>\n",
       "      <td>0</td>\n",
       "      <td>5</td>\n",
       "      <td>564</td>\n",
       "      <td>anomaly-spam</td>\n",
       "    </tr>\n",
       "    <tr>\n",
       "      <th>2</th>\n",
       "      <td>2016-03-24 11:35:33</td>\n",
       "      <td>0.296</td>\n",
       "      <td>42.219.156.223</td>\n",
       "      <td>108.66.255.194</td>\n",
       "      <td>40484</td>\n",
       "      <td>25</td>\n",
       "      <td>TCP</td>\n",
       "      <td>.A.RS.</td>\n",
       "      <td>0</td>\n",
       "      <td>0</td>\n",
       "      <td>4</td>\n",
       "      <td>216</td>\n",
       "      <td>anomaly-spam</td>\n",
       "    </tr>\n",
       "    <tr>\n",
       "      <th>3</th>\n",
       "      <td>2016-08-07 00:10:32</td>\n",
       "      <td>2.616</td>\n",
       "      <td>42.219.156.214</td>\n",
       "      <td>194.192.119.38</td>\n",
       "      <td>44877</td>\n",
       "      <td>25</td>\n",
       "      <td>TCP</td>\n",
       "      <td>.APRS.</td>\n",
       "      <td>0</td>\n",
       "      <td>0</td>\n",
       "      <td>21</td>\n",
       "      <td>7486</td>\n",
       "      <td>anomaly-spam</td>\n",
       "    </tr>\n",
       "    <tr>\n",
       "      <th>4</th>\n",
       "      <td>2016-08-06 22:40:05</td>\n",
       "      <td>0.364</td>\n",
       "      <td>194.192.119.34</td>\n",
       "      <td>42.219.156.215</td>\n",
       "      <td>25</td>\n",
       "      <td>35728</td>\n",
       "      <td>TCP</td>\n",
       "      <td>.AP.SF</td>\n",
       "      <td>0</td>\n",
       "      <td>0</td>\n",
       "      <td>5</td>\n",
       "      <td>564</td>\n",
       "      <td>anomaly-spam</td>\n",
       "    </tr>\n",
       "  </tbody>\n",
       "</table>\n",
       "</div>"
      ],
      "text/plain": [
       "          datetime_end  duration        source_ip  destination_ip  \\\n",
       "0  2016-08-07 21:08:25     0.484  253.139.127.229  42.219.156.215   \n",
       "1  2016-08-08 14:10:17     0.468  253.139.127.230  42.219.156.213   \n",
       "2  2016-03-24 11:35:33     0.296   42.219.156.223  108.66.255.194   \n",
       "3  2016-08-07 00:10:32     2.616   42.219.156.214  194.192.119.38   \n",
       "4  2016-08-06 22:40:05     0.364   194.192.119.34  42.219.156.215   \n",
       "\n",
       "   source_port  destination_port protocol    flag  forwarding  type  packet  \\\n",
       "0           25             48324      TCP  .AP.SF           0     0       5   \n",
       "1           25             51871      TCP  .AP.SF           0     0       5   \n",
       "2        40484                25      TCP  .A.RS.           0     0       4   \n",
       "3        44877                25      TCP  .APRS.           0     0      21   \n",
       "4           25             35728      TCP  .AP.SF           0     0       5   \n",
       "\n",
       "   byte         label  \n",
       "0   564  anomaly-spam  \n",
       "1   564  anomaly-spam  \n",
       "2   216  anomaly-spam  \n",
       "3  7486  anomaly-spam  \n",
       "4   564  anomaly-spam  "
      ]
     },
     "execution_count": 2,
     "metadata": {},
     "output_type": "execute_result"
    }
   ],
   "source": [
    "DATASET_PATH = f\"../../data/extract/ugr16-{LEVEL}.csv\"\n",
    "data_df = pd.read_csv(DATASET_PATH, index_col=0)\n",
    "data_df.head()"
   ]
  },
  {
   "cell_type": "markdown",
   "metadata": {},
   "source": [
    "## Convertir les colonnes dans les bons types"
   ]
  },
  {
   "cell_type": "code",
   "execution_count": 90,
   "metadata": {},
   "outputs": [
    {
     "data": {
      "text/plain": [
       "datetime_end         object\n",
       "duration            float64\n",
       "source_ip            object\n",
       "destination_ip       object\n",
       "source_port           int64\n",
       "destination_port      int64\n",
       "protocol             object\n",
       "flag                 object\n",
       "forwarding            int64\n",
       "type                  int64\n",
       "packet                int64\n",
       "byte                  int64\n",
       "label                object\n",
       "dtype: object"
      ]
     },
     "execution_count": 90,
     "metadata": {},
     "output_type": "execute_result"
    }
   ],
   "source": [
    "data_df.dtypes"
   ]
  },
  {
   "cell_type": "code",
   "execution_count": 91,
   "metadata": {},
   "outputs": [],
   "source": [
    "# Convert all object to string if it is possible\n",
    "data_df = data_df.convert_dtypes()"
   ]
  },
  {
   "cell_type": "code",
   "execution_count": 92,
   "metadata": {},
   "outputs": [],
   "source": [
    "data_df.datetime_end = pd.to_datetime(data_df.datetime_end)"
   ]
  },
  {
   "cell_type": "code",
   "execution_count": 93,
   "metadata": {},
   "outputs": [
    {
     "data": {
      "text/plain": [
       "datetime_end        datetime64[ns]\n",
       "duration                   Float64\n",
       "source_ip                   string\n",
       "destination_ip              string\n",
       "source_port                  Int64\n",
       "destination_port             Int64\n",
       "protocol                    string\n",
       "flag                        string\n",
       "forwarding                   Int64\n",
       "type                         Int64\n",
       "packet                       Int64\n",
       "byte                         Int64\n",
       "label                       string\n",
       "dtype: object"
      ]
     },
     "execution_count": 93,
     "metadata": {},
     "output_type": "execute_result"
    }
   ],
   "source": [
    "data_df.dtypes"
   ]
  },
  {
   "cell_type": "markdown",
   "metadata": {},
   "source": [
    "## Statistique"
   ]
  },
  {
   "cell_type": "code",
   "execution_count": 6,
   "metadata": {},
   "outputs": [
    {
     "data": {
      "text/html": [
       "<div>\n",
       "<style scoped>\n",
       "    .dataframe tbody tr th:only-of-type {\n",
       "        vertical-align: middle;\n",
       "    }\n",
       "\n",
       "    .dataframe tbody tr th {\n",
       "        vertical-align: top;\n",
       "    }\n",
       "\n",
       "    .dataframe thead th {\n",
       "        text-align: right;\n",
       "    }\n",
       "</style>\n",
       "<table border=\"1\" class=\"dataframe\">\n",
       "  <thead>\n",
       "    <tr style=\"text-align: right;\">\n",
       "      <th></th>\n",
       "      <th>duration</th>\n",
       "      <th>source_port</th>\n",
       "      <th>destination_port</th>\n",
       "      <th>forwarding</th>\n",
       "      <th>type</th>\n",
       "      <th>packet</th>\n",
       "      <th>byte</th>\n",
       "    </tr>\n",
       "  </thead>\n",
       "  <tbody>\n",
       "    <tr>\n",
       "      <th>count</th>\n",
       "      <td>1.440000e+07</td>\n",
       "      <td>1.440000e+07</td>\n",
       "      <td>1.440000e+07</td>\n",
       "      <td>14400000.0</td>\n",
       "      <td>1.440000e+07</td>\n",
       "      <td>1.440000e+07</td>\n",
       "      <td>1.440000e+07</td>\n",
       "    </tr>\n",
       "    <tr>\n",
       "      <th>mean</th>\n",
       "      <td>3.446520e+00</td>\n",
       "      <td>2.288346e+04</td>\n",
       "      <td>1.823133e+04</td>\n",
       "      <td>0.0</td>\n",
       "      <td>9.813184e+00</td>\n",
       "      <td>1.464368e+01</td>\n",
       "      <td>9.800866e+03</td>\n",
       "    </tr>\n",
       "    <tr>\n",
       "      <th>std</th>\n",
       "      <td>2.833413e+01</td>\n",
       "      <td>2.374414e+04</td>\n",
       "      <td>2.281386e+04</td>\n",
       "      <td>0.0</td>\n",
       "      <td>2.136845e+01</td>\n",
       "      <td>1.926603e+03</td>\n",
       "      <td>2.518562e+06</td>\n",
       "    </tr>\n",
       "    <tr>\n",
       "      <th>min</th>\n",
       "      <td>0.000000e+00</td>\n",
       "      <td>0.000000e+00</td>\n",
       "      <td>0.000000e+00</td>\n",
       "      <td>0.0</td>\n",
       "      <td>0.000000e+00</td>\n",
       "      <td>1.000000e+00</td>\n",
       "      <td>2.000000e+01</td>\n",
       "    </tr>\n",
       "    <tr>\n",
       "      <th>25%</th>\n",
       "      <td>0.000000e+00</td>\n",
       "      <td>8.000000e+01</td>\n",
       "      <td>8.000000e+01</td>\n",
       "      <td>0.0</td>\n",
       "      <td>0.000000e+00</td>\n",
       "      <td>1.000000e+00</td>\n",
       "      <td>6.900000e+01</td>\n",
       "    </tr>\n",
       "    <tr>\n",
       "      <th>50%</th>\n",
       "      <td>0.000000e+00</td>\n",
       "      <td>8.525000e+03</td>\n",
       "      <td>5.011000e+03</td>\n",
       "      <td>0.0</td>\n",
       "      <td>0.000000e+00</td>\n",
       "      <td>2.000000e+00</td>\n",
       "      <td>1.960000e+02</td>\n",
       "    </tr>\n",
       "    <tr>\n",
       "      <th>75%</th>\n",
       "      <td>1.036000e+00</td>\n",
       "      <td>4.719900e+04</td>\n",
       "      <td>4.161800e+04</td>\n",
       "      <td>0.0</td>\n",
       "      <td>0.000000e+00</td>\n",
       "      <td>6.000000e+00</td>\n",
       "      <td>6.830000e+02</td>\n",
       "    </tr>\n",
       "    <tr>\n",
       "      <th>max</th>\n",
       "      <td>2.691891e+03</td>\n",
       "      <td>6.553500e+04</td>\n",
       "      <td>6.553500e+04</td>\n",
       "      <td>0.0</td>\n",
       "      <td>2.520000e+02</td>\n",
       "      <td>1.816918e+06</td>\n",
       "      <td>2.658149e+09</td>\n",
       "    </tr>\n",
       "  </tbody>\n",
       "</table>\n",
       "</div>"
      ],
      "text/plain": [
       "           duration   source_port  destination_port  forwarding          type  \\\n",
       "count  1.440000e+07  1.440000e+07      1.440000e+07  14400000.0  1.440000e+07   \n",
       "mean   3.446520e+00  2.288346e+04      1.823133e+04         0.0  9.813184e+00   \n",
       "std    2.833413e+01  2.374414e+04      2.281386e+04         0.0  2.136845e+01   \n",
       "min    0.000000e+00  0.000000e+00      0.000000e+00         0.0  0.000000e+00   \n",
       "25%    0.000000e+00  8.000000e+01      8.000000e+01         0.0  0.000000e+00   \n",
       "50%    0.000000e+00  8.525000e+03      5.011000e+03         0.0  0.000000e+00   \n",
       "75%    1.036000e+00  4.719900e+04      4.161800e+04         0.0  0.000000e+00   \n",
       "max    2.691891e+03  6.553500e+04      6.553500e+04         0.0  2.520000e+02   \n",
       "\n",
       "             packet          byte  \n",
       "count  1.440000e+07  1.440000e+07  \n",
       "mean   1.464368e+01  9.800866e+03  \n",
       "std    1.926603e+03  2.518562e+06  \n",
       "min    1.000000e+00  2.000000e+01  \n",
       "25%    1.000000e+00  6.900000e+01  \n",
       "50%    2.000000e+00  1.960000e+02  \n",
       "75%    6.000000e+00  6.830000e+02  \n",
       "max    1.816918e+06  2.658149e+09  "
      ]
     },
     "execution_count": 6,
     "metadata": {},
     "output_type": "execute_result"
    }
   ],
   "source": [
    "data_df.describe()"
   ]
  },
  {
   "cell_type": "code",
   "execution_count": 7,
   "metadata": {},
   "outputs": [],
   "source": [
    "#data_df.set_index(\"datetime_end\").groupby(pd.Grouper(freq=\"W-MON\"))\n",
    "data_df = data_df.convert_dtypes()\n",
    "data_df.datetime_end = pd.to_datetime(data_df.datetime_end)"
   ]
  },
  {
   "cell_type": "code",
   "execution_count": 8,
   "metadata": {},
   "outputs": [],
   "source": [
    "hist_df = data_df.groupby([pd.Grouper(key='datetime_end', freq='W-MON'), \"label\"]).size().to_frame('count').reset_index()"
   ]
  },
  {
   "cell_type": "code",
   "execution_count": 9,
   "metadata": {},
   "outputs": [
    {
     "data": {
      "application/vnd.plotly.v1+json": {
       "config": {
        "plotlyServerURL": "https://plot.ly"
       },
       "data": [
        {
         "alignmentgroup": "True",
         "hovertemplate": "label=anomaly-spam<br>datetime_end=%{x}<br>count=%{y}<extra></extra>",
         "legendgroup": "anomaly-spam",
         "marker": {
          "color": "#316395",
          "pattern": {
           "shape": ""
          }
         },
         "name": "anomaly-spam",
         "offsetgroup": "anomaly-spam",
         "orientation": "v",
         "showlegend": true,
         "textposition": "auto",
         "type": "bar",
         "x": [
          "2016-03-21T00:00:00",
          "2016-03-28T00:00:00",
          "2016-04-04T00:00:00",
          "2016-04-11T00:00:00",
          "2016-04-18T00:00:00",
          "2016-04-25T00:00:00",
          "2016-05-02T00:00:00",
          "2016-05-09T00:00:00",
          "2016-05-16T00:00:00",
          "2016-05-23T00:00:00",
          "2016-06-06T00:00:00",
          "2016-06-13T00:00:00",
          "2016-06-20T00:00:00",
          "2016-06-27T00:00:00",
          "2016-08-01T00:00:00",
          "2016-08-08T00:00:00",
          "2016-08-15T00:00:00",
          "2016-08-22T00:00:00",
          "2016-08-29T00:00:00"
         ],
         "xaxis": "x",
         "y": [
          16969,
          14562,
          5683,
          20160,
          12329,
          304,
          1132,
          924,
          2606,
          10264,
          2,
          5,
          113794,
          12977,
          4387,
          474754,
          131524,
          38393,
          39231
         ],
         "yaxis": "y"
        },
        {
         "alignmentgroup": "True",
         "hovertemplate": "label=background<br>datetime_end=%{x}<br>count=%{y}<extra></extra>",
         "legendgroup": "background",
         "marker": {
          "color": "#B82E2E",
          "pattern": {
           "shape": ""
          }
         },
         "name": "background",
         "offsetgroup": "background",
         "orientation": "v",
         "showlegend": true,
         "textposition": "auto",
         "type": "bar",
         "x": [
          "2016-03-21T00:00:00",
          "2016-03-28T00:00:00",
          "2016-04-04T00:00:00",
          "2016-04-11T00:00:00",
          "2016-04-18T00:00:00",
          "2016-04-25T00:00:00",
          "2016-05-02T00:00:00",
          "2016-05-09T00:00:00",
          "2016-05-16T00:00:00",
          "2016-05-23T00:00:00",
          "2016-05-30T00:00:00",
          "2016-06-06T00:00:00",
          "2016-06-13T00:00:00",
          "2016-06-20T00:00:00",
          "2016-06-27T00:00:00",
          "2016-08-01T00:00:00",
          "2016-08-08T00:00:00",
          "2016-08-15T00:00:00",
          "2016-08-22T00:00:00",
          "2016-08-29T00:00:00"
         ],
         "xaxis": "x",
         "y": [
          157430,
          377232,
          186151,
          304239,
          446497,
          423046,
          402353,
          423183,
          417224,
          458583,
          420705,
          415674,
          428339,
          374968,
          309353,
          281970,
          348801,
          336851,
          356450,
          330951
         ],
         "yaxis": "y"
        },
        {
         "alignmentgroup": "True",
         "hovertemplate": "label=blacklist<br>datetime_end=%{x}<br>count=%{y}<extra></extra>",
         "legendgroup": "blacklist",
         "marker": {
          "color": "#66AA00",
          "pattern": {
           "shape": ""
          }
         },
         "name": "blacklist",
         "offsetgroup": "blacklist",
         "orientation": "v",
         "showlegend": true,
         "textposition": "auto",
         "type": "bar",
         "x": [
          "2016-03-21T00:00:00",
          "2016-03-28T00:00:00",
          "2016-04-04T00:00:00",
          "2016-04-11T00:00:00",
          "2016-04-18T00:00:00",
          "2016-04-25T00:00:00",
          "2016-05-02T00:00:00",
          "2016-05-09T00:00:00",
          "2016-05-16T00:00:00",
          "2016-05-23T00:00:00",
          "2016-05-30T00:00:00",
          "2016-06-06T00:00:00",
          "2016-06-13T00:00:00",
          "2016-06-20T00:00:00",
          "2016-06-27T00:00:00",
          "2016-08-01T00:00:00",
          "2016-08-08T00:00:00",
          "2016-08-15T00:00:00",
          "2016-08-22T00:00:00",
          "2016-08-29T00:00:00"
         ],
         "xaxis": "x",
         "y": [
          14428,
          23148,
          12744,
          19681,
          28754,
          32425,
          30577,
          37623,
          36952,
          28674,
          25008,
          40268,
          98161,
          158476,
          148758,
          15623,
          23206,
          61094,
          38945,
          25455
         ],
         "yaxis": "y"
        },
        {
         "alignmentgroup": "True",
         "hovertemplate": "label=anomaly-sshscan<br>datetime_end=%{x}<br>count=%{y}<extra></extra>",
         "legendgroup": "anomaly-sshscan",
         "marker": {
          "color": "#DD4477",
          "pattern": {
           "shape": ""
          }
         },
         "name": "anomaly-sshscan",
         "offsetgroup": "anomaly-sshscan",
         "orientation": "v",
         "showlegend": true,
         "textposition": "auto",
         "type": "bar",
         "x": [
          "2016-03-28T00:00:00",
          "2016-04-11T00:00:00",
          "2016-04-18T00:00:00",
          "2016-04-25T00:00:00",
          "2016-06-06T00:00:00",
          "2016-06-13T00:00:00",
          "2016-06-27T00:00:00"
         ],
         "xaxis": "x",
         "y": [
          1,
          79143,
          606644,
          214208,
          2,
          1,
          1
         ],
         "yaxis": "y"
        },
        {
         "alignmentgroup": "True",
         "hovertemplate": "label=anomaly-udpscan<br>datetime_end=%{x}<br>count=%{y}<extra></extra>",
         "legendgroup": "anomaly-udpscan",
         "marker": {
          "color": "#0099C6",
          "pattern": {
           "shape": ""
          }
         },
         "name": "anomaly-udpscan",
         "offsetgroup": "anomaly-udpscan",
         "orientation": "v",
         "showlegend": true,
         "textposition": "auto",
         "type": "bar",
         "x": [
          "2016-08-01T00:00:00"
         ],
         "xaxis": "x",
         "y": [
          900000
         ],
         "yaxis": "y"
        },
        {
         "alignmentgroup": "True",
         "hovertemplate": "label=dos<br>datetime_end=%{x}<br>count=%{y}<extra></extra>",
         "legendgroup": "dos",
         "marker": {
          "color": "#990099",
          "pattern": {
           "shape": ""
          }
         },
         "name": "dos",
         "offsetgroup": "dos",
         "orientation": "v",
         "showlegend": true,
         "textposition": "auto",
         "type": "bar",
         "x": [
          "2016-08-01T00:00:00",
          "2016-08-08T00:00:00",
          "2016-08-15T00:00:00"
         ],
         "xaxis": "x",
         "y": [
          380879,
          493514,
          25607
         ],
         "yaxis": "y"
        },
        {
         "alignmentgroup": "True",
         "hovertemplate": "label=nerisbotnet<br>datetime_end=%{x}<br>count=%{y}<extra></extra>",
         "legendgroup": "nerisbotnet",
         "marker": {
          "color": "#109618",
          "pattern": {
           "shape": ""
          }
         },
         "name": "nerisbotnet",
         "offsetgroup": "nerisbotnet",
         "orientation": "v",
         "showlegend": true,
         "textposition": "auto",
         "type": "bar",
         "x": [
          "2016-08-01T00:00:00",
          "2016-08-08T00:00:00"
         ],
         "xaxis": "x",
         "y": [
          405865,
          494135
         ],
         "yaxis": "y"
        },
        {
         "alignmentgroup": "True",
         "hovertemplate": "label=scan11<br>datetime_end=%{x}<br>count=%{y}<extra></extra>",
         "legendgroup": "scan11",
         "marker": {
          "color": "#FF9900",
          "pattern": {
           "shape": ""
          }
         },
         "name": "scan11",
         "offsetgroup": "scan11",
         "orientation": "v",
         "showlegend": true,
         "textposition": "auto",
         "type": "bar",
         "x": [
          "2016-08-01T00:00:00",
          "2016-08-08T00:00:00",
          "2016-08-15T00:00:00"
         ],
         "xaxis": "x",
         "y": [
          358425,
          476772,
          64803
         ],
         "yaxis": "y"
        },
        {
         "alignmentgroup": "True",
         "hovertemplate": "label=scan44<br>datetime_end=%{x}<br>count=%{y}<extra></extra>",
         "legendgroup": "scan44",
         "marker": {
          "color": "#DC3912",
          "pattern": {
           "shape": ""
          }
         },
         "name": "scan44",
         "offsetgroup": "scan44",
         "orientation": "v",
         "showlegend": true,
         "textposition": "auto",
         "type": "bar",
         "x": [
          "2016-08-01T00:00:00",
          "2016-08-08T00:00:00",
          "2016-08-15T00:00:00"
         ],
         "xaxis": "x",
         "y": [
          379402,
          484719,
          35879
         ],
         "yaxis": "y"
        }
       ],
       "layout": {
        "barmode": "relative",
        "legend": {
         "title": {
          "text": "label"
         },
         "tracegroupgap": 0
        },
        "template": {
         "data": {
          "bar": [
           {
            "error_x": {
             "color": "#2a3f5f"
            },
            "error_y": {
             "color": "#2a3f5f"
            },
            "marker": {
             "line": {
              "color": "#E5ECF6",
              "width": 0.5
             },
             "pattern": {
              "fillmode": "overlay",
              "size": 10,
              "solidity": 0.2
             }
            },
            "type": "bar"
           }
          ],
          "barpolar": [
           {
            "marker": {
             "line": {
              "color": "#E5ECF6",
              "width": 0.5
             },
             "pattern": {
              "fillmode": "overlay",
              "size": 10,
              "solidity": 0.2
             }
            },
            "type": "barpolar"
           }
          ],
          "carpet": [
           {
            "aaxis": {
             "endlinecolor": "#2a3f5f",
             "gridcolor": "white",
             "linecolor": "white",
             "minorgridcolor": "white",
             "startlinecolor": "#2a3f5f"
            },
            "baxis": {
             "endlinecolor": "#2a3f5f",
             "gridcolor": "white",
             "linecolor": "white",
             "minorgridcolor": "white",
             "startlinecolor": "#2a3f5f"
            },
            "type": "carpet"
           }
          ],
          "choropleth": [
           {
            "colorbar": {
             "outlinewidth": 0,
             "ticks": ""
            },
            "type": "choropleth"
           }
          ],
          "contour": [
           {
            "colorbar": {
             "outlinewidth": 0,
             "ticks": ""
            },
            "colorscale": [
             [
              0,
              "#0d0887"
             ],
             [
              0.1111111111111111,
              "#46039f"
             ],
             [
              0.2222222222222222,
              "#7201a8"
             ],
             [
              0.3333333333333333,
              "#9c179e"
             ],
             [
              0.4444444444444444,
              "#bd3786"
             ],
             [
              0.5555555555555556,
              "#d8576b"
             ],
             [
              0.6666666666666666,
              "#ed7953"
             ],
             [
              0.7777777777777778,
              "#fb9f3a"
             ],
             [
              0.8888888888888888,
              "#fdca26"
             ],
             [
              1,
              "#f0f921"
             ]
            ],
            "type": "contour"
           }
          ],
          "contourcarpet": [
           {
            "colorbar": {
             "outlinewidth": 0,
             "ticks": ""
            },
            "type": "contourcarpet"
           }
          ],
          "heatmap": [
           {
            "colorbar": {
             "outlinewidth": 0,
             "ticks": ""
            },
            "colorscale": [
             [
              0,
              "#0d0887"
             ],
             [
              0.1111111111111111,
              "#46039f"
             ],
             [
              0.2222222222222222,
              "#7201a8"
             ],
             [
              0.3333333333333333,
              "#9c179e"
             ],
             [
              0.4444444444444444,
              "#bd3786"
             ],
             [
              0.5555555555555556,
              "#d8576b"
             ],
             [
              0.6666666666666666,
              "#ed7953"
             ],
             [
              0.7777777777777778,
              "#fb9f3a"
             ],
             [
              0.8888888888888888,
              "#fdca26"
             ],
             [
              1,
              "#f0f921"
             ]
            ],
            "type": "heatmap"
           }
          ],
          "heatmapgl": [
           {
            "colorbar": {
             "outlinewidth": 0,
             "ticks": ""
            },
            "colorscale": [
             [
              0,
              "#0d0887"
             ],
             [
              0.1111111111111111,
              "#46039f"
             ],
             [
              0.2222222222222222,
              "#7201a8"
             ],
             [
              0.3333333333333333,
              "#9c179e"
             ],
             [
              0.4444444444444444,
              "#bd3786"
             ],
             [
              0.5555555555555556,
              "#d8576b"
             ],
             [
              0.6666666666666666,
              "#ed7953"
             ],
             [
              0.7777777777777778,
              "#fb9f3a"
             ],
             [
              0.8888888888888888,
              "#fdca26"
             ],
             [
              1,
              "#f0f921"
             ]
            ],
            "type": "heatmapgl"
           }
          ],
          "histogram": [
           {
            "marker": {
             "pattern": {
              "fillmode": "overlay",
              "size": 10,
              "solidity": 0.2
             }
            },
            "type": "histogram"
           }
          ],
          "histogram2d": [
           {
            "colorbar": {
             "outlinewidth": 0,
             "ticks": ""
            },
            "colorscale": [
             [
              0,
              "#0d0887"
             ],
             [
              0.1111111111111111,
              "#46039f"
             ],
             [
              0.2222222222222222,
              "#7201a8"
             ],
             [
              0.3333333333333333,
              "#9c179e"
             ],
             [
              0.4444444444444444,
              "#bd3786"
             ],
             [
              0.5555555555555556,
              "#d8576b"
             ],
             [
              0.6666666666666666,
              "#ed7953"
             ],
             [
              0.7777777777777778,
              "#fb9f3a"
             ],
             [
              0.8888888888888888,
              "#fdca26"
             ],
             [
              1,
              "#f0f921"
             ]
            ],
            "type": "histogram2d"
           }
          ],
          "histogram2dcontour": [
           {
            "colorbar": {
             "outlinewidth": 0,
             "ticks": ""
            },
            "colorscale": [
             [
              0,
              "#0d0887"
             ],
             [
              0.1111111111111111,
              "#46039f"
             ],
             [
              0.2222222222222222,
              "#7201a8"
             ],
             [
              0.3333333333333333,
              "#9c179e"
             ],
             [
              0.4444444444444444,
              "#bd3786"
             ],
             [
              0.5555555555555556,
              "#d8576b"
             ],
             [
              0.6666666666666666,
              "#ed7953"
             ],
             [
              0.7777777777777778,
              "#fb9f3a"
             ],
             [
              0.8888888888888888,
              "#fdca26"
             ],
             [
              1,
              "#f0f921"
             ]
            ],
            "type": "histogram2dcontour"
           }
          ],
          "mesh3d": [
           {
            "colorbar": {
             "outlinewidth": 0,
             "ticks": ""
            },
            "type": "mesh3d"
           }
          ],
          "parcoords": [
           {
            "line": {
             "colorbar": {
              "outlinewidth": 0,
              "ticks": ""
             }
            },
            "type": "parcoords"
           }
          ],
          "pie": [
           {
            "automargin": true,
            "type": "pie"
           }
          ],
          "scatter": [
           {
            "fillpattern": {
             "fillmode": "overlay",
             "size": 10,
             "solidity": 0.2
            },
            "type": "scatter"
           }
          ],
          "scatter3d": [
           {
            "line": {
             "colorbar": {
              "outlinewidth": 0,
              "ticks": ""
             }
            },
            "marker": {
             "colorbar": {
              "outlinewidth": 0,
              "ticks": ""
             }
            },
            "type": "scatter3d"
           }
          ],
          "scattercarpet": [
           {
            "marker": {
             "colorbar": {
              "outlinewidth": 0,
              "ticks": ""
             }
            },
            "type": "scattercarpet"
           }
          ],
          "scattergeo": [
           {
            "marker": {
             "colorbar": {
              "outlinewidth": 0,
              "ticks": ""
             }
            },
            "type": "scattergeo"
           }
          ],
          "scattergl": [
           {
            "marker": {
             "colorbar": {
              "outlinewidth": 0,
              "ticks": ""
             }
            },
            "type": "scattergl"
           }
          ],
          "scattermapbox": [
           {
            "marker": {
             "colorbar": {
              "outlinewidth": 0,
              "ticks": ""
             }
            },
            "type": "scattermapbox"
           }
          ],
          "scatterpolar": [
           {
            "marker": {
             "colorbar": {
              "outlinewidth": 0,
              "ticks": ""
             }
            },
            "type": "scatterpolar"
           }
          ],
          "scatterpolargl": [
           {
            "marker": {
             "colorbar": {
              "outlinewidth": 0,
              "ticks": ""
             }
            },
            "type": "scatterpolargl"
           }
          ],
          "scatterternary": [
           {
            "marker": {
             "colorbar": {
              "outlinewidth": 0,
              "ticks": ""
             }
            },
            "type": "scatterternary"
           }
          ],
          "surface": [
           {
            "colorbar": {
             "outlinewidth": 0,
             "ticks": ""
            },
            "colorscale": [
             [
              0,
              "#0d0887"
             ],
             [
              0.1111111111111111,
              "#46039f"
             ],
             [
              0.2222222222222222,
              "#7201a8"
             ],
             [
              0.3333333333333333,
              "#9c179e"
             ],
             [
              0.4444444444444444,
              "#bd3786"
             ],
             [
              0.5555555555555556,
              "#d8576b"
             ],
             [
              0.6666666666666666,
              "#ed7953"
             ],
             [
              0.7777777777777778,
              "#fb9f3a"
             ],
             [
              0.8888888888888888,
              "#fdca26"
             ],
             [
              1,
              "#f0f921"
             ]
            ],
            "type": "surface"
           }
          ],
          "table": [
           {
            "cells": {
             "fill": {
              "color": "#EBF0F8"
             },
             "line": {
              "color": "white"
             }
            },
            "header": {
             "fill": {
              "color": "#C8D4E3"
             },
             "line": {
              "color": "white"
             }
            },
            "type": "table"
           }
          ]
         },
         "layout": {
          "annotationdefaults": {
           "arrowcolor": "#2a3f5f",
           "arrowhead": 0,
           "arrowwidth": 1
          },
          "autotypenumbers": "strict",
          "coloraxis": {
           "colorbar": {
            "outlinewidth": 0,
            "ticks": ""
           }
          },
          "colorscale": {
           "diverging": [
            [
             0,
             "#8e0152"
            ],
            [
             0.1,
             "#c51b7d"
            ],
            [
             0.2,
             "#de77ae"
            ],
            [
             0.3,
             "#f1b6da"
            ],
            [
             0.4,
             "#fde0ef"
            ],
            [
             0.5,
             "#f7f7f7"
            ],
            [
             0.6,
             "#e6f5d0"
            ],
            [
             0.7,
             "#b8e186"
            ],
            [
             0.8,
             "#7fbc41"
            ],
            [
             0.9,
             "#4d9221"
            ],
            [
             1,
             "#276419"
            ]
           ],
           "sequential": [
            [
             0,
             "#0d0887"
            ],
            [
             0.1111111111111111,
             "#46039f"
            ],
            [
             0.2222222222222222,
             "#7201a8"
            ],
            [
             0.3333333333333333,
             "#9c179e"
            ],
            [
             0.4444444444444444,
             "#bd3786"
            ],
            [
             0.5555555555555556,
             "#d8576b"
            ],
            [
             0.6666666666666666,
             "#ed7953"
            ],
            [
             0.7777777777777778,
             "#fb9f3a"
            ],
            [
             0.8888888888888888,
             "#fdca26"
            ],
            [
             1,
             "#f0f921"
            ]
           ],
           "sequentialminus": [
            [
             0,
             "#0d0887"
            ],
            [
             0.1111111111111111,
             "#46039f"
            ],
            [
             0.2222222222222222,
             "#7201a8"
            ],
            [
             0.3333333333333333,
             "#9c179e"
            ],
            [
             0.4444444444444444,
             "#bd3786"
            ],
            [
             0.5555555555555556,
             "#d8576b"
            ],
            [
             0.6666666666666666,
             "#ed7953"
            ],
            [
             0.7777777777777778,
             "#fb9f3a"
            ],
            [
             0.8888888888888888,
             "#fdca26"
            ],
            [
             1,
             "#f0f921"
            ]
           ]
          },
          "colorway": [
           "#636efa",
           "#EF553B",
           "#00cc96",
           "#ab63fa",
           "#FFA15A",
           "#19d3f3",
           "#FF6692",
           "#B6E880",
           "#FF97FF",
           "#FECB52"
          ],
          "font": {
           "color": "#2a3f5f"
          },
          "geo": {
           "bgcolor": "white",
           "lakecolor": "white",
           "landcolor": "#E5ECF6",
           "showlakes": true,
           "showland": true,
           "subunitcolor": "white"
          },
          "hoverlabel": {
           "align": "left"
          },
          "hovermode": "closest",
          "mapbox": {
           "style": "light"
          },
          "paper_bgcolor": "white",
          "plot_bgcolor": "#E5ECF6",
          "polar": {
           "angularaxis": {
            "gridcolor": "white",
            "linecolor": "white",
            "ticks": ""
           },
           "bgcolor": "#E5ECF6",
           "radialaxis": {
            "gridcolor": "white",
            "linecolor": "white",
            "ticks": ""
           }
          },
          "scene": {
           "xaxis": {
            "backgroundcolor": "#E5ECF6",
            "gridcolor": "white",
            "gridwidth": 2,
            "linecolor": "white",
            "showbackground": true,
            "ticks": "",
            "zerolinecolor": "white"
           },
           "yaxis": {
            "backgroundcolor": "#E5ECF6",
            "gridcolor": "white",
            "gridwidth": 2,
            "linecolor": "white",
            "showbackground": true,
            "ticks": "",
            "zerolinecolor": "white"
           },
           "zaxis": {
            "backgroundcolor": "#E5ECF6",
            "gridcolor": "white",
            "gridwidth": 2,
            "linecolor": "white",
            "showbackground": true,
            "ticks": "",
            "zerolinecolor": "white"
           }
          },
          "shapedefaults": {
           "line": {
            "color": "#2a3f5f"
           }
          },
          "ternary": {
           "aaxis": {
            "gridcolor": "white",
            "linecolor": "white",
            "ticks": ""
           },
           "baxis": {
            "gridcolor": "white",
            "linecolor": "white",
            "ticks": ""
           },
           "bgcolor": "#E5ECF6",
           "caxis": {
            "gridcolor": "white",
            "linecolor": "white",
            "ticks": ""
           }
          },
          "title": {
           "x": 0.05
          },
          "xaxis": {
           "automargin": true,
           "gridcolor": "white",
           "linecolor": "white",
           "ticks": "",
           "title": {
            "standoff": 15
           },
           "zerolinecolor": "white",
           "zerolinewidth": 2
          },
          "yaxis": {
           "automargin": true,
           "gridcolor": "white",
           "linecolor": "white",
           "ticks": "",
           "title": {
            "standoff": 15
           },
           "zerolinecolor": "white",
           "zerolinewidth": 2
          }
         }
        },
        "title": {
         "text": "Histogramme des labels en fonction de la date de capture",
         "x": 0.5
        },
        "xaxis": {
         "anchor": "y",
         "domain": [
          0,
          1
         ],
         "title": {
          "text": "datetime_end"
         }
        },
        "yaxis": {
         "anchor": "x",
         "domain": [
          0,
          1
         ],
         "title": {
          "text": "count"
         }
        }
       }
      }
     },
     "metadata": {},
     "output_type": "display_data"
    }
   ],
   "source": [
    "fig = px.bar(hist_df, x=\"datetime_end\", y=\"count\", color=\"label\",\n",
    "            title=\"Histogramme des labels en fonction de la date de capture\",\n",
    "            color_discrete_sequence=px.colors.qualitative.G10_r)\n",
    "fig.update_layout(title_x=0.5)\n",
    "fig.show()\n",
    "fig.write_image(f\"count-extract-ugr16-{LEVEL}.svg\")"
   ]
  },
  {
   "cell_type": "markdown",
   "metadata": {},
   "source": [
    "## Preprocess\n",
    "Cette partie :\n",
    "1. Normaliser/Encoder les variables\n",
    "2. Diviser la dataset en deux jeux : TRAIN/TEST"
   ]
  },
  {
   "cell_type": "markdown",
   "metadata": {},
   "source": [
    "### One Hot Encoding\n",
    "Cela concerne les variables suivantes :\n",
    "* protocol : OHE\n",
    "* label : OHE\n",
    "* flag : split (0 ou 1)"
   ]
  },
  {
   "cell_type": "markdown",
   "metadata": {},
   "source": [
    "#### Statistique"
   ]
  },
  {
   "cell_type": "code",
   "execution_count": 96,
   "metadata": {},
   "outputs": [
    {
     "data": {
      "text/plain": [
       "TCP     100971\n",
       "UDP      42085\n",
       "ICMP       857\n",
       "GRE         47\n",
       "ESP         33\n",
       "IPIP         5\n",
       "IPv6         2\n",
       "Name: protocol, dtype: Int64"
      ]
     },
     "execution_count": 96,
     "metadata": {},
     "output_type": "execute_result"
    }
   ],
   "source": [
    "data_df.protocol.value_counts()"
   ]
  },
  {
   "cell_type": "code",
   "execution_count": 97,
   "metadata": {},
   "outputs": [
    {
     "data": {
      "text/plain": [
       "background         72000\n",
       "anomaly-spam        9000\n",
       "anomaly-sshscan     9000\n",
       "anomaly-udpscan     9000\n",
       "blacklist           9000\n",
       "dos                 9000\n",
       "nerisbotnet         9000\n",
       "scan11              9000\n",
       "scan44              9000\n",
       "Name: label, dtype: Int64"
      ]
     },
     "execution_count": 97,
     "metadata": {},
     "output_type": "execute_result"
    }
   ],
   "source": [
    "data_df.label.value_counts()"
   ]
  },
  {
   "cell_type": "code",
   "execution_count": 98,
   "metadata": {},
   "outputs": [
    {
     "data": {
      "text/plain": [
       ".A....    44407\n",
       ".AP.SF    32043\n",
       "....S.    23191\n",
       ".A..S.     9822\n",
       "...RS.     5988\n",
       ".APRS.     5409\n",
       ".AP.S.     3949\n",
       ".APRSF     3822\n",
       ".AP...     3347\n",
       ".A.R..     2538\n",
       "...R..     2494\n",
       ".A...F     2136\n",
       ".A..SF     1417\n",
       ".A.RS.     1222\n",
       ".AP..F      948\n",
       "......      843\n",
       ".A.R.F      175\n",
       ".APR..      156\n",
       ".APR.F       69\n",
       ".A.RSF       24\n",
       "Name: flag, dtype: Int64"
      ]
     },
     "execution_count": 98,
     "metadata": {},
     "output_type": "execute_result"
    }
   ],
   "source": [
    "data_df.flag.value_counts()"
   ]
  },
  {
   "cell_type": "markdown",
   "metadata": {},
   "source": [
    "#### `protocol` & `label`"
   ]
  },
  {
   "cell_type": "code",
   "execution_count": 99,
   "metadata": {},
   "outputs": [],
   "source": [
    "data_df = pd.get_dummies(data_df, columns=[\"protocol\", \"label\"])"
   ]
  },
  {
   "cell_type": "code",
   "execution_count": 100,
   "metadata": {},
   "outputs": [
    {
     "data": {
      "text/plain": [
       "Index(['label_anomaly-spam', 'label_anomaly-sshscan', 'label_anomaly-udpscan',\n",
       "       'label_background', 'label_blacklist', 'label_dos', 'label_nerisbotnet',\n",
       "       'label_scan11', 'label_scan44'],\n",
       "      dtype='object')"
      ]
     },
     "execution_count": 100,
     "metadata": {},
     "output_type": "execute_result"
    }
   ],
   "source": [
    "LABEL_COLUMN_LIST = data_df.columns[data_df.columns.str.startswith(\"label\")]\n",
    "LABEL_COLUMN_LIST"
   ]
  },
  {
   "cell_type": "code",
   "execution_count": 101,
   "metadata": {},
   "outputs": [
    {
     "data": {
      "text/plain": [
       "Index(['protocol_ESP', 'protocol_GRE', 'protocol_ICMP', 'protocol_IPIP',\n",
       "       'protocol_IPv6', 'protocol_TCP', 'protocol_UDP'],\n",
       "      dtype='object')"
      ]
     },
     "execution_count": 101,
     "metadata": {},
     "output_type": "execute_result"
    }
   ],
   "source": [
    "PROTOCOL_COLUMN_LIST = data_df.columns[data_df.columns.str.startswith(\"protocol\")]\n",
    "PROTOCOL_COLUMN_LIST"
   ]
  },
  {
   "cell_type": "markdown",
   "metadata": {},
   "source": [
    "#### `flag`"
   ]
  },
  {
   "cell_type": "code",
   "execution_count": 102,
   "metadata": {},
   "outputs": [],
   "source": [
    "FLAG_VALUE_LIST = [\"A\", \"P\", \"R\", \"S\", \"F\"]\n",
    "FLAG_ROOT = \"flag\"\n",
    "FLAG_COLUMN_LIST = [f\"{FLAG_ROOT}_{flag_value}\" for flag_value in FLAG_VALUE_LIST]\n",
    "\n",
    "def split_flag(flag_str):\n",
    "    # remove the first dot\n",
    "    flag_str = flag_str[1:]\n",
    "    # split each class of flag\n",
    "    flag_bool_list = [letter != \".\" for letter in flag_str]\n",
    "\n",
    "    return pd.Series(flag_bool_list, dtype=int, index=FLAG_COLUMN_LIST)\n",
    "\n",
    "# split_flag(\".AP.S.\")"
   ]
  },
  {
   "cell_type": "code",
   "execution_count": 103,
   "metadata": {},
   "outputs": [
    {
     "data": {
      "application/vnd.jupyter.widget-view+json": {
       "model_id": "d04d5704248f49ccb3963e3d32c05748",
       "version_major": 2,
       "version_minor": 0
      },
      "text/plain": [
       "  0%|          | 0/144000 [00:00<?, ?it/s]"
      ]
     },
     "metadata": {},
     "output_type": "display_data"
    }
   ],
   "source": [
    "flag_df = data_df.flag.progress_apply(split_flag)"
   ]
  },
  {
   "cell_type": "code",
   "execution_count": 104,
   "metadata": {},
   "outputs": [],
   "source": [
    "data_df = pd.concat([data_df, flag_df], axis=1)\n",
    "data_df.drop(columns=[\"flag\"], inplace=True)"
   ]
  },
  {
   "cell_type": "markdown",
   "metadata": {},
   "source": [
    "#### Export CSV"
   ]
  },
  {
   "cell_type": "code",
   "execution_count": 105,
   "metadata": {},
   "outputs": [],
   "source": [
    "data_df.to_csv(f\"../../data/normalize/one-hot_ugr16-{LEVEL}.csv\")"
   ]
  },
  {
   "cell_type": "code",
   "execution_count": 87,
   "metadata": {},
   "outputs": [
    {
     "name": "stdout",
     "output_type": "stream",
     "text": [
      "Index(['label_anomaly-spam', 'label_anomaly-sshscan', 'label_anomaly-udpscan',\n",
      "       'label_background', 'label_blacklist', 'label_dos', 'label_nerisbotnet',\n",
      "       'label_scan11', 'label_scan44'],\n",
      "      dtype='object')\n",
      "Index(['protocol_ESP', 'protocol_GRE', 'protocol_ICMP', 'protocol_IPIP',\n",
      "       'protocol_IPv6', 'protocol_TCP', 'protocol_UDP'],\n",
      "      dtype='object')\n",
      "['flag_A', 'flag_P', 'flag_R', 'flag_S', 'flag_F']\n"
     ]
    }
   ],
   "source": [
    "print(LABEL_COLUMN_LIST)\n",
    "print(PROTOCOL_COLUMN_LIST)\n",
    "print(FLAG_COLUMN_LIST)"
   ]
  },
  {
   "cell_type": "markdown",
   "metadata": {},
   "source": [
    "### Split TRAIN/TEST"
   ]
  },
  {
   "cell_type": "code",
   "execution_count": 3,
   "metadata": {},
   "outputs": [],
   "source": [
    "from sklearn.model_selection import train_test_split"
   ]
  },
  {
   "cell_type": "code",
   "execution_count": 9,
   "metadata": {},
   "outputs": [],
   "source": [
    "LEVEL = \"small\"\n",
    "LABEL_COLUMN_LIST = ['label_anomaly-spam', 'label_anomaly-sshscan', 'label_anomaly-udpscan',\n",
    "                    'label_background', 'label_blacklist', 'label_dos', 'label_nerisbotnet',\n",
    "                    'label_scan11', 'label_scan44']"
   ]
  },
  {
   "cell_type": "code",
   "execution_count": 10,
   "metadata": {},
   "outputs": [
    {
     "data": {
      "text/html": [
       "<div>\n",
       "<style scoped>\n",
       "    .dataframe tbody tr th:only-of-type {\n",
       "        vertical-align: middle;\n",
       "    }\n",
       "\n",
       "    .dataframe tbody tr th {\n",
       "        vertical-align: top;\n",
       "    }\n",
       "\n",
       "    .dataframe thead th {\n",
       "        text-align: right;\n",
       "    }\n",
       "</style>\n",
       "<table border=\"1\" class=\"dataframe\">\n",
       "  <thead>\n",
       "    <tr style=\"text-align: right;\">\n",
       "      <th></th>\n",
       "      <th>datetime_end</th>\n",
       "      <th>duration</th>\n",
       "      <th>source_ip</th>\n",
       "      <th>destination_ip</th>\n",
       "      <th>source_port</th>\n",
       "      <th>destination_port</th>\n",
       "      <th>protocol</th>\n",
       "      <th>flag</th>\n",
       "      <th>forwarding</th>\n",
       "      <th>type</th>\n",
       "      <th>packet</th>\n",
       "      <th>byte</th>\n",
       "      <th>label</th>\n",
       "    </tr>\n",
       "  </thead>\n",
       "  <tbody>\n",
       "    <tr>\n",
       "      <th>0</th>\n",
       "      <td>2016-08-07 21:08:25</td>\n",
       "      <td>0.484</td>\n",
       "      <td>253.139.127.229</td>\n",
       "      <td>42.219.156.215</td>\n",
       "      <td>25</td>\n",
       "      <td>48324</td>\n",
       "      <td>TCP</td>\n",
       "      <td>.AP.SF</td>\n",
       "      <td>0</td>\n",
       "      <td>0</td>\n",
       "      <td>5</td>\n",
       "      <td>564</td>\n",
       "      <td>anomaly-spam</td>\n",
       "    </tr>\n",
       "    <tr>\n",
       "      <th>1</th>\n",
       "      <td>2016-08-08 14:10:17</td>\n",
       "      <td>0.468</td>\n",
       "      <td>253.139.127.230</td>\n",
       "      <td>42.219.156.213</td>\n",
       "      <td>25</td>\n",
       "      <td>51871</td>\n",
       "      <td>TCP</td>\n",
       "      <td>.AP.SF</td>\n",
       "      <td>0</td>\n",
       "      <td>0</td>\n",
       "      <td>5</td>\n",
       "      <td>564</td>\n",
       "      <td>anomaly-spam</td>\n",
       "    </tr>\n",
       "    <tr>\n",
       "      <th>2</th>\n",
       "      <td>2016-03-24 11:35:33</td>\n",
       "      <td>0.296</td>\n",
       "      <td>42.219.156.223</td>\n",
       "      <td>108.66.255.194</td>\n",
       "      <td>40484</td>\n",
       "      <td>25</td>\n",
       "      <td>TCP</td>\n",
       "      <td>.A.RS.</td>\n",
       "      <td>0</td>\n",
       "      <td>0</td>\n",
       "      <td>4</td>\n",
       "      <td>216</td>\n",
       "      <td>anomaly-spam</td>\n",
       "    </tr>\n",
       "    <tr>\n",
       "      <th>3</th>\n",
       "      <td>2016-08-07 00:10:32</td>\n",
       "      <td>2.616</td>\n",
       "      <td>42.219.156.214</td>\n",
       "      <td>194.192.119.38</td>\n",
       "      <td>44877</td>\n",
       "      <td>25</td>\n",
       "      <td>TCP</td>\n",
       "      <td>.APRS.</td>\n",
       "      <td>0</td>\n",
       "      <td>0</td>\n",
       "      <td>21</td>\n",
       "      <td>7486</td>\n",
       "      <td>anomaly-spam</td>\n",
       "    </tr>\n",
       "    <tr>\n",
       "      <th>4</th>\n",
       "      <td>2016-08-06 22:40:05</td>\n",
       "      <td>0.364</td>\n",
       "      <td>194.192.119.34</td>\n",
       "      <td>42.219.156.215</td>\n",
       "      <td>25</td>\n",
       "      <td>35728</td>\n",
       "      <td>TCP</td>\n",
       "      <td>.AP.SF</td>\n",
       "      <td>0</td>\n",
       "      <td>0</td>\n",
       "      <td>5</td>\n",
       "      <td>564</td>\n",
       "      <td>anomaly-spam</td>\n",
       "    </tr>\n",
       "  </tbody>\n",
       "</table>\n",
       "</div>"
      ],
      "text/plain": [
       "          datetime_end  duration        source_ip  destination_ip  \\\n",
       "0  2016-08-07 21:08:25     0.484  253.139.127.229  42.219.156.215   \n",
       "1  2016-08-08 14:10:17     0.468  253.139.127.230  42.219.156.213   \n",
       "2  2016-03-24 11:35:33     0.296   42.219.156.223  108.66.255.194   \n",
       "3  2016-08-07 00:10:32     2.616   42.219.156.214  194.192.119.38   \n",
       "4  2016-08-06 22:40:05     0.364   194.192.119.34  42.219.156.215   \n",
       "\n",
       "   source_port  destination_port protocol    flag  forwarding  type  packet  \\\n",
       "0           25             48324      TCP  .AP.SF           0     0       5   \n",
       "1           25             51871      TCP  .AP.SF           0     0       5   \n",
       "2        40484                25      TCP  .A.RS.           0     0       4   \n",
       "3        44877                25      TCP  .APRS.           0     0      21   \n",
       "4           25             35728      TCP  .AP.SF           0     0       5   \n",
       "\n",
       "   byte         label  \n",
       "0   564  anomaly-spam  \n",
       "1   564  anomaly-spam  \n",
       "2   216  anomaly-spam  \n",
       "3  7486  anomaly-spam  \n",
       "4   564  anomaly-spam  "
      ]
     },
     "execution_count": 10,
     "metadata": {},
     "output_type": "execute_result"
    }
   ],
   "source": [
    "RAW_DATASET_PATH = f\"../../data/extract/ugr16-{LEVEL}.csv\"\n",
    "data_df = pd.read_csv(RAW_DATASET_PATH, index_col=0)\n",
    "data_df.head()"
   ]
  },
  {
   "cell_type": "code",
   "execution_count": 11,
   "metadata": {},
   "outputs": [
    {
     "data": {
      "text/html": [
       "<div>\n",
       "<style scoped>\n",
       "    .dataframe tbody tr th:only-of-type {\n",
       "        vertical-align: middle;\n",
       "    }\n",
       "\n",
       "    .dataframe tbody tr th {\n",
       "        vertical-align: top;\n",
       "    }\n",
       "\n",
       "    .dataframe thead th {\n",
       "        text-align: right;\n",
       "    }\n",
       "</style>\n",
       "<table border=\"1\" class=\"dataframe\">\n",
       "  <thead>\n",
       "    <tr style=\"text-align: right;\">\n",
       "      <th></th>\n",
       "      <th>datetime_end</th>\n",
       "      <th>duration</th>\n",
       "      <th>source_ip</th>\n",
       "      <th>destination_ip</th>\n",
       "      <th>source_port</th>\n",
       "      <th>destination_port</th>\n",
       "      <th>forwarding</th>\n",
       "      <th>type</th>\n",
       "      <th>packet</th>\n",
       "      <th>byte</th>\n",
       "      <th>...</th>\n",
       "      <th>label_blacklist</th>\n",
       "      <th>label_dos</th>\n",
       "      <th>label_nerisbotnet</th>\n",
       "      <th>label_scan11</th>\n",
       "      <th>label_scan44</th>\n",
       "      <th>flag_A</th>\n",
       "      <th>flag_P</th>\n",
       "      <th>flag_R</th>\n",
       "      <th>flag_S</th>\n",
       "      <th>flag_F</th>\n",
       "    </tr>\n",
       "  </thead>\n",
       "  <tbody>\n",
       "    <tr>\n",
       "      <th>0</th>\n",
       "      <td>2016-08-07 21:08:25</td>\n",
       "      <td>0.484</td>\n",
       "      <td>253.139.127.229</td>\n",
       "      <td>42.219.156.215</td>\n",
       "      <td>25</td>\n",
       "      <td>48324</td>\n",
       "      <td>0</td>\n",
       "      <td>0</td>\n",
       "      <td>5</td>\n",
       "      <td>564</td>\n",
       "      <td>...</td>\n",
       "      <td>0</td>\n",
       "      <td>0</td>\n",
       "      <td>0</td>\n",
       "      <td>0</td>\n",
       "      <td>0</td>\n",
       "      <td>1</td>\n",
       "      <td>1</td>\n",
       "      <td>0</td>\n",
       "      <td>1</td>\n",
       "      <td>1</td>\n",
       "    </tr>\n",
       "    <tr>\n",
       "      <th>1</th>\n",
       "      <td>2016-08-08 14:10:17</td>\n",
       "      <td>0.468</td>\n",
       "      <td>253.139.127.230</td>\n",
       "      <td>42.219.156.213</td>\n",
       "      <td>25</td>\n",
       "      <td>51871</td>\n",
       "      <td>0</td>\n",
       "      <td>0</td>\n",
       "      <td>5</td>\n",
       "      <td>564</td>\n",
       "      <td>...</td>\n",
       "      <td>0</td>\n",
       "      <td>0</td>\n",
       "      <td>0</td>\n",
       "      <td>0</td>\n",
       "      <td>0</td>\n",
       "      <td>1</td>\n",
       "      <td>1</td>\n",
       "      <td>0</td>\n",
       "      <td>1</td>\n",
       "      <td>1</td>\n",
       "    </tr>\n",
       "    <tr>\n",
       "      <th>2</th>\n",
       "      <td>2016-03-24 11:35:33</td>\n",
       "      <td>0.296</td>\n",
       "      <td>42.219.156.223</td>\n",
       "      <td>108.66.255.194</td>\n",
       "      <td>40484</td>\n",
       "      <td>25</td>\n",
       "      <td>0</td>\n",
       "      <td>0</td>\n",
       "      <td>4</td>\n",
       "      <td>216</td>\n",
       "      <td>...</td>\n",
       "      <td>0</td>\n",
       "      <td>0</td>\n",
       "      <td>0</td>\n",
       "      <td>0</td>\n",
       "      <td>0</td>\n",
       "      <td>1</td>\n",
       "      <td>0</td>\n",
       "      <td>1</td>\n",
       "      <td>1</td>\n",
       "      <td>0</td>\n",
       "    </tr>\n",
       "    <tr>\n",
       "      <th>3</th>\n",
       "      <td>2016-08-07 00:10:32</td>\n",
       "      <td>2.616</td>\n",
       "      <td>42.219.156.214</td>\n",
       "      <td>194.192.119.38</td>\n",
       "      <td>44877</td>\n",
       "      <td>25</td>\n",
       "      <td>0</td>\n",
       "      <td>0</td>\n",
       "      <td>21</td>\n",
       "      <td>7486</td>\n",
       "      <td>...</td>\n",
       "      <td>0</td>\n",
       "      <td>0</td>\n",
       "      <td>0</td>\n",
       "      <td>0</td>\n",
       "      <td>0</td>\n",
       "      <td>1</td>\n",
       "      <td>1</td>\n",
       "      <td>1</td>\n",
       "      <td>1</td>\n",
       "      <td>0</td>\n",
       "    </tr>\n",
       "    <tr>\n",
       "      <th>4</th>\n",
       "      <td>2016-08-06 22:40:05</td>\n",
       "      <td>0.364</td>\n",
       "      <td>194.192.119.34</td>\n",
       "      <td>42.219.156.215</td>\n",
       "      <td>25</td>\n",
       "      <td>35728</td>\n",
       "      <td>0</td>\n",
       "      <td>0</td>\n",
       "      <td>5</td>\n",
       "      <td>564</td>\n",
       "      <td>...</td>\n",
       "      <td>0</td>\n",
       "      <td>0</td>\n",
       "      <td>0</td>\n",
       "      <td>0</td>\n",
       "      <td>0</td>\n",
       "      <td>1</td>\n",
       "      <td>1</td>\n",
       "      <td>0</td>\n",
       "      <td>1</td>\n",
       "      <td>1</td>\n",
       "    </tr>\n",
       "  </tbody>\n",
       "</table>\n",
       "<p>5 rows × 31 columns</p>\n",
       "</div>"
      ],
      "text/plain": [
       "          datetime_end  duration        source_ip  destination_ip  \\\n",
       "0  2016-08-07 21:08:25     0.484  253.139.127.229  42.219.156.215   \n",
       "1  2016-08-08 14:10:17     0.468  253.139.127.230  42.219.156.213   \n",
       "2  2016-03-24 11:35:33     0.296   42.219.156.223  108.66.255.194   \n",
       "3  2016-08-07 00:10:32     2.616   42.219.156.214  194.192.119.38   \n",
       "4  2016-08-06 22:40:05     0.364   194.192.119.34  42.219.156.215   \n",
       "\n",
       "   source_port  destination_port  forwarding  type  packet  byte  ...  \\\n",
       "0           25             48324           0     0       5   564  ...   \n",
       "1           25             51871           0     0       5   564  ...   \n",
       "2        40484                25           0     0       4   216  ...   \n",
       "3        44877                25           0     0      21  7486  ...   \n",
       "4           25             35728           0     0       5   564  ...   \n",
       "\n",
       "   label_blacklist  label_dos  label_nerisbotnet  label_scan11  label_scan44  \\\n",
       "0                0          0                  0             0             0   \n",
       "1                0          0                  0             0             0   \n",
       "2                0          0                  0             0             0   \n",
       "3                0          0                  0             0             0   \n",
       "4                0          0                  0             0             0   \n",
       "\n",
       "   flag_A  flag_P  flag_R  flag_S  flag_F  \n",
       "0       1       1       0       1       1  \n",
       "1       1       1       0       1       1  \n",
       "2       1       0       1       1       0  \n",
       "3       1       1       1       1       0  \n",
       "4       1       1       0       1       1  \n",
       "\n",
       "[5 rows x 31 columns]"
      ]
     },
     "execution_count": 11,
     "metadata": {},
     "output_type": "execute_result"
    }
   ],
   "source": [
    "ONE_HOT_DATASET_PATH = f\"../../data/normalize/one-hot_ugr16-{LEVEL}.csv\"\n",
    "one_hot_data_df = pd.read_csv(ONE_HOT_DATASET_PATH, index_col=0)\n",
    "one_hot_data_df.head()"
   ]
  },
  {
   "cell_type": "code",
   "execution_count": 12,
   "metadata": {},
   "outputs": [],
   "source": [
    "train_df, test_df = train_test_split(one_hot_data_df, test_size=0.1, shuffle=True, random_state=42, stratify=data_df.label)"
   ]
  },
  {
   "cell_type": "code",
   "execution_count": 13,
   "metadata": {},
   "outputs": [
    {
     "data": {
      "text/plain": [
       "label_anomaly-spam        900\n",
       "label_anomaly-sshscan     900\n",
       "label_anomaly-udpscan     900\n",
       "label_background         7200\n",
       "label_blacklist           900\n",
       "label_dos                 900\n",
       "label_nerisbotnet         900\n",
       "label_scan11              900\n",
       "label_scan44              900\n",
       "dtype: int64"
      ]
     },
     "execution_count": 13,
     "metadata": {},
     "output_type": "execute_result"
    }
   ],
   "source": [
    "test_df[LABEL_COLUMN_LIST].sum()"
   ]
  },
  {
   "cell_type": "code",
   "execution_count": 141,
   "metadata": {},
   "outputs": [],
   "source": [
    "train_df.to_csv(f\"../../data/normalize/one-hot_train-ugr16-{LEVEL}.csv\")\n",
    "test_df.to_csv(f\"../../data/normalize/one-hot_test-ugr16-{LEVEL}.csv\")"
   ]
  },
  {
   "cell_type": "markdown",
   "metadata": {},
   "source": [
    "### Standardisation\n",
    "Parfois, certain parle de \"Normalisation\". Ici, on centre (espérance = 0) et on réduit (ecart-type = 1) un certain nombre de variables.\n",
    "\n",
    "Cela concerne les variables suivantes :\n",
    "* duration : Normaliser\n",
    "* type : Normaliser\n",
    "* packet : Normaliser\n",
    "* byte : Normaliser"
   ]
  },
  {
   "cell_type": "code",
   "execution_count": null,
   "metadata": {},
   "outputs": [],
   "source": []
  },
  {
   "cell_type": "markdown",
   "metadata": {},
   "source": [
    "### Normalisation\n",
    "Cela concerne les variables suivantes :\n",
    "* datetime_end : jour / seconde\n",
    "* source_ip : split / 255\n",
    "* destination_ip : split / 255\n",
    "* source_port : /65535\n",
    "* destination_port : /65535"
   ]
  },
  {
   "cell_type": "code",
   "execution_count": null,
   "metadata": {},
   "outputs": [],
   "source": []
  },
  {
   "cell_type": "markdown",
   "metadata": {},
   "source": [
    "---\n",
    "\n",
    "* forwarding ???"
   ]
  }
 ],
 "metadata": {
  "interpreter": {
   "hash": "ee9eb1c0c2d3d5fd1f863f1cc58cbab3365ceba20654f2ce47b07e2c22606099"
  },
  "kernelspec": {
   "display_name": "Python 3.8.5 ('.venv': poetry)",
   "language": "python",
   "name": "python3"
  },
  "language_info": {
   "codemirror_mode": {
    "name": "ipython",
    "version": 3
   },
   "file_extension": ".py",
   "mimetype": "text/x-python",
   "name": "python",
   "nbconvert_exporter": "python",
   "pygments_lexer": "ipython3",
   "version": "3.8.5"
  },
  "orig_nbformat": 4
 },
 "nbformat": 4,
 "nbformat_minor": 2
}
