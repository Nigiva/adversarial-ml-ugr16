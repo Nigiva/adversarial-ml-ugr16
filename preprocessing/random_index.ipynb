{
 "cells": [
  {
   "cell_type": "code",
   "execution_count": 23,
   "metadata": {},
   "outputs": [],
   "source": [
    "%config InlineBackend.figure_formats = ['svg']\n",
    "\n",
    "import glob\n",
    "import pandas as pd\n",
    "import json\n",
    "import os\n",
    "import seaborn as sns\n",
    "from matplotlib import pyplot as plt\n",
    "import numpy as np\n",
    "from tqdm import tqdm\n",
    "import random\n",
    "\n",
    "sns.set_theme(style=\"darkgrid\", palette=\"colorblind\")"
   ]
  },
  {
   "cell_type": "markdown",
   "metadata": {},
   "source": [
    "## Statistiques sur les jeux de données"
   ]
  },
  {
   "cell_type": "code",
   "execution_count": 24,
   "metadata": {},
   "outputs": [],
   "source": [
    "DATA_PATH = \"../data\"\n",
    "COUNT_PATH = os.path.join(DATA_PATH, \"count\")"
   ]
  },
  {
   "cell_type": "code",
   "execution_count": 25,
   "metadata": {},
   "outputs": [],
   "source": [
    "calibration_path_list = glob.glob(os.path.join(COUNT_PATH, \"calibration-*.json\"))\n",
    "test_path_list = glob.glob(os.path.join(COUNT_PATH, \"test-*.json\"))"
   ]
  },
  {
   "cell_type": "code",
   "execution_count": 26,
   "metadata": {},
   "outputs": [],
   "source": [
    "def open_and_read_json(file_path):\n",
    "    with open(file_path, \"r\") as f:\n",
    "        extract_dict = json.loads(f.read())\n",
    "        extract_dict[\"name\"] = os.path.basename(file_path)[:-5]\n",
    "        return extract_dict\n",
    "\n",
    "calibration_list = [open_and_read_json(file_path) for file_path in calibration_path_list]\n",
    "test_list = [open_and_read_json(file_path) for file_path in test_path_list]"
   ]
  },
  {
   "cell_type": "code",
   "execution_count": 27,
   "metadata": {},
   "outputs": [],
   "source": [
    "calibration_df = pd.DataFrame(calibration_list)\n",
    "test_df = pd.DataFrame(test_list)\n",
    "\n",
    "calibration_df.set_index(\"name\", inplace=True)\n",
    "test_df.set_index(\"name\", inplace=True)\n",
    "\n",
    "calibration_df.fillna(0, inplace=True)\n",
    "test_df.fillna(0, inplace=True)\n",
    "\n",
    "calibration_df = calibration_df.astype(int)\n",
    "test_df = test_df.astype(int)"
   ]
  },
  {
   "cell_type": "markdown",
   "metadata": {},
   "source": [
    "### Répartition du nombre de labels par mois/semaine"
   ]
  },
  {
   "cell_type": "code",
   "execution_count": 28,
   "metadata": {},
   "outputs": [
    {
     "data": {
      "text/plain": [
       "Text(0, 0.5, \"Nombre d'exemples\")"
      ]
     },
     "execution_count": 28,
     "metadata": {},
     "output_type": "execute_result"
    },
    {
     "data": {
      "image/svg+xml": "<?xml version=\"1.0\" encoding=\"utf-8\" standalone=\"no\"?>\n<!DOCTYPE svg PUBLIC \"-//W3C//DTD SVG 1.1//EN\"\n  \"http://www.w3.org/Graphics/SVG/1.1/DTD/svg11.dtd\">\n<svg xmlns:xlink=\"http://www.w3.org/1999/xlink\" width=\"664.209531pt\" height=\"500.078594pt\" viewBox=\"0 0 664.209531 500.078594\" xmlns=\"http://www.w3.org/2000/svg\" version=\"1.1\">\n <metadata>\n  <rdf:RDF xmlns:dc=\"http://purl.org/dc/elements/1.1/\" xmlns:cc=\"http://creativecommons.org/ns#\" xmlns:rdf=\"http://www.w3.org/1999/02/22-rdf-syntax-ns#\">\n   <cc:Work>\n    <dc:type rdf:resource=\"http://purl.org/dc/dcmitype/StillImage\"/>\n    <dc:date>2022-04-28T14:23:27.517617</dc:date>\n    <dc:format>image/svg+xml</dc:format>\n    <dc:creator>\n     <cc:Agent>\n      <dc:title>Matplotlib v3.5.1, https://matplotlib.org/</dc:title>\n     </cc:Agent>\n    </dc:creator>\n   </cc:Work>\n  </rdf:RDF>\n </metadata>\n <defs>\n  <style type=\"text/css\">*{stroke-linejoin: round; stroke-linecap: butt}</style>\n </defs>\n <g id=\"figure_1\">\n  <g id=\"patch_1\">\n   <path d=\"M 0 500.078594 \nL 664.209531 500.078594 \nL 664.209531 0 \nL 0 0 \nz\n\" style=\"fill: #ffffff\"/>\n  </g>\n  <g id=\"axes_1\">\n   <g id=\"patch_2\">\n    <path d=\"M 53.104766 331.431875 \nL 611.104766 331.431875 \nL 611.104766 59.631875 \nL 53.104766 59.631875 \nz\n\" style=\"fill: #eaeaf2\"/>\n   </g>\n   <g id=\"matplotlib.axis_1\">\n    <g id=\"xtick_1\">\n     <g id=\"line2d_1\">\n      <path d=\"M 74.070084 331.431875 \nL 74.070084 59.631875 \n\" clip-path=\"url(#p38241cbd11)\" style=\"fill: none; stroke: #ffffff; stroke-linecap: round\"/>\n     </g>\n     <g id=\"text_1\">\n      <!-- calibration-june.week4 -->\n      <g style=\"fill: #262626\" transform=\"translate(77.105396 466.282031)rotate(-90)scale(0.11 -0.11)\">\n       <defs>\n        <path id=\"DejaVuSans-63\" d=\"M 3122 3366 \nL 3122 2828 \nQ 2878 2963 2633 3030 \nQ 2388 3097 2138 3097 \nQ 1578 3097 1268 2742 \nQ 959 2388 959 1747 \nQ 959 1106 1268 751 \nQ 1578 397 2138 397 \nQ 2388 397 2633 464 \nQ 2878 531 3122 666 \nL 3122 134 \nQ 2881 22 2623 -34 \nQ 2366 -91 2075 -91 \nQ 1284 -91 818 406 \nQ 353 903 353 1747 \nQ 353 2603 823 3093 \nQ 1294 3584 2113 3584 \nQ 2378 3584 2631 3529 \nQ 2884 3475 3122 3366 \nz\n\" transform=\"scale(0.015625)\"/>\n        <path id=\"DejaVuSans-61\" d=\"M 2194 1759 \nQ 1497 1759 1228 1600 \nQ 959 1441 959 1056 \nQ 959 750 1161 570 \nQ 1363 391 1709 391 \nQ 2188 391 2477 730 \nQ 2766 1069 2766 1631 \nL 2766 1759 \nL 2194 1759 \nz\nM 3341 1997 \nL 3341 0 \nL 2766 0 \nL 2766 531 \nQ 2569 213 2275 61 \nQ 1981 -91 1556 -91 \nQ 1019 -91 701 211 \nQ 384 513 384 1019 \nQ 384 1609 779 1909 \nQ 1175 2209 1959 2209 \nL 2766 2209 \nL 2766 2266 \nQ 2766 2663 2505 2880 \nQ 2244 3097 1772 3097 \nQ 1472 3097 1187 3025 \nQ 903 2953 641 2809 \nL 641 3341 \nQ 956 3463 1253 3523 \nQ 1550 3584 1831 3584 \nQ 2591 3584 2966 3190 \nQ 3341 2797 3341 1997 \nz\n\" transform=\"scale(0.015625)\"/>\n        <path id=\"DejaVuSans-6c\" d=\"M 603 4863 \nL 1178 4863 \nL 1178 0 \nL 603 0 \nL 603 4863 \nz\n\" transform=\"scale(0.015625)\"/>\n        <path id=\"DejaVuSans-69\" d=\"M 603 3500 \nL 1178 3500 \nL 1178 0 \nL 603 0 \nL 603 3500 \nz\nM 603 4863 \nL 1178 4863 \nL 1178 4134 \nL 603 4134 \nL 603 4863 \nz\n\" transform=\"scale(0.015625)\"/>\n        <path id=\"DejaVuSans-62\" d=\"M 3116 1747 \nQ 3116 2381 2855 2742 \nQ 2594 3103 2138 3103 \nQ 1681 3103 1420 2742 \nQ 1159 2381 1159 1747 \nQ 1159 1113 1420 752 \nQ 1681 391 2138 391 \nQ 2594 391 2855 752 \nQ 3116 1113 3116 1747 \nz\nM 1159 2969 \nQ 1341 3281 1617 3432 \nQ 1894 3584 2278 3584 \nQ 2916 3584 3314 3078 \nQ 3713 2572 3713 1747 \nQ 3713 922 3314 415 \nQ 2916 -91 2278 -91 \nQ 1894 -91 1617 61 \nQ 1341 213 1159 525 \nL 1159 0 \nL 581 0 \nL 581 4863 \nL 1159 4863 \nL 1159 2969 \nz\n\" transform=\"scale(0.015625)\"/>\n        <path id=\"DejaVuSans-72\" d=\"M 2631 2963 \nQ 2534 3019 2420 3045 \nQ 2306 3072 2169 3072 \nQ 1681 3072 1420 2755 \nQ 1159 2438 1159 1844 \nL 1159 0 \nL 581 0 \nL 581 3500 \nL 1159 3500 \nL 1159 2956 \nQ 1341 3275 1631 3429 \nQ 1922 3584 2338 3584 \nQ 2397 3584 2469 3576 \nQ 2541 3569 2628 3553 \nL 2631 2963 \nz\n\" transform=\"scale(0.015625)\"/>\n        <path id=\"DejaVuSans-74\" d=\"M 1172 4494 \nL 1172 3500 \nL 2356 3500 \nL 2356 3053 \nL 1172 3053 \nL 1172 1153 \nQ 1172 725 1289 603 \nQ 1406 481 1766 481 \nL 2356 481 \nL 2356 0 \nL 1766 0 \nQ 1100 0 847 248 \nQ 594 497 594 1153 \nL 594 3053 \nL 172 3053 \nL 172 3500 \nL 594 3500 \nL 594 4494 \nL 1172 4494 \nz\n\" transform=\"scale(0.015625)\"/>\n        <path id=\"DejaVuSans-6f\" d=\"M 1959 3097 \nQ 1497 3097 1228 2736 \nQ 959 2375 959 1747 \nQ 959 1119 1226 758 \nQ 1494 397 1959 397 \nQ 2419 397 2687 759 \nQ 2956 1122 2956 1747 \nQ 2956 2369 2687 2733 \nQ 2419 3097 1959 3097 \nz\nM 1959 3584 \nQ 2709 3584 3137 3096 \nQ 3566 2609 3566 1747 \nQ 3566 888 3137 398 \nQ 2709 -91 1959 -91 \nQ 1206 -91 779 398 \nQ 353 888 353 1747 \nQ 353 2609 779 3096 \nQ 1206 3584 1959 3584 \nz\n\" transform=\"scale(0.015625)\"/>\n        <path id=\"DejaVuSans-6e\" d=\"M 3513 2113 \nL 3513 0 \nL 2938 0 \nL 2938 2094 \nQ 2938 2591 2744 2837 \nQ 2550 3084 2163 3084 \nQ 1697 3084 1428 2787 \nQ 1159 2491 1159 1978 \nL 1159 0 \nL 581 0 \nL 581 3500 \nL 1159 3500 \nL 1159 2956 \nQ 1366 3272 1645 3428 \nQ 1925 3584 2291 3584 \nQ 2894 3584 3203 3211 \nQ 3513 2838 3513 2113 \nz\n\" transform=\"scale(0.015625)\"/>\n        <path id=\"DejaVuSans-2d\" d=\"M 313 2009 \nL 1997 2009 \nL 1997 1497 \nL 313 1497 \nL 313 2009 \nz\n\" transform=\"scale(0.015625)\"/>\n        <path id=\"DejaVuSans-6a\" d=\"M 603 3500 \nL 1178 3500 \nL 1178 -63 \nQ 1178 -731 923 -1031 \nQ 669 -1331 103 -1331 \nL -116 -1331 \nL -116 -844 \nL 38 -844 \nQ 366 -844 484 -692 \nQ 603 -541 603 -63 \nL 603 3500 \nz\nM 603 4863 \nL 1178 4863 \nL 1178 4134 \nL 603 4134 \nL 603 4863 \nz\n\" transform=\"scale(0.015625)\"/>\n        <path id=\"DejaVuSans-75\" d=\"M 544 1381 \nL 544 3500 \nL 1119 3500 \nL 1119 1403 \nQ 1119 906 1312 657 \nQ 1506 409 1894 409 \nQ 2359 409 2629 706 \nQ 2900 1003 2900 1516 \nL 2900 3500 \nL 3475 3500 \nL 3475 0 \nL 2900 0 \nL 2900 538 \nQ 2691 219 2414 64 \nQ 2138 -91 1772 -91 \nQ 1169 -91 856 284 \nQ 544 659 544 1381 \nz\nM 1991 3584 \nL 1991 3584 \nz\n\" transform=\"scale(0.015625)\"/>\n        <path id=\"DejaVuSans-65\" d=\"M 3597 1894 \nL 3597 1613 \nL 953 1613 \nQ 991 1019 1311 708 \nQ 1631 397 2203 397 \nQ 2534 397 2845 478 \nQ 3156 559 3463 722 \nL 3463 178 \nQ 3153 47 2828 -22 \nQ 2503 -91 2169 -91 \nQ 1331 -91 842 396 \nQ 353 884 353 1716 \nQ 353 2575 817 3079 \nQ 1281 3584 2069 3584 \nQ 2775 3584 3186 3129 \nQ 3597 2675 3597 1894 \nz\nM 3022 2063 \nQ 3016 2534 2758 2815 \nQ 2500 3097 2075 3097 \nQ 1594 3097 1305 2825 \nQ 1016 2553 972 2059 \nL 3022 2063 \nz\n\" transform=\"scale(0.015625)\"/>\n        <path id=\"DejaVuSans-2e\" d=\"M 684 794 \nL 1344 794 \nL 1344 0 \nL 684 0 \nL 684 794 \nz\n\" transform=\"scale(0.015625)\"/>\n        <path id=\"DejaVuSans-77\" d=\"M 269 3500 \nL 844 3500 \nL 1563 769 \nL 2278 3500 \nL 2956 3500 \nL 3675 769 \nL 4391 3500 \nL 4966 3500 \nL 4050 0 \nL 3372 0 \nL 2619 2869 \nL 1863 0 \nL 1184 0 \nL 269 3500 \nz\n\" transform=\"scale(0.015625)\"/>\n        <path id=\"DejaVuSans-6b\" d=\"M 581 4863 \nL 1159 4863 \nL 1159 1991 \nL 2875 3500 \nL 3609 3500 \nL 1753 1863 \nL 3688 0 \nL 2938 0 \nL 1159 1709 \nL 1159 0 \nL 581 0 \nL 581 4863 \nz\n\" transform=\"scale(0.015625)\"/>\n        <path id=\"DejaVuSans-34\" d=\"M 2419 4116 \nL 825 1625 \nL 2419 1625 \nL 2419 4116 \nz\nM 2253 4666 \nL 3047 4666 \nL 3047 1625 \nL 3713 1625 \nL 3713 1100 \nL 3047 1100 \nL 3047 0 \nL 2419 0 \nL 2419 1100 \nL 313 1100 \nL 313 1709 \nL 2253 4666 \nz\n\" transform=\"scale(0.015625)\"/>\n       </defs>\n       <use xlink:href=\"#DejaVuSans-63\"/>\n       <use xlink:href=\"#DejaVuSans-61\" x=\"54.980469\"/>\n       <use xlink:href=\"#DejaVuSans-6c\" x=\"116.259766\"/>\n       <use xlink:href=\"#DejaVuSans-69\" x=\"144.042969\"/>\n       <use xlink:href=\"#DejaVuSans-62\" x=\"171.826172\"/>\n       <use xlink:href=\"#DejaVuSans-72\" x=\"235.302734\"/>\n       <use xlink:href=\"#DejaVuSans-61\" x=\"276.416016\"/>\n       <use xlink:href=\"#DejaVuSans-74\" x=\"337.695312\"/>\n       <use xlink:href=\"#DejaVuSans-69\" x=\"376.904297\"/>\n       <use xlink:href=\"#DejaVuSans-6f\" x=\"404.6875\"/>\n       <use xlink:href=\"#DejaVuSans-6e\" x=\"465.869141\"/>\n       <use xlink:href=\"#DejaVuSans-2d\" x=\"529.248047\"/>\n       <use xlink:href=\"#DejaVuSans-6a\" x=\"565.332031\"/>\n       <use xlink:href=\"#DejaVuSans-75\" x=\"593.115234\"/>\n       <use xlink:href=\"#DejaVuSans-6e\" x=\"656.494141\"/>\n       <use xlink:href=\"#DejaVuSans-65\" x=\"719.873047\"/>\n       <use xlink:href=\"#DejaVuSans-2e\" x=\"781.396484\"/>\n       <use xlink:href=\"#DejaVuSans-77\" x=\"813.183594\"/>\n       <use xlink:href=\"#DejaVuSans-65\" x=\"894.970703\"/>\n       <use xlink:href=\"#DejaVuSans-65\" x=\"956.494141\"/>\n       <use xlink:href=\"#DejaVuSans-6b\" x=\"1018.017578\"/>\n       <use xlink:href=\"#DejaVuSans-34\" x=\"1075.927734\"/>\n      </g>\n     </g>\n    </g>\n    <g id=\"xtick_2\">\n     <g id=\"line2d_2\">\n      <path d=\"M 106.324419 331.431875 \nL 106.324419 59.631875 \n\" clip-path=\"url(#p38241cbd11)\" style=\"fill: none; stroke: #ffffff; stroke-linecap: round\"/>\n     </g>\n     <g id=\"text_2\">\n      <!-- calibration-march.week5 -->\n      <g style=\"fill: #262626\" transform=\"translate(109.359731 477.264844)rotate(-90)scale(0.11 -0.11)\">\n       <defs>\n        <path id=\"DejaVuSans-6d\" d=\"M 3328 2828 \nQ 3544 3216 3844 3400 \nQ 4144 3584 4550 3584 \nQ 5097 3584 5394 3201 \nQ 5691 2819 5691 2113 \nL 5691 0 \nL 5113 0 \nL 5113 2094 \nQ 5113 2597 4934 2840 \nQ 4756 3084 4391 3084 \nQ 3944 3084 3684 2787 \nQ 3425 2491 3425 1978 \nL 3425 0 \nL 2847 0 \nL 2847 2094 \nQ 2847 2600 2669 2842 \nQ 2491 3084 2119 3084 \nQ 1678 3084 1418 2786 \nQ 1159 2488 1159 1978 \nL 1159 0 \nL 581 0 \nL 581 3500 \nL 1159 3500 \nL 1159 2956 \nQ 1356 3278 1631 3431 \nQ 1906 3584 2284 3584 \nQ 2666 3584 2933 3390 \nQ 3200 3197 3328 2828 \nz\n\" transform=\"scale(0.015625)\"/>\n        <path id=\"DejaVuSans-68\" d=\"M 3513 2113 \nL 3513 0 \nL 2938 0 \nL 2938 2094 \nQ 2938 2591 2744 2837 \nQ 2550 3084 2163 3084 \nQ 1697 3084 1428 2787 \nQ 1159 2491 1159 1978 \nL 1159 0 \nL 581 0 \nL 581 4863 \nL 1159 4863 \nL 1159 2956 \nQ 1366 3272 1645 3428 \nQ 1925 3584 2291 3584 \nQ 2894 3584 3203 3211 \nQ 3513 2838 3513 2113 \nz\n\" transform=\"scale(0.015625)\"/>\n        <path id=\"DejaVuSans-35\" d=\"M 691 4666 \nL 3169 4666 \nL 3169 4134 \nL 1269 4134 \nL 1269 2991 \nQ 1406 3038 1543 3061 \nQ 1681 3084 1819 3084 \nQ 2600 3084 3056 2656 \nQ 3513 2228 3513 1497 \nQ 3513 744 3044 326 \nQ 2575 -91 1722 -91 \nQ 1428 -91 1123 -41 \nQ 819 9 494 109 \nL 494 744 \nQ 775 591 1075 516 \nQ 1375 441 1709 441 \nQ 2250 441 2565 725 \nQ 2881 1009 2881 1497 \nQ 2881 1984 2565 2268 \nQ 2250 2553 1709 2553 \nQ 1456 2553 1204 2497 \nQ 953 2441 691 2322 \nL 691 4666 \nz\n\" transform=\"scale(0.015625)\"/>\n       </defs>\n       <use xlink:href=\"#DejaVuSans-63\"/>\n       <use xlink:href=\"#DejaVuSans-61\" x=\"54.980469\"/>\n       <use xlink:href=\"#DejaVuSans-6c\" x=\"116.259766\"/>\n       <use xlink:href=\"#DejaVuSans-69\" x=\"144.042969\"/>\n       <use xlink:href=\"#DejaVuSans-62\" x=\"171.826172\"/>\n       <use xlink:href=\"#DejaVuSans-72\" x=\"235.302734\"/>\n       <use xlink:href=\"#DejaVuSans-61\" x=\"276.416016\"/>\n       <use xlink:href=\"#DejaVuSans-74\" x=\"337.695312\"/>\n       <use xlink:href=\"#DejaVuSans-69\" x=\"376.904297\"/>\n       <use xlink:href=\"#DejaVuSans-6f\" x=\"404.6875\"/>\n       <use xlink:href=\"#DejaVuSans-6e\" x=\"465.869141\"/>\n       <use xlink:href=\"#DejaVuSans-2d\" x=\"529.248047\"/>\n       <use xlink:href=\"#DejaVuSans-6d\" x=\"565.332031\"/>\n       <use xlink:href=\"#DejaVuSans-61\" x=\"662.744141\"/>\n       <use xlink:href=\"#DejaVuSans-72\" x=\"724.023438\"/>\n       <use xlink:href=\"#DejaVuSans-63\" x=\"762.886719\"/>\n       <use xlink:href=\"#DejaVuSans-68\" x=\"817.867188\"/>\n       <use xlink:href=\"#DejaVuSans-2e\" x=\"881.246094\"/>\n       <use xlink:href=\"#DejaVuSans-77\" x=\"913.033203\"/>\n       <use xlink:href=\"#DejaVuSans-65\" x=\"994.820312\"/>\n       <use xlink:href=\"#DejaVuSans-65\" x=\"1056.34375\"/>\n       <use xlink:href=\"#DejaVuSans-6b\" x=\"1117.867188\"/>\n       <use xlink:href=\"#DejaVuSans-35\" x=\"1175.777344\"/>\n      </g>\n     </g>\n    </g>\n    <g id=\"xtick_3\">\n     <g id=\"line2d_3\">\n      <path d=\"M 138.578754 331.431875 \nL 138.578754 59.631875 \n\" clip-path=\"url(#p38241cbd11)\" style=\"fill: none; stroke: #ffffff; stroke-linecap: round\"/>\n     </g>\n     <g id=\"text_3\">\n      <!-- calibration-april.week4 -->\n      <g style=\"fill: #262626\" transform=\"translate(141.614067 466.873281)rotate(-90)scale(0.11 -0.11)\">\n       <defs>\n        <path id=\"DejaVuSans-70\" d=\"M 1159 525 \nL 1159 -1331 \nL 581 -1331 \nL 581 3500 \nL 1159 3500 \nL 1159 2969 \nQ 1341 3281 1617 3432 \nQ 1894 3584 2278 3584 \nQ 2916 3584 3314 3078 \nQ 3713 2572 3713 1747 \nQ 3713 922 3314 415 \nQ 2916 -91 2278 -91 \nQ 1894 -91 1617 61 \nQ 1341 213 1159 525 \nz\nM 3116 1747 \nQ 3116 2381 2855 2742 \nQ 2594 3103 2138 3103 \nQ 1681 3103 1420 2742 \nQ 1159 2381 1159 1747 \nQ 1159 1113 1420 752 \nQ 1681 391 2138 391 \nQ 2594 391 2855 752 \nQ 3116 1113 3116 1747 \nz\n\" transform=\"scale(0.015625)\"/>\n       </defs>\n       <use xlink:href=\"#DejaVuSans-63\"/>\n       <use xlink:href=\"#DejaVuSans-61\" x=\"54.980469\"/>\n       <use xlink:href=\"#DejaVuSans-6c\" x=\"116.259766\"/>\n       <use xlink:href=\"#DejaVuSans-69\" x=\"144.042969\"/>\n       <use xlink:href=\"#DejaVuSans-62\" x=\"171.826172\"/>\n       <use xlink:href=\"#DejaVuSans-72\" x=\"235.302734\"/>\n       <use xlink:href=\"#DejaVuSans-61\" x=\"276.416016\"/>\n       <use xlink:href=\"#DejaVuSans-74\" x=\"337.695312\"/>\n       <use xlink:href=\"#DejaVuSans-69\" x=\"376.904297\"/>\n       <use xlink:href=\"#DejaVuSans-6f\" x=\"404.6875\"/>\n       <use xlink:href=\"#DejaVuSans-6e\" x=\"465.869141\"/>\n       <use xlink:href=\"#DejaVuSans-2d\" x=\"529.248047\"/>\n       <use xlink:href=\"#DejaVuSans-61\" x=\"565.332031\"/>\n       <use xlink:href=\"#DejaVuSans-70\" x=\"626.611328\"/>\n       <use xlink:href=\"#DejaVuSans-72\" x=\"690.087891\"/>\n       <use xlink:href=\"#DejaVuSans-69\" x=\"731.201172\"/>\n       <use xlink:href=\"#DejaVuSans-6c\" x=\"758.984375\"/>\n       <use xlink:href=\"#DejaVuSans-2e\" x=\"786.767578\"/>\n       <use xlink:href=\"#DejaVuSans-77\" x=\"818.554688\"/>\n       <use xlink:href=\"#DejaVuSans-65\" x=\"900.341797\"/>\n       <use xlink:href=\"#DejaVuSans-65\" x=\"961.865234\"/>\n       <use xlink:href=\"#DejaVuSans-6b\" x=\"1023.388672\"/>\n       <use xlink:href=\"#DejaVuSans-34\" x=\"1081.298828\"/>\n      </g>\n     </g>\n    </g>\n    <g id=\"xtick_4\">\n     <g id=\"line2d_4\">\n      <path d=\"M 170.833089 331.431875 \nL 170.833089 59.631875 \n\" clip-path=\"url(#p38241cbd11)\" style=\"fill: none; stroke: #ffffff; stroke-linecap: round\"/>\n     </g>\n     <g id=\"text_4\">\n      <!-- calibration-june.week3 -->\n      <g style=\"fill: #262626\" transform=\"translate(173.868402 466.282031)rotate(-90)scale(0.11 -0.11)\">\n       <defs>\n        <path id=\"DejaVuSans-33\" d=\"M 2597 2516 \nQ 3050 2419 3304 2112 \nQ 3559 1806 3559 1356 \nQ 3559 666 3084 287 \nQ 2609 -91 1734 -91 \nQ 1441 -91 1130 -33 \nQ 819 25 488 141 \nL 488 750 \nQ 750 597 1062 519 \nQ 1375 441 1716 441 \nQ 2309 441 2620 675 \nQ 2931 909 2931 1356 \nQ 2931 1769 2642 2001 \nQ 2353 2234 1838 2234 \nL 1294 2234 \nL 1294 2753 \nL 1863 2753 \nQ 2328 2753 2575 2939 \nQ 2822 3125 2822 3475 \nQ 2822 3834 2567 4026 \nQ 2313 4219 1838 4219 \nQ 1578 4219 1281 4162 \nQ 984 4106 628 3988 \nL 628 4550 \nQ 988 4650 1302 4700 \nQ 1616 4750 1894 4750 \nQ 2613 4750 3031 4423 \nQ 3450 4097 3450 3541 \nQ 3450 3153 3228 2886 \nQ 3006 2619 2597 2516 \nz\n\" transform=\"scale(0.015625)\"/>\n       </defs>\n       <use xlink:href=\"#DejaVuSans-63\"/>\n       <use xlink:href=\"#DejaVuSans-61\" x=\"54.980469\"/>\n       <use xlink:href=\"#DejaVuSans-6c\" x=\"116.259766\"/>\n       <use xlink:href=\"#DejaVuSans-69\" x=\"144.042969\"/>\n       <use xlink:href=\"#DejaVuSans-62\" x=\"171.826172\"/>\n       <use xlink:href=\"#DejaVuSans-72\" x=\"235.302734\"/>\n       <use xlink:href=\"#DejaVuSans-61\" x=\"276.416016\"/>\n       <use xlink:href=\"#DejaVuSans-74\" x=\"337.695312\"/>\n       <use xlink:href=\"#DejaVuSans-69\" x=\"376.904297\"/>\n       <use xlink:href=\"#DejaVuSans-6f\" x=\"404.6875\"/>\n       <use xlink:href=\"#DejaVuSans-6e\" x=\"465.869141\"/>\n       <use xlink:href=\"#DejaVuSans-2d\" x=\"529.248047\"/>\n       <use xlink:href=\"#DejaVuSans-6a\" x=\"565.332031\"/>\n       <use xlink:href=\"#DejaVuSans-75\" x=\"593.115234\"/>\n       <use xlink:href=\"#DejaVuSans-6e\" x=\"656.494141\"/>\n       <use xlink:href=\"#DejaVuSans-65\" x=\"719.873047\"/>\n       <use xlink:href=\"#DejaVuSans-2e\" x=\"781.396484\"/>\n       <use xlink:href=\"#DejaVuSans-77\" x=\"813.183594\"/>\n       <use xlink:href=\"#DejaVuSans-65\" x=\"894.970703\"/>\n       <use xlink:href=\"#DejaVuSans-65\" x=\"956.494141\"/>\n       <use xlink:href=\"#DejaVuSans-6b\" x=\"1018.017578\"/>\n       <use xlink:href=\"#DejaVuSans-33\" x=\"1075.927734\"/>\n      </g>\n     </g>\n    </g>\n    <g id=\"xtick_5\">\n     <g id=\"line2d_5\">\n      <path d=\"M 203.087425 331.431875 \nL 203.087425 59.631875 \n\" clip-path=\"url(#p38241cbd11)\" style=\"fill: none; stroke: #ffffff; stroke-linecap: round\"/>\n     </g>\n     <g id=\"text_5\">\n      <!-- calibration-may.week5 -->\n      <g style=\"fill: #262626\" transform=\"translate(206.122737 464.913906)rotate(-90)scale(0.11 -0.11)\">\n       <defs>\n        <path id=\"DejaVuSans-79\" d=\"M 2059 -325 \nQ 1816 -950 1584 -1140 \nQ 1353 -1331 966 -1331 \nL 506 -1331 \nL 506 -850 \nL 844 -850 \nQ 1081 -850 1212 -737 \nQ 1344 -625 1503 -206 \nL 1606 56 \nL 191 3500 \nL 800 3500 \nL 1894 763 \nL 2988 3500 \nL 3597 3500 \nL 2059 -325 \nz\n\" transform=\"scale(0.015625)\"/>\n       </defs>\n       <use xlink:href=\"#DejaVuSans-63\"/>\n       <use xlink:href=\"#DejaVuSans-61\" x=\"54.980469\"/>\n       <use xlink:href=\"#DejaVuSans-6c\" x=\"116.259766\"/>\n       <use xlink:href=\"#DejaVuSans-69\" x=\"144.042969\"/>\n       <use xlink:href=\"#DejaVuSans-62\" x=\"171.826172\"/>\n       <use xlink:href=\"#DejaVuSans-72\" x=\"235.302734\"/>\n       <use xlink:href=\"#DejaVuSans-61\" x=\"276.416016\"/>\n       <use xlink:href=\"#DejaVuSans-74\" x=\"337.695312\"/>\n       <use xlink:href=\"#DejaVuSans-69\" x=\"376.904297\"/>\n       <use xlink:href=\"#DejaVuSans-6f\" x=\"404.6875\"/>\n       <use xlink:href=\"#DejaVuSans-6e\" x=\"465.869141\"/>\n       <use xlink:href=\"#DejaVuSans-2d\" x=\"529.248047\"/>\n       <use xlink:href=\"#DejaVuSans-6d\" x=\"565.332031\"/>\n       <use xlink:href=\"#DejaVuSans-61\" x=\"662.744141\"/>\n       <use xlink:href=\"#DejaVuSans-79\" x=\"724.023438\"/>\n       <use xlink:href=\"#DejaVuSans-2e\" x=\"768.953125\"/>\n       <use xlink:href=\"#DejaVuSans-77\" x=\"800.740234\"/>\n       <use xlink:href=\"#DejaVuSans-65\" x=\"882.527344\"/>\n       <use xlink:href=\"#DejaVuSans-65\" x=\"944.050781\"/>\n       <use xlink:href=\"#DejaVuSans-6b\" x=\"1005.574219\"/>\n       <use xlink:href=\"#DejaVuSans-35\" x=\"1063.484375\"/>\n      </g>\n     </g>\n    </g>\n    <g id=\"xtick_6\">\n     <g id=\"line2d_6\">\n      <path d=\"M 235.34176 331.431875 \nL 235.34176 59.631875 \n\" clip-path=\"url(#p38241cbd11)\" style=\"fill: none; stroke: #ffffff; stroke-linecap: round\"/>\n     </g>\n     <g id=\"text_6\">\n      <!-- calibration-may.week1 -->\n      <g style=\"fill: #262626\" transform=\"translate(238.377072 464.913906)rotate(-90)scale(0.11 -0.11)\">\n       <defs>\n        <path id=\"DejaVuSans-31\" d=\"M 794 531 \nL 1825 531 \nL 1825 4091 \nL 703 3866 \nL 703 4441 \nL 1819 4666 \nL 2450 4666 \nL 2450 531 \nL 3481 531 \nL 3481 0 \nL 794 0 \nL 794 531 \nz\n\" transform=\"scale(0.015625)\"/>\n       </defs>\n       <use xlink:href=\"#DejaVuSans-63\"/>\n       <use xlink:href=\"#DejaVuSans-61\" x=\"54.980469\"/>\n       <use xlink:href=\"#DejaVuSans-6c\" x=\"116.259766\"/>\n       <use xlink:href=\"#DejaVuSans-69\" x=\"144.042969\"/>\n       <use xlink:href=\"#DejaVuSans-62\" x=\"171.826172\"/>\n       <use xlink:href=\"#DejaVuSans-72\" x=\"235.302734\"/>\n       <use xlink:href=\"#DejaVuSans-61\" x=\"276.416016\"/>\n       <use xlink:href=\"#DejaVuSans-74\" x=\"337.695312\"/>\n       <use xlink:href=\"#DejaVuSans-69\" x=\"376.904297\"/>\n       <use xlink:href=\"#DejaVuSans-6f\" x=\"404.6875\"/>\n       <use xlink:href=\"#DejaVuSans-6e\" x=\"465.869141\"/>\n       <use xlink:href=\"#DejaVuSans-2d\" x=\"529.248047\"/>\n       <use xlink:href=\"#DejaVuSans-6d\" x=\"565.332031\"/>\n       <use xlink:href=\"#DejaVuSans-61\" x=\"662.744141\"/>\n       <use xlink:href=\"#DejaVuSans-79\" x=\"724.023438\"/>\n       <use xlink:href=\"#DejaVuSans-2e\" x=\"768.953125\"/>\n       <use xlink:href=\"#DejaVuSans-77\" x=\"800.740234\"/>\n       <use xlink:href=\"#DejaVuSans-65\" x=\"882.527344\"/>\n       <use xlink:href=\"#DejaVuSans-65\" x=\"944.050781\"/>\n       <use xlink:href=\"#DejaVuSans-6b\" x=\"1005.574219\"/>\n       <use xlink:href=\"#DejaVuSans-31\" x=\"1063.484375\"/>\n      </g>\n     </g>\n    </g>\n    <g id=\"xtick_7\">\n     <g id=\"line2d_7\">\n      <path d=\"M 267.596095 331.431875 \nL 267.596095 59.631875 \n\" clip-path=\"url(#p38241cbd11)\" style=\"fill: none; stroke: #ffffff; stroke-linecap: round\"/>\n     </g>\n     <g id=\"text_7\">\n      <!-- calibration-may.week4 -->\n      <g style=\"fill: #262626\" transform=\"translate(270.631408 464.913906)rotate(-90)scale(0.11 -0.11)\">\n       <use xlink:href=\"#DejaVuSans-63\"/>\n       <use xlink:href=\"#DejaVuSans-61\" x=\"54.980469\"/>\n       <use xlink:href=\"#DejaVuSans-6c\" x=\"116.259766\"/>\n       <use xlink:href=\"#DejaVuSans-69\" x=\"144.042969\"/>\n       <use xlink:href=\"#DejaVuSans-62\" x=\"171.826172\"/>\n       <use xlink:href=\"#DejaVuSans-72\" x=\"235.302734\"/>\n       <use xlink:href=\"#DejaVuSans-61\" x=\"276.416016\"/>\n       <use xlink:href=\"#DejaVuSans-74\" x=\"337.695312\"/>\n       <use xlink:href=\"#DejaVuSans-69\" x=\"376.904297\"/>\n       <use xlink:href=\"#DejaVuSans-6f\" x=\"404.6875\"/>\n       <use xlink:href=\"#DejaVuSans-6e\" x=\"465.869141\"/>\n       <use xlink:href=\"#DejaVuSans-2d\" x=\"529.248047\"/>\n       <use xlink:href=\"#DejaVuSans-6d\" x=\"565.332031\"/>\n       <use xlink:href=\"#DejaVuSans-61\" x=\"662.744141\"/>\n       <use xlink:href=\"#DejaVuSans-79\" x=\"724.023438\"/>\n       <use xlink:href=\"#DejaVuSans-2e\" x=\"768.953125\"/>\n       <use xlink:href=\"#DejaVuSans-77\" x=\"800.740234\"/>\n       <use xlink:href=\"#DejaVuSans-65\" x=\"882.527344\"/>\n       <use xlink:href=\"#DejaVuSans-65\" x=\"944.050781\"/>\n       <use xlink:href=\"#DejaVuSans-6b\" x=\"1005.574219\"/>\n       <use xlink:href=\"#DejaVuSans-34\" x=\"1063.484375\"/>\n      </g>\n     </g>\n    </g>\n    <g id=\"xtick_8\">\n     <g id=\"line2d_8\">\n      <path d=\"M 299.85043 331.431875 \nL 299.85043 59.631875 \n\" clip-path=\"url(#p38241cbd11)\" style=\"fill: none; stroke: #ffffff; stroke-linecap: round\"/>\n     </g>\n     <g id=\"text_8\">\n      <!-- calibration-march.week4 -->\n      <g style=\"fill: #262626\" transform=\"translate(302.885743 477.264844)rotate(-90)scale(0.11 -0.11)\">\n       <use xlink:href=\"#DejaVuSans-63\"/>\n       <use xlink:href=\"#DejaVuSans-61\" x=\"54.980469\"/>\n       <use xlink:href=\"#DejaVuSans-6c\" x=\"116.259766\"/>\n       <use xlink:href=\"#DejaVuSans-69\" x=\"144.042969\"/>\n       <use xlink:href=\"#DejaVuSans-62\" x=\"171.826172\"/>\n       <use xlink:href=\"#DejaVuSans-72\" x=\"235.302734\"/>\n       <use xlink:href=\"#DejaVuSans-61\" x=\"276.416016\"/>\n       <use xlink:href=\"#DejaVuSans-74\" x=\"337.695312\"/>\n       <use xlink:href=\"#DejaVuSans-69\" x=\"376.904297\"/>\n       <use xlink:href=\"#DejaVuSans-6f\" x=\"404.6875\"/>\n       <use xlink:href=\"#DejaVuSans-6e\" x=\"465.869141\"/>\n       <use xlink:href=\"#DejaVuSans-2d\" x=\"529.248047\"/>\n       <use xlink:href=\"#DejaVuSans-6d\" x=\"565.332031\"/>\n       <use xlink:href=\"#DejaVuSans-61\" x=\"662.744141\"/>\n       <use xlink:href=\"#DejaVuSans-72\" x=\"724.023438\"/>\n       <use xlink:href=\"#DejaVuSans-63\" x=\"762.886719\"/>\n       <use xlink:href=\"#DejaVuSans-68\" x=\"817.867188\"/>\n       <use xlink:href=\"#DejaVuSans-2e\" x=\"881.246094\"/>\n       <use xlink:href=\"#DejaVuSans-77\" x=\"913.033203\"/>\n       <use xlink:href=\"#DejaVuSans-65\" x=\"994.820312\"/>\n       <use xlink:href=\"#DejaVuSans-65\" x=\"1056.34375\"/>\n       <use xlink:href=\"#DejaVuSans-6b\" x=\"1117.867188\"/>\n       <use xlink:href=\"#DejaVuSans-34\" x=\"1175.777344\"/>\n      </g>\n     </g>\n    </g>\n    <g id=\"xtick_9\">\n     <g id=\"line2d_9\">\n      <path d=\"M 332.104766 331.431875 \nL 332.104766 59.631875 \n\" clip-path=\"url(#p38241cbd11)\" style=\"fill: none; stroke: #ffffff; stroke-linecap: round\"/>\n     </g>\n     <g id=\"text_9\">\n      <!-- calibration-march.week3 -->\n      <g style=\"fill: #262626\" transform=\"translate(335.140078 477.264844)rotate(-90)scale(0.11 -0.11)\">\n       <use xlink:href=\"#DejaVuSans-63\"/>\n       <use xlink:href=\"#DejaVuSans-61\" x=\"54.980469\"/>\n       <use xlink:href=\"#DejaVuSans-6c\" x=\"116.259766\"/>\n       <use xlink:href=\"#DejaVuSans-69\" x=\"144.042969\"/>\n       <use xlink:href=\"#DejaVuSans-62\" x=\"171.826172\"/>\n       <use xlink:href=\"#DejaVuSans-72\" x=\"235.302734\"/>\n       <use xlink:href=\"#DejaVuSans-61\" x=\"276.416016\"/>\n       <use xlink:href=\"#DejaVuSans-74\" x=\"337.695312\"/>\n       <use xlink:href=\"#DejaVuSans-69\" x=\"376.904297\"/>\n       <use xlink:href=\"#DejaVuSans-6f\" x=\"404.6875\"/>\n       <use xlink:href=\"#DejaVuSans-6e\" x=\"465.869141\"/>\n       <use xlink:href=\"#DejaVuSans-2d\" x=\"529.248047\"/>\n       <use xlink:href=\"#DejaVuSans-6d\" x=\"565.332031\"/>\n       <use xlink:href=\"#DejaVuSans-61\" x=\"662.744141\"/>\n       <use xlink:href=\"#DejaVuSans-72\" x=\"724.023438\"/>\n       <use xlink:href=\"#DejaVuSans-63\" x=\"762.886719\"/>\n       <use xlink:href=\"#DejaVuSans-68\" x=\"817.867188\"/>\n       <use xlink:href=\"#DejaVuSans-2e\" x=\"881.246094\"/>\n       <use xlink:href=\"#DejaVuSans-77\" x=\"913.033203\"/>\n       <use xlink:href=\"#DejaVuSans-65\" x=\"994.820312\"/>\n       <use xlink:href=\"#DejaVuSans-65\" x=\"1056.34375\"/>\n       <use xlink:href=\"#DejaVuSans-6b\" x=\"1117.867188\"/>\n       <use xlink:href=\"#DejaVuSans-33\" x=\"1175.777344\"/>\n      </g>\n     </g>\n    </g>\n    <g id=\"xtick_10\">\n     <g id=\"line2d_10\">\n      <path d=\"M 364.359101 331.431875 \nL 364.359101 59.631875 \n\" clip-path=\"url(#p38241cbd11)\" style=\"fill: none; stroke: #ffffff; stroke-linecap: round\"/>\n     </g>\n     <g id=\"text_10\">\n      <!-- calibration-may.week6 -->\n      <g style=\"fill: #262626\" transform=\"translate(367.394413 464.913906)rotate(-90)scale(0.11 -0.11)\">\n       <defs>\n        <path id=\"DejaVuSans-36\" d=\"M 2113 2584 \nQ 1688 2584 1439 2293 \nQ 1191 2003 1191 1497 \nQ 1191 994 1439 701 \nQ 1688 409 2113 409 \nQ 2538 409 2786 701 \nQ 3034 994 3034 1497 \nQ 3034 2003 2786 2293 \nQ 2538 2584 2113 2584 \nz\nM 3366 4563 \nL 3366 3988 \nQ 3128 4100 2886 4159 \nQ 2644 4219 2406 4219 \nQ 1781 4219 1451 3797 \nQ 1122 3375 1075 2522 \nQ 1259 2794 1537 2939 \nQ 1816 3084 2150 3084 \nQ 2853 3084 3261 2657 \nQ 3669 2231 3669 1497 \nQ 3669 778 3244 343 \nQ 2819 -91 2113 -91 \nQ 1303 -91 875 529 \nQ 447 1150 447 2328 \nQ 447 3434 972 4092 \nQ 1497 4750 2381 4750 \nQ 2619 4750 2861 4703 \nQ 3103 4656 3366 4563 \nz\n\" transform=\"scale(0.015625)\"/>\n       </defs>\n       <use xlink:href=\"#DejaVuSans-63\"/>\n       <use xlink:href=\"#DejaVuSans-61\" x=\"54.980469\"/>\n       <use xlink:href=\"#DejaVuSans-6c\" x=\"116.259766\"/>\n       <use xlink:href=\"#DejaVuSans-69\" x=\"144.042969\"/>\n       <use xlink:href=\"#DejaVuSans-62\" x=\"171.826172\"/>\n       <use xlink:href=\"#DejaVuSans-72\" x=\"235.302734\"/>\n       <use xlink:href=\"#DejaVuSans-61\" x=\"276.416016\"/>\n       <use xlink:href=\"#DejaVuSans-74\" x=\"337.695312\"/>\n       <use xlink:href=\"#DejaVuSans-69\" x=\"376.904297\"/>\n       <use xlink:href=\"#DejaVuSans-6f\" x=\"404.6875\"/>\n       <use xlink:href=\"#DejaVuSans-6e\" x=\"465.869141\"/>\n       <use xlink:href=\"#DejaVuSans-2d\" x=\"529.248047\"/>\n       <use xlink:href=\"#DejaVuSans-6d\" x=\"565.332031\"/>\n       <use xlink:href=\"#DejaVuSans-61\" x=\"662.744141\"/>\n       <use xlink:href=\"#DejaVuSans-79\" x=\"724.023438\"/>\n       <use xlink:href=\"#DejaVuSans-2e\" x=\"768.953125\"/>\n       <use xlink:href=\"#DejaVuSans-77\" x=\"800.740234\"/>\n       <use xlink:href=\"#DejaVuSans-65\" x=\"882.527344\"/>\n       <use xlink:href=\"#DejaVuSans-65\" x=\"944.050781\"/>\n       <use xlink:href=\"#DejaVuSans-6b\" x=\"1005.574219\"/>\n       <use xlink:href=\"#DejaVuSans-36\" x=\"1063.484375\"/>\n      </g>\n     </g>\n    </g>\n    <g id=\"xtick_11\">\n     <g id=\"line2d_11\">\n      <path d=\"M 396.613436 331.431875 \nL 396.613436 59.631875 \n\" clip-path=\"url(#p38241cbd11)\" style=\"fill: none; stroke: #ffffff; stroke-linecap: round\"/>\n     </g>\n     <g id=\"text_11\">\n      <!-- calibration-april.week2 -->\n      <g style=\"fill: #262626\" transform=\"translate(399.648749 466.873281)rotate(-90)scale(0.11 -0.11)\">\n       <defs>\n        <path id=\"DejaVuSans-32\" d=\"M 1228 531 \nL 3431 531 \nL 3431 0 \nL 469 0 \nL 469 531 \nQ 828 903 1448 1529 \nQ 2069 2156 2228 2338 \nQ 2531 2678 2651 2914 \nQ 2772 3150 2772 3378 \nQ 2772 3750 2511 3984 \nQ 2250 4219 1831 4219 \nQ 1534 4219 1204 4116 \nQ 875 4013 500 3803 \nL 500 4441 \nQ 881 4594 1212 4672 \nQ 1544 4750 1819 4750 \nQ 2544 4750 2975 4387 \nQ 3406 4025 3406 3419 \nQ 3406 3131 3298 2873 \nQ 3191 2616 2906 2266 \nQ 2828 2175 2409 1742 \nQ 1991 1309 1228 531 \nz\n\" transform=\"scale(0.015625)\"/>\n       </defs>\n       <use xlink:href=\"#DejaVuSans-63\"/>\n       <use xlink:href=\"#DejaVuSans-61\" x=\"54.980469\"/>\n       <use xlink:href=\"#DejaVuSans-6c\" x=\"116.259766\"/>\n       <use xlink:href=\"#DejaVuSans-69\" x=\"144.042969\"/>\n       <use xlink:href=\"#DejaVuSans-62\" x=\"171.826172\"/>\n       <use xlink:href=\"#DejaVuSans-72\" x=\"235.302734\"/>\n       <use xlink:href=\"#DejaVuSans-61\" x=\"276.416016\"/>\n       <use xlink:href=\"#DejaVuSans-74\" x=\"337.695312\"/>\n       <use xlink:href=\"#DejaVuSans-69\" x=\"376.904297\"/>\n       <use xlink:href=\"#DejaVuSans-6f\" x=\"404.6875\"/>\n       <use xlink:href=\"#DejaVuSans-6e\" x=\"465.869141\"/>\n       <use xlink:href=\"#DejaVuSans-2d\" x=\"529.248047\"/>\n       <use xlink:href=\"#DejaVuSans-61\" x=\"565.332031\"/>\n       <use xlink:href=\"#DejaVuSans-70\" x=\"626.611328\"/>\n       <use xlink:href=\"#DejaVuSans-72\" x=\"690.087891\"/>\n       <use xlink:href=\"#DejaVuSans-69\" x=\"731.201172\"/>\n       <use xlink:href=\"#DejaVuSans-6c\" x=\"758.984375\"/>\n       <use xlink:href=\"#DejaVuSans-2e\" x=\"786.767578\"/>\n       <use xlink:href=\"#DejaVuSans-77\" x=\"818.554688\"/>\n       <use xlink:href=\"#DejaVuSans-65\" x=\"900.341797\"/>\n       <use xlink:href=\"#DejaVuSans-65\" x=\"961.865234\"/>\n       <use xlink:href=\"#DejaVuSans-6b\" x=\"1023.388672\"/>\n       <use xlink:href=\"#DejaVuSans-32\" x=\"1081.298828\"/>\n      </g>\n     </g>\n    </g>\n    <g id=\"xtick_12\">\n     <g id=\"line2d_12\">\n      <path d=\"M 428.867771 331.431875 \nL 428.867771 59.631875 \n\" clip-path=\"url(#p38241cbd11)\" style=\"fill: none; stroke: #ffffff; stroke-linecap: round\"/>\n     </g>\n     <g id=\"text_12\">\n      <!-- calibration-april.week3 -->\n      <g style=\"fill: #262626\" transform=\"translate(431.903084 466.873281)rotate(-90)scale(0.11 -0.11)\">\n       <use xlink:href=\"#DejaVuSans-63\"/>\n       <use xlink:href=\"#DejaVuSans-61\" x=\"54.980469\"/>\n       <use xlink:href=\"#DejaVuSans-6c\" x=\"116.259766\"/>\n       <use xlink:href=\"#DejaVuSans-69\" x=\"144.042969\"/>\n       <use xlink:href=\"#DejaVuSans-62\" x=\"171.826172\"/>\n       <use xlink:href=\"#DejaVuSans-72\" x=\"235.302734\"/>\n       <use xlink:href=\"#DejaVuSans-61\" x=\"276.416016\"/>\n       <use xlink:href=\"#DejaVuSans-74\" x=\"337.695312\"/>\n       <use xlink:href=\"#DejaVuSans-69\" x=\"376.904297\"/>\n       <use xlink:href=\"#DejaVuSans-6f\" x=\"404.6875\"/>\n       <use xlink:href=\"#DejaVuSans-6e\" x=\"465.869141\"/>\n       <use xlink:href=\"#DejaVuSans-2d\" x=\"529.248047\"/>\n       <use xlink:href=\"#DejaVuSans-61\" x=\"565.332031\"/>\n       <use xlink:href=\"#DejaVuSans-70\" x=\"626.611328\"/>\n       <use xlink:href=\"#DejaVuSans-72\" x=\"690.087891\"/>\n       <use xlink:href=\"#DejaVuSans-69\" x=\"731.201172\"/>\n       <use xlink:href=\"#DejaVuSans-6c\" x=\"758.984375\"/>\n       <use xlink:href=\"#DejaVuSans-2e\" x=\"786.767578\"/>\n       <use xlink:href=\"#DejaVuSans-77\" x=\"818.554688\"/>\n       <use xlink:href=\"#DejaVuSans-65\" x=\"900.341797\"/>\n       <use xlink:href=\"#DejaVuSans-65\" x=\"961.865234\"/>\n       <use xlink:href=\"#DejaVuSans-6b\" x=\"1023.388672\"/>\n       <use xlink:href=\"#DejaVuSans-33\" x=\"1081.298828\"/>\n      </g>\n     </g>\n    </g>\n    <g id=\"xtick_13\">\n     <g id=\"line2d_13\">\n      <path d=\"M 461.122107 331.431875 \nL 461.122107 59.631875 \n\" clip-path=\"url(#p38241cbd11)\" style=\"fill: none; stroke: #ffffff; stroke-linecap: round\"/>\n     </g>\n     <g id=\"text_13\">\n      <!-- calibration-april.week5 -->\n      <g style=\"fill: #262626\" transform=\"translate(464.157419 466.873281)rotate(-90)scale(0.11 -0.11)\">\n       <use xlink:href=\"#DejaVuSans-63\"/>\n       <use xlink:href=\"#DejaVuSans-61\" x=\"54.980469\"/>\n       <use xlink:href=\"#DejaVuSans-6c\" x=\"116.259766\"/>\n       <use xlink:href=\"#DejaVuSans-69\" x=\"144.042969\"/>\n       <use xlink:href=\"#DejaVuSans-62\" x=\"171.826172\"/>\n       <use xlink:href=\"#DejaVuSans-72\" x=\"235.302734\"/>\n       <use xlink:href=\"#DejaVuSans-61\" x=\"276.416016\"/>\n       <use xlink:href=\"#DejaVuSans-74\" x=\"337.695312\"/>\n       <use xlink:href=\"#DejaVuSans-69\" x=\"376.904297\"/>\n       <use xlink:href=\"#DejaVuSans-6f\" x=\"404.6875\"/>\n       <use xlink:href=\"#DejaVuSans-6e\" x=\"465.869141\"/>\n       <use xlink:href=\"#DejaVuSans-2d\" x=\"529.248047\"/>\n       <use xlink:href=\"#DejaVuSans-61\" x=\"565.332031\"/>\n       <use xlink:href=\"#DejaVuSans-70\" x=\"626.611328\"/>\n       <use xlink:href=\"#DejaVuSans-72\" x=\"690.087891\"/>\n       <use xlink:href=\"#DejaVuSans-69\" x=\"731.201172\"/>\n       <use xlink:href=\"#DejaVuSans-6c\" x=\"758.984375\"/>\n       <use xlink:href=\"#DejaVuSans-2e\" x=\"786.767578\"/>\n       <use xlink:href=\"#DejaVuSans-77\" x=\"818.554688\"/>\n       <use xlink:href=\"#DejaVuSans-65\" x=\"900.341797\"/>\n       <use xlink:href=\"#DejaVuSans-65\" x=\"961.865234\"/>\n       <use xlink:href=\"#DejaVuSans-6b\" x=\"1023.388672\"/>\n       <use xlink:href=\"#DejaVuSans-35\" x=\"1081.298828\"/>\n      </g>\n     </g>\n    </g>\n    <g id=\"xtick_14\">\n     <g id=\"line2d_14\">\n      <path d=\"M 493.376442 331.431875 \nL 493.376442 59.631875 \n\" clip-path=\"url(#p38241cbd11)\" style=\"fill: none; stroke: #ffffff; stroke-linecap: round\"/>\n     </g>\n     <g id=\"text_14\">\n      <!-- calibration-june.week2 -->\n      <g style=\"fill: #262626\" transform=\"translate(496.411754 466.282031)rotate(-90)scale(0.11 -0.11)\">\n       <use xlink:href=\"#DejaVuSans-63\"/>\n       <use xlink:href=\"#DejaVuSans-61\" x=\"54.980469\"/>\n       <use xlink:href=\"#DejaVuSans-6c\" x=\"116.259766\"/>\n       <use xlink:href=\"#DejaVuSans-69\" x=\"144.042969\"/>\n       <use xlink:href=\"#DejaVuSans-62\" x=\"171.826172\"/>\n       <use xlink:href=\"#DejaVuSans-72\" x=\"235.302734\"/>\n       <use xlink:href=\"#DejaVuSans-61\" x=\"276.416016\"/>\n       <use xlink:href=\"#DejaVuSans-74\" x=\"337.695312\"/>\n       <use xlink:href=\"#DejaVuSans-69\" x=\"376.904297\"/>\n       <use xlink:href=\"#DejaVuSans-6f\" x=\"404.6875\"/>\n       <use xlink:href=\"#DejaVuSans-6e\" x=\"465.869141\"/>\n       <use xlink:href=\"#DejaVuSans-2d\" x=\"529.248047\"/>\n       <use xlink:href=\"#DejaVuSans-6a\" x=\"565.332031\"/>\n       <use xlink:href=\"#DejaVuSans-75\" x=\"593.115234\"/>\n       <use xlink:href=\"#DejaVuSans-6e\" x=\"656.494141\"/>\n       <use xlink:href=\"#DejaVuSans-65\" x=\"719.873047\"/>\n       <use xlink:href=\"#DejaVuSans-2e\" x=\"781.396484\"/>\n       <use xlink:href=\"#DejaVuSans-77\" x=\"813.183594\"/>\n       <use xlink:href=\"#DejaVuSans-65\" x=\"894.970703\"/>\n       <use xlink:href=\"#DejaVuSans-65\" x=\"956.494141\"/>\n       <use xlink:href=\"#DejaVuSans-6b\" x=\"1018.017578\"/>\n       <use xlink:href=\"#DejaVuSans-32\" x=\"1075.927734\"/>\n      </g>\n     </g>\n    </g>\n    <g id=\"xtick_15\">\n     <g id=\"line2d_15\">\n      <path d=\"M 525.630777 331.431875 \nL 525.630777 59.631875 \n\" clip-path=\"url(#p38241cbd11)\" style=\"fill: none; stroke: #ffffff; stroke-linecap: round\"/>\n     </g>\n     <g id=\"text_15\">\n      <!-- calibration-june.week1 -->\n      <g style=\"fill: #262626\" transform=\"translate(528.66609 466.282031)rotate(-90)scale(0.11 -0.11)\">\n       <use xlink:href=\"#DejaVuSans-63\"/>\n       <use xlink:href=\"#DejaVuSans-61\" x=\"54.980469\"/>\n       <use xlink:href=\"#DejaVuSans-6c\" x=\"116.259766\"/>\n       <use xlink:href=\"#DejaVuSans-69\" x=\"144.042969\"/>\n       <use xlink:href=\"#DejaVuSans-62\" x=\"171.826172\"/>\n       <use xlink:href=\"#DejaVuSans-72\" x=\"235.302734\"/>\n       <use xlink:href=\"#DejaVuSans-61\" x=\"276.416016\"/>\n       <use xlink:href=\"#DejaVuSans-74\" x=\"337.695312\"/>\n       <use xlink:href=\"#DejaVuSans-69\" x=\"376.904297\"/>\n       <use xlink:href=\"#DejaVuSans-6f\" x=\"404.6875\"/>\n       <use xlink:href=\"#DejaVuSans-6e\" x=\"465.869141\"/>\n       <use xlink:href=\"#DejaVuSans-2d\" x=\"529.248047\"/>\n       <use xlink:href=\"#DejaVuSans-6a\" x=\"565.332031\"/>\n       <use xlink:href=\"#DejaVuSans-75\" x=\"593.115234\"/>\n       <use xlink:href=\"#DejaVuSans-6e\" x=\"656.494141\"/>\n       <use xlink:href=\"#DejaVuSans-65\" x=\"719.873047\"/>\n       <use xlink:href=\"#DejaVuSans-2e\" x=\"781.396484\"/>\n       <use xlink:href=\"#DejaVuSans-77\" x=\"813.183594\"/>\n       <use xlink:href=\"#DejaVuSans-65\" x=\"894.970703\"/>\n       <use xlink:href=\"#DejaVuSans-65\" x=\"956.494141\"/>\n       <use xlink:href=\"#DejaVuSans-6b\" x=\"1018.017578\"/>\n       <use xlink:href=\"#DejaVuSans-31\" x=\"1075.927734\"/>\n      </g>\n     </g>\n    </g>\n    <g id=\"xtick_16\">\n     <g id=\"line2d_16\">\n      <path d=\"M 557.885112 331.431875 \nL 557.885112 59.631875 \n\" clip-path=\"url(#p38241cbd11)\" style=\"fill: none; stroke: #ffffff; stroke-linecap: round\"/>\n     </g>\n     <g id=\"text_16\">\n      <!-- calibration-may.week2 -->\n      <g style=\"fill: #262626\" transform=\"translate(560.920425 464.913906)rotate(-90)scale(0.11 -0.11)\">\n       <use xlink:href=\"#DejaVuSans-63\"/>\n       <use xlink:href=\"#DejaVuSans-61\" x=\"54.980469\"/>\n       <use xlink:href=\"#DejaVuSans-6c\" x=\"116.259766\"/>\n       <use xlink:href=\"#DejaVuSans-69\" x=\"144.042969\"/>\n       <use xlink:href=\"#DejaVuSans-62\" x=\"171.826172\"/>\n       <use xlink:href=\"#DejaVuSans-72\" x=\"235.302734\"/>\n       <use xlink:href=\"#DejaVuSans-61\" x=\"276.416016\"/>\n       <use xlink:href=\"#DejaVuSans-74\" x=\"337.695312\"/>\n       <use xlink:href=\"#DejaVuSans-69\" x=\"376.904297\"/>\n       <use xlink:href=\"#DejaVuSans-6f\" x=\"404.6875\"/>\n       <use xlink:href=\"#DejaVuSans-6e\" x=\"465.869141\"/>\n       <use xlink:href=\"#DejaVuSans-2d\" x=\"529.248047\"/>\n       <use xlink:href=\"#DejaVuSans-6d\" x=\"565.332031\"/>\n       <use xlink:href=\"#DejaVuSans-61\" x=\"662.744141\"/>\n       <use xlink:href=\"#DejaVuSans-79\" x=\"724.023438\"/>\n       <use xlink:href=\"#DejaVuSans-2e\" x=\"768.953125\"/>\n       <use xlink:href=\"#DejaVuSans-77\" x=\"800.740234\"/>\n       <use xlink:href=\"#DejaVuSans-65\" x=\"882.527344\"/>\n       <use xlink:href=\"#DejaVuSans-65\" x=\"944.050781\"/>\n       <use xlink:href=\"#DejaVuSans-6b\" x=\"1005.574219\"/>\n       <use xlink:href=\"#DejaVuSans-32\" x=\"1063.484375\"/>\n      </g>\n     </g>\n    </g>\n    <g id=\"xtick_17\">\n     <g id=\"line2d_17\">\n      <path d=\"M 590.139448 331.431875 \nL 590.139448 59.631875 \n\" clip-path=\"url(#p38241cbd11)\" style=\"fill: none; stroke: #ffffff; stroke-linecap: round\"/>\n     </g>\n     <g id=\"text_17\">\n      <!-- calibration-may.week3 -->\n      <g style=\"fill: #262626\" transform=\"translate(593.17476 464.913906)rotate(-90)scale(0.11 -0.11)\">\n       <use xlink:href=\"#DejaVuSans-63\"/>\n       <use xlink:href=\"#DejaVuSans-61\" x=\"54.980469\"/>\n       <use xlink:href=\"#DejaVuSans-6c\" x=\"116.259766\"/>\n       <use xlink:href=\"#DejaVuSans-69\" x=\"144.042969\"/>\n       <use xlink:href=\"#DejaVuSans-62\" x=\"171.826172\"/>\n       <use xlink:href=\"#DejaVuSans-72\" x=\"235.302734\"/>\n       <use xlink:href=\"#DejaVuSans-61\" x=\"276.416016\"/>\n       <use xlink:href=\"#DejaVuSans-74\" x=\"337.695312\"/>\n       <use xlink:href=\"#DejaVuSans-69\" x=\"376.904297\"/>\n       <use xlink:href=\"#DejaVuSans-6f\" x=\"404.6875\"/>\n       <use xlink:href=\"#DejaVuSans-6e\" x=\"465.869141\"/>\n       <use xlink:href=\"#DejaVuSans-2d\" x=\"529.248047\"/>\n       <use xlink:href=\"#DejaVuSans-6d\" x=\"565.332031\"/>\n       <use xlink:href=\"#DejaVuSans-61\" x=\"662.744141\"/>\n       <use xlink:href=\"#DejaVuSans-79\" x=\"724.023438\"/>\n       <use xlink:href=\"#DejaVuSans-2e\" x=\"768.953125\"/>\n       <use xlink:href=\"#DejaVuSans-77\" x=\"800.740234\"/>\n       <use xlink:href=\"#DejaVuSans-65\" x=\"882.527344\"/>\n       <use xlink:href=\"#DejaVuSans-65\" x=\"944.050781\"/>\n       <use xlink:href=\"#DejaVuSans-6b\" x=\"1005.574219\"/>\n       <use xlink:href=\"#DejaVuSans-33\" x=\"1063.484375\"/>\n      </g>\n     </g>\n    </g>\n    <g id=\"text_18\">\n     <!-- mois/semaine -->\n     <g style=\"fill: #262626\" transform=\"translate(290.275391 490.382969)scale(0.12 -0.12)\">\n      <defs>\n       <path id=\"DejaVuSans-73\" d=\"M 2834 3397 \nL 2834 2853 \nQ 2591 2978 2328 3040 \nQ 2066 3103 1784 3103 \nQ 1356 3103 1142 2972 \nQ 928 2841 928 2578 \nQ 928 2378 1081 2264 \nQ 1234 2150 1697 2047 \nL 1894 2003 \nQ 2506 1872 2764 1633 \nQ 3022 1394 3022 966 \nQ 3022 478 2636 193 \nQ 2250 -91 1575 -91 \nQ 1294 -91 989 -36 \nQ 684 19 347 128 \nL 347 722 \nQ 666 556 975 473 \nQ 1284 391 1588 391 \nQ 1994 391 2212 530 \nQ 2431 669 2431 922 \nQ 2431 1156 2273 1281 \nQ 2116 1406 1581 1522 \nL 1381 1569 \nQ 847 1681 609 1914 \nQ 372 2147 372 2553 \nQ 372 3047 722 3315 \nQ 1072 3584 1716 3584 \nQ 2034 3584 2315 3537 \nQ 2597 3491 2834 3397 \nz\n\" transform=\"scale(0.015625)\"/>\n       <path id=\"DejaVuSans-2f\" d=\"M 1625 4666 \nL 2156 4666 \nL 531 -594 \nL 0 -594 \nL 1625 4666 \nz\n\" transform=\"scale(0.015625)\"/>\n      </defs>\n      <use xlink:href=\"#DejaVuSans-6d\"/>\n      <use xlink:href=\"#DejaVuSans-6f\" x=\"97.412109\"/>\n      <use xlink:href=\"#DejaVuSans-69\" x=\"158.59375\"/>\n      <use xlink:href=\"#DejaVuSans-73\" x=\"186.376953\"/>\n      <use xlink:href=\"#DejaVuSans-2f\" x=\"238.476562\"/>\n      <use xlink:href=\"#DejaVuSans-73\" x=\"272.167969\"/>\n      <use xlink:href=\"#DejaVuSans-65\" x=\"324.267578\"/>\n      <use xlink:href=\"#DejaVuSans-6d\" x=\"385.791016\"/>\n      <use xlink:href=\"#DejaVuSans-61\" x=\"483.203125\"/>\n      <use xlink:href=\"#DejaVuSans-69\" x=\"544.482422\"/>\n      <use xlink:href=\"#DejaVuSans-6e\" x=\"572.265625\"/>\n      <use xlink:href=\"#DejaVuSans-65\" x=\"635.644531\"/>\n     </g>\n    </g>\n   </g>\n   <g id=\"matplotlib.axis_2\">\n    <g id=\"ytick_1\">\n     <g id=\"line2d_18\">\n      <path d=\"M 53.104766 291.665719 \nL 611.104766 291.665719 \n\" clip-path=\"url(#p38241cbd11)\" style=\"fill: none; stroke: #ffffff; stroke-linecap: round\"/>\n     </g>\n     <g id=\"text_19\">\n      <!-- $\\mathdefault{10^{1}}$ -->\n      <g style=\"fill: #262626\" transform=\"translate(24.244766 295.844859)scale(0.11 -0.11)\">\n       <defs>\n        <path id=\"DejaVuSans-30\" d=\"M 2034 4250 \nQ 1547 4250 1301 3770 \nQ 1056 3291 1056 2328 \nQ 1056 1369 1301 889 \nQ 1547 409 2034 409 \nQ 2525 409 2770 889 \nQ 3016 1369 3016 2328 \nQ 3016 3291 2770 3770 \nQ 2525 4250 2034 4250 \nz\nM 2034 4750 \nQ 2819 4750 3233 4129 \nQ 3647 3509 3647 2328 \nQ 3647 1150 3233 529 \nQ 2819 -91 2034 -91 \nQ 1250 -91 836 529 \nQ 422 1150 422 2328 \nQ 422 3509 836 4129 \nQ 1250 4750 2034 4750 \nz\n\" transform=\"scale(0.015625)\"/>\n       </defs>\n       <use xlink:href=\"#DejaVuSans-31\" transform=\"translate(0 0.684375)\"/>\n       <use xlink:href=\"#DejaVuSans-30\" transform=\"translate(63.623047 0.684375)\"/>\n       <use xlink:href=\"#DejaVuSans-31\" transform=\"translate(128.203125 38.965625)scale(0.7)\"/>\n      </g>\n     </g>\n    </g>\n    <g id=\"ytick_2\">\n     <g id=\"line2d_19\">\n      <path d=\"M 53.104766 236.842497 \nL 611.104766 236.842497 \n\" clip-path=\"url(#p38241cbd11)\" style=\"fill: none; stroke: #ffffff; stroke-linecap: round\"/>\n     </g>\n     <g id=\"text_20\">\n      <!-- $\\mathdefault{10^{3}}$ -->\n      <g style=\"fill: #262626\" transform=\"translate(24.244766 241.021638)scale(0.11 -0.11)\">\n       <use xlink:href=\"#DejaVuSans-31\" transform=\"translate(0 0.765625)\"/>\n       <use xlink:href=\"#DejaVuSans-30\" transform=\"translate(63.623047 0.765625)\"/>\n       <use xlink:href=\"#DejaVuSans-33\" transform=\"translate(128.203125 39.046875)scale(0.7)\"/>\n      </g>\n     </g>\n    </g>\n    <g id=\"ytick_3\">\n     <g id=\"line2d_20\">\n      <path d=\"M 53.104766 182.019276 \nL 611.104766 182.019276 \n\" clip-path=\"url(#p38241cbd11)\" style=\"fill: none; stroke: #ffffff; stroke-linecap: round\"/>\n     </g>\n     <g id=\"text_21\">\n      <!-- $\\mathdefault{10^{5}}$ -->\n      <g style=\"fill: #262626\" transform=\"translate(24.244766 186.198417)scale(0.11 -0.11)\">\n       <use xlink:href=\"#DejaVuSans-31\" transform=\"translate(0 0.684375)\"/>\n       <use xlink:href=\"#DejaVuSans-30\" transform=\"translate(63.623047 0.684375)\"/>\n       <use xlink:href=\"#DejaVuSans-35\" transform=\"translate(128.203125 38.965625)scale(0.7)\"/>\n      </g>\n     </g>\n    </g>\n    <g id=\"ytick_4\">\n     <g id=\"line2d_21\">\n      <path d=\"M 53.104766 127.196055 \nL 611.104766 127.196055 \n\" clip-path=\"url(#p38241cbd11)\" style=\"fill: none; stroke: #ffffff; stroke-linecap: round\"/>\n     </g>\n     <g id=\"text_22\">\n      <!-- $\\mathdefault{10^{7}}$ -->\n      <g style=\"fill: #262626\" transform=\"translate(24.244766 131.375195)scale(0.11 -0.11)\">\n       <defs>\n        <path id=\"DejaVuSans-37\" d=\"M 525 4666 \nL 3525 4666 \nL 3525 4397 \nL 1831 0 \nL 1172 0 \nL 2766 4134 \nL 525 4134 \nL 525 4666 \nz\n\" transform=\"scale(0.015625)\"/>\n       </defs>\n       <use xlink:href=\"#DejaVuSans-31\" transform=\"translate(0 0.684375)\"/>\n       <use xlink:href=\"#DejaVuSans-30\" transform=\"translate(63.623047 0.684375)\"/>\n       <use xlink:href=\"#DejaVuSans-37\" transform=\"translate(128.203125 38.965625)scale(0.7)\"/>\n      </g>\n     </g>\n    </g>\n    <g id=\"ytick_5\">\n     <g id=\"line2d_22\">\n      <path d=\"M 53.104766 72.372833 \nL 611.104766 72.372833 \n\" clip-path=\"url(#p38241cbd11)\" style=\"fill: none; stroke: #ffffff; stroke-linecap: round\"/>\n     </g>\n     <g id=\"text_23\">\n      <!-- $\\mathdefault{10^{9}}$ -->\n      <g style=\"fill: #262626\" transform=\"translate(24.244766 76.551974)scale(0.11 -0.11)\">\n       <defs>\n        <path id=\"DejaVuSans-39\" d=\"M 703 97 \nL 703 672 \nQ 941 559 1184 500 \nQ 1428 441 1663 441 \nQ 2288 441 2617 861 \nQ 2947 1281 2994 2138 \nQ 2813 1869 2534 1725 \nQ 2256 1581 1919 1581 \nQ 1219 1581 811 2004 \nQ 403 2428 403 3163 \nQ 403 3881 828 4315 \nQ 1253 4750 1959 4750 \nQ 2769 4750 3195 4129 \nQ 3622 3509 3622 2328 \nQ 3622 1225 3098 567 \nQ 2575 -91 1691 -91 \nQ 1453 -91 1209 -44 \nQ 966 3 703 97 \nz\nM 1959 2075 \nQ 2384 2075 2632 2365 \nQ 2881 2656 2881 3163 \nQ 2881 3666 2632 3958 \nQ 2384 4250 1959 4250 \nQ 1534 4250 1286 3958 \nQ 1038 3666 1038 3163 \nQ 1038 2656 1286 2365 \nQ 1534 2075 1959 2075 \nz\n\" transform=\"scale(0.015625)\"/>\n       </defs>\n       <use xlink:href=\"#DejaVuSans-31\" transform=\"translate(0 0.765625)\"/>\n       <use xlink:href=\"#DejaVuSans-30\" transform=\"translate(63.623047 0.765625)\"/>\n       <use xlink:href=\"#DejaVuSans-39\" transform=\"translate(128.203125 39.046875)scale(0.7)\"/>\n      </g>\n     </g>\n    </g>\n    <g id=\"text_24\">\n     <!-- Nombre d'exemples -->\n     <g style=\"fill: #262626\" transform=\"translate(17.749141 255.514063)rotate(-90)scale(0.12 -0.12)\">\n      <defs>\n       <path id=\"DejaVuSans-4e\" d=\"M 628 4666 \nL 1478 4666 \nL 3547 763 \nL 3547 4666 \nL 4159 4666 \nL 4159 0 \nL 3309 0 \nL 1241 3903 \nL 1241 0 \nL 628 0 \nL 628 4666 \nz\n\" transform=\"scale(0.015625)\"/>\n       <path id=\"DejaVuSans-20\" transform=\"scale(0.015625)\"/>\n       <path id=\"DejaVuSans-64\" d=\"M 2906 2969 \nL 2906 4863 \nL 3481 4863 \nL 3481 0 \nL 2906 0 \nL 2906 525 \nQ 2725 213 2448 61 \nQ 2172 -91 1784 -91 \nQ 1150 -91 751 415 \nQ 353 922 353 1747 \nQ 353 2572 751 3078 \nQ 1150 3584 1784 3584 \nQ 2172 3584 2448 3432 \nQ 2725 3281 2906 2969 \nz\nM 947 1747 \nQ 947 1113 1208 752 \nQ 1469 391 1925 391 \nQ 2381 391 2643 752 \nQ 2906 1113 2906 1747 \nQ 2906 2381 2643 2742 \nQ 2381 3103 1925 3103 \nQ 1469 3103 1208 2742 \nQ 947 2381 947 1747 \nz\n\" transform=\"scale(0.015625)\"/>\n       <path id=\"DejaVuSans-27\" d=\"M 1147 4666 \nL 1147 2931 \nL 616 2931 \nL 616 4666 \nL 1147 4666 \nz\n\" transform=\"scale(0.015625)\"/>\n       <path id=\"DejaVuSans-78\" d=\"M 3513 3500 \nL 2247 1797 \nL 3578 0 \nL 2900 0 \nL 1881 1375 \nL 863 0 \nL 184 0 \nL 1544 1831 \nL 300 3500 \nL 978 3500 \nL 1906 2253 \nL 2834 3500 \nL 3513 3500 \nz\n\" transform=\"scale(0.015625)\"/>\n      </defs>\n      <use xlink:href=\"#DejaVuSans-4e\"/>\n      <use xlink:href=\"#DejaVuSans-6f\" x=\"74.804688\"/>\n      <use xlink:href=\"#DejaVuSans-6d\" x=\"135.986328\"/>\n      <use xlink:href=\"#DejaVuSans-62\" x=\"233.398438\"/>\n      <use xlink:href=\"#DejaVuSans-72\" x=\"296.875\"/>\n      <use xlink:href=\"#DejaVuSans-65\" x=\"335.738281\"/>\n      <use xlink:href=\"#DejaVuSans-20\" x=\"397.261719\"/>\n      <use xlink:href=\"#DejaVuSans-64\" x=\"429.048828\"/>\n      <use xlink:href=\"#DejaVuSans-27\" x=\"492.525391\"/>\n      <use xlink:href=\"#DejaVuSans-65\" x=\"520.015625\"/>\n      <use xlink:href=\"#DejaVuSans-78\" x=\"579.789062\"/>\n      <use xlink:href=\"#DejaVuSans-65\" x=\"635.84375\"/>\n      <use xlink:href=\"#DejaVuSans-6d\" x=\"697.367188\"/>\n      <use xlink:href=\"#DejaVuSans-70\" x=\"794.779297\"/>\n      <use xlink:href=\"#DejaVuSans-6c\" x=\"858.255859\"/>\n      <use xlink:href=\"#DejaVuSans-65\" x=\"886.039062\"/>\n      <use xlink:href=\"#DejaVuSans-73\" x=\"947.5625\"/>\n     </g>\n    </g>\n   </g>\n   <g id=\"patch_3\">\n    <path d=\"M 61.168349 27730.688028 \nL 66.329043 27730.688028 \nL 66.329043 319.07733 \nL 61.168349 319.07733 \nz\n\" clip-path=\"url(#p38241cbd11)\" style=\"fill: #0173b2; stroke: #ffffff; stroke-linejoin: miter\"/>\n   </g>\n   <g id=\"patch_4\">\n    <path d=\"M 93.422685 27730.688028 \nL 98.583378 27730.688028 \nL 98.583378 319.07733 \nL 93.422685 319.07733 \nz\n\" clip-path=\"url(#p38241cbd11)\" style=\"fill: #0173b2; stroke: #ffffff; stroke-linejoin: miter\"/>\n   </g>\n   <g id=\"patch_5\">\n    <path d=\"M 125.67702 27730.688028 \nL 130.837714 27730.688028 \nL 130.837714 297.74695 \nL 125.67702 297.74695 \nz\n\" clip-path=\"url(#p38241cbd11)\" style=\"fill: #0173b2; stroke: #ffffff; stroke-linejoin: miter\"/>\n   </g>\n   <g id=\"patch_6\">\n    <path d=\"M 157.931355 27730.688028 \nL 163.092049 27730.688028 \nL 163.092049 319.07733 \nL 157.931355 319.07733 \nz\n\" clip-path=\"url(#p38241cbd11)\" style=\"fill: #0173b2; stroke: #ffffff; stroke-linejoin: miter\"/>\n   </g>\n   <g id=\"patch_7\">\n    <path d=\"M 190.18569 27730.688028 \nL 195.346384 27730.688028 \nL 195.346384 319.07733 \nL 190.18569 319.07733 \nz\n\" clip-path=\"url(#p38241cbd11)\" style=\"fill: #0173b2; stroke: #ffffff; stroke-linejoin: miter\"/>\n   </g>\n   <g id=\"patch_8\">\n    <path d=\"M 222.440026 27730.688028 \nL 227.600719 27730.688028 \nL 227.600719 319.07733 \nL 222.440026 319.07733 \nz\n\" clip-path=\"url(#p38241cbd11)\" style=\"fill: #0173b2; stroke: #ffffff; stroke-linejoin: miter\"/>\n   </g>\n   <g id=\"patch_9\">\n    <path d=\"M 254.694361 27730.688028 \nL 259.855055 27730.688028 \nL 259.855055 319.07733 \nL 254.694361 319.07733 \nz\n\" clip-path=\"url(#p38241cbd11)\" style=\"fill: #0173b2; stroke: #ffffff; stroke-linejoin: miter\"/>\n   </g>\n   <g id=\"patch_10\">\n    <path d=\"M 286.948696 27730.688028 \nL 292.10939 27730.688028 \nL 292.10939 319.07733 \nL 286.948696 319.07733 \nz\n\" clip-path=\"url(#p38241cbd11)\" style=\"fill: #0173b2; stroke: #ffffff; stroke-linejoin: miter\"/>\n   </g>\n   <g id=\"patch_11\">\n    <path d=\"M 319.203032 27730.688028 \nL 324.363725 27730.688028 \nL 324.363725 319.07733 \nL 319.203032 319.07733 \nz\n\" clip-path=\"url(#p38241cbd11)\" style=\"fill: #0173b2; stroke: #ffffff; stroke-linejoin: miter\"/>\n   </g>\n   <g id=\"patch_12\">\n    <path d=\"M 351.457367 27730.688028 \nL 356.61806 27730.688028 \nL 356.61806 319.07733 \nL 351.457367 319.07733 \nz\n\" clip-path=\"url(#p38241cbd11)\" style=\"fill: #0173b2; stroke: #ffffff; stroke-linejoin: miter\"/>\n   </g>\n   <g id=\"patch_13\">\n    <path d=\"M 383.711702 27730.688028 \nL 388.872396 27730.688028 \nL 388.872396 319.07733 \nL 383.711702 319.07733 \nz\n\" clip-path=\"url(#p38241cbd11)\" style=\"fill: #0173b2; stroke: #ffffff; stroke-linejoin: miter\"/>\n   </g>\n   <g id=\"patch_14\">\n    <path d=\"M 415.966037 27730.688028 \nL 421.126731 27730.688028 \nL 421.126731 305.998667 \nL 415.966037 305.998667 \nz\n\" clip-path=\"url(#p38241cbd11)\" style=\"fill: #0173b2; stroke: #ffffff; stroke-linejoin: miter\"/>\n   </g>\n   <g id=\"patch_15\">\n    <path d=\"M 448.220373 27730.688028 \nL 453.381066 27730.688028 \nL 453.381066 319.07733 \nL 448.220373 319.07733 \nz\n\" clip-path=\"url(#p38241cbd11)\" style=\"fill: #0173b2; stroke: #ffffff; stroke-linejoin: miter\"/>\n   </g>\n   <g id=\"patch_16\">\n    <path d=\"M 480.474708 27730.688028 \nL 485.635401 27730.688028 \nL 485.635401 319.07733 \nL 480.474708 319.07733 \nz\n\" clip-path=\"url(#p38241cbd11)\" style=\"fill: #0173b2; stroke: #ffffff; stroke-linejoin: miter\"/>\n   </g>\n   <g id=\"patch_17\">\n    <path d=\"M 512.729043 27730.688028 \nL 517.889737 27730.688028 \nL 517.889737 319.07733 \nL 512.729043 319.07733 \nz\n\" clip-path=\"url(#p38241cbd11)\" style=\"fill: #0173b2; stroke: #ffffff; stroke-linejoin: miter\"/>\n   </g>\n   <g id=\"patch_18\">\n    <path d=\"M 544.983378 27730.688028 \nL 550.144072 27730.688028 \nL 550.144072 305.998667 \nL 544.983378 305.998667 \nz\n\" clip-path=\"url(#p38241cbd11)\" style=\"fill: #0173b2; stroke: #ffffff; stroke-linejoin: miter\"/>\n   </g>\n   <g id=\"patch_19\">\n    <path d=\"M 577.237714 27730.688028 \nL 582.398407 27730.688028 \nL 582.398407 310.825612 \nL 577.237714 310.825612 \nz\n\" clip-path=\"url(#p38241cbd11)\" style=\"fill: #0173b2; stroke: #ffffff; stroke-linejoin: miter\"/>\n   </g>\n   <g id=\"patch_20\">\n    <path d=\"M 66.329043 27730.688028 \nL 71.489737 27730.688028 \nL 71.489737 74.403294 \nL 66.329043 74.403294 \nz\n\" clip-path=\"url(#p38241cbd11)\" style=\"fill: #de8f05; stroke: #ffffff; stroke-linejoin: miter\"/>\n   </g>\n   <g id=\"patch_21\">\n    <path d=\"M 98.583378 27730.688028 \nL 103.744072 27730.688028 \nL 103.744072 78.913261 \nL 98.583378 78.913261 \nz\n\" clip-path=\"url(#p38241cbd11)\" style=\"fill: #de8f05; stroke: #ffffff; stroke-linejoin: miter\"/>\n   </g>\n   <g id=\"patch_22\">\n    <path d=\"M 130.837714 27730.688028 \nL 135.998407 27730.688028 \nL 135.998407 72.502364 \nL 130.837714 72.502364 \nz\n\" clip-path=\"url(#p38241cbd11)\" style=\"fill: #de8f05; stroke: #ffffff; stroke-linejoin: miter\"/>\n   </g>\n   <g id=\"patch_23\">\n    <path d=\"M 163.092049 27730.688028 \nL 168.252743 27730.688028 \nL 168.252743 73.79362 \nL 163.092049 73.79362 \nz\n\" clip-path=\"url(#p38241cbd11)\" style=\"fill: #de8f05; stroke: #ffffff; stroke-linejoin: miter\"/>\n   </g>\n   <g id=\"patch_24\">\n    <path d=\"M 195.346384 27730.688028 \nL 200.507078 27730.688028 \nL 200.507078 72.41128 \nL 195.346384 72.41128 \nz\n\" clip-path=\"url(#p38241cbd11)\" style=\"fill: #de8f05; stroke: #ffffff; stroke-linejoin: miter\"/>\n   </g>\n   <g id=\"patch_25\">\n    <path d=\"M 227.600719 27730.688028 \nL 232.761413 27730.688028 \nL 232.761413 97.217896 \nL 227.600719 97.217896 \nz\n\" clip-path=\"url(#p38241cbd11)\" style=\"fill: #de8f05; stroke: #ffffff; stroke-linejoin: miter\"/>\n   </g>\n   <g id=\"patch_26\">\n    <path d=\"M 259.855055 27730.688028 \nL 265.015748 27730.688028 \nL 265.015748 71.98642 \nL 259.855055 71.98642 \nz\n\" clip-path=\"url(#p38241cbd11)\" style=\"fill: #de8f05; stroke: #ffffff; stroke-linejoin: miter\"/>\n   </g>\n   <g id=\"patch_27\">\n    <path d=\"M 292.10939 27730.688028 \nL 297.270084 27730.688028 \nL 297.270084 74.24327 \nL 292.10939 74.24327 \nz\n\" clip-path=\"url(#p38241cbd11)\" style=\"fill: #de8f05; stroke: #ffffff; stroke-linejoin: miter\"/>\n   </g>\n   <g id=\"patch_28\">\n    <path d=\"M 324.363725 27730.688028 \nL 329.524419 27730.688028 \nL 329.524419 89.42671 \nL 324.363725 89.42671 \nz\n\" clip-path=\"url(#p38241cbd11)\" style=\"fill: #de8f05; stroke: #ffffff; stroke-linejoin: miter\"/>\n   </g>\n   <g id=\"patch_29\">\n    <path d=\"M 356.61806 27730.688028 \nL 361.778754 27730.688028 \nL 361.778754 86.86069 \nL 356.61806 86.86069 \nz\n\" clip-path=\"url(#p38241cbd11)\" style=\"fill: #de8f05; stroke: #ffffff; stroke-linejoin: miter\"/>\n   </g>\n   <g id=\"patch_30\">\n    <path d=\"M 388.872396 27730.688028 \nL 394.033089 27730.688028 \nL 394.033089 79.331578 \nL 388.872396 79.331578 \nz\n\" clip-path=\"url(#p38241cbd11)\" style=\"fill: #de8f05; stroke: #ffffff; stroke-linejoin: miter\"/>\n   </g>\n   <g id=\"patch_31\">\n    <path d=\"M 421.126731 27730.688028 \nL 426.287425 27730.688028 \nL 426.287425 72.011673 \nL 421.126731 72.011673 \nz\n\" clip-path=\"url(#p38241cbd11)\" style=\"fill: #de8f05; stroke: #ffffff; stroke-linejoin: miter\"/>\n   </g>\n   <g id=\"patch_32\">\n    <path d=\"M 453.381066 27730.688028 \nL 458.54176 27730.688028 \nL 458.54176 74.623123 \nL 453.381066 74.623123 \nz\n\" clip-path=\"url(#p38241cbd11)\" style=\"fill: #de8f05; stroke: #ffffff; stroke-linejoin: miter\"/>\n   </g>\n   <g id=\"patch_33\">\n    <path d=\"M 485.635401 27730.688028 \nL 490.796095 27730.688028 \nL 490.796095 72.536674 \nL 485.635401 72.536674 \nz\n\" clip-path=\"url(#p38241cbd11)\" style=\"fill: #de8f05; stroke: #ffffff; stroke-linejoin: miter\"/>\n   </g>\n   <g id=\"patch_34\">\n    <path d=\"M 517.889737 27730.688028 \nL 523.05043 27730.688028 \nL 523.05043 77.006779 \nL 517.889737 77.006779 \nz\n\" clip-path=\"url(#p38241cbd11)\" style=\"fill: #de8f05; stroke: #ffffff; stroke-linejoin: miter\"/>\n   </g>\n   <g id=\"patch_35\">\n    <path d=\"M 550.144072 27730.688028 \nL 555.304766 27730.688028 \nL 555.304766 72.828527 \nL 550.144072 72.828527 \nz\n\" clip-path=\"url(#p38241cbd11)\" style=\"fill: #de8f05; stroke: #ffffff; stroke-linejoin: miter\"/>\n   </g>\n   <g id=\"patch_36\">\n    <path d=\"M 582.398407 27730.688028 \nL 587.559101 27730.688028 \nL 587.559101 72.73207 \nL 582.398407 72.73207 \nz\n\" clip-path=\"url(#p38241cbd11)\" style=\"fill: #de8f05; stroke: #ffffff; stroke-linejoin: miter\"/>\n   </g>\n   <g id=\"patch_37\">\n    <path d=\"M 71.489737 27730.688028 \nL 76.65043 27730.688028 \nL 76.65043 119.382556 \nL 71.489737 119.382556 \nz\n\" clip-path=\"url(#p38241cbd11)\" style=\"fill: #029e73; stroke: #ffffff; stroke-linejoin: miter\"/>\n   </g>\n   <g id=\"patch_38\">\n    <path d=\"M 103.744072 27730.688028 \nL 108.904766 27730.688028 \nL 108.904766 147.760852 \nL 103.744072 147.760852 \nz\n\" clip-path=\"url(#p38241cbd11)\" style=\"fill: #029e73; stroke: #ffffff; stroke-linejoin: miter\"/>\n   </g>\n   <g id=\"patch_39\">\n    <path d=\"M 135.998407 27730.688028 \nL 141.159101 27730.688028 \nL 141.159101 139.234906 \nL 135.998407 139.234906 \nz\n\" clip-path=\"url(#p38241cbd11)\" style=\"fill: #029e73; stroke: #ffffff; stroke-linejoin: miter\"/>\n   </g>\n   <g id=\"patch_40\">\n    <path d=\"M 168.252743 27730.688028 \nL 173.413436 27730.688028 \nL 173.413436 121.152099 \nL 168.252743 121.152099 \nz\n\" clip-path=\"url(#p38241cbd11)\" style=\"fill: #029e73; stroke: #ffffff; stroke-linejoin: miter\"/>\n   </g>\n   <g id=\"patch_41\">\n    <path d=\"M 200.507078 27730.688028 \nL 205.667771 27730.688028 \nL 205.667771 142.449209 \nL 200.507078 142.449209 \nz\n\" clip-path=\"url(#p38241cbd11)\" style=\"fill: #029e73; stroke: #ffffff; stroke-linejoin: miter\"/>\n   </g>\n   <g id=\"patch_42\">\n    <path d=\"M 232.761413 27730.688028 \nL 237.922107 27730.688028 \nL 237.922107 163.950716 \nL 232.761413 163.950716 \nz\n\" clip-path=\"url(#p38241cbd11)\" style=\"fill: #029e73; stroke: #ffffff; stroke-linejoin: miter\"/>\n   </g>\n   <g id=\"patch_43\">\n    <path d=\"M 265.015748 27730.688028 \nL 270.176442 27730.688028 \nL 270.176442 140.358904 \nL 265.015748 140.358904 \nz\n\" clip-path=\"url(#p38241cbd11)\" style=\"fill: #029e73; stroke: #ffffff; stroke-linejoin: miter\"/>\n   </g>\n   <g id=\"patch_44\">\n    <path d=\"M 297.270084 27730.688028 \nL 302.430777 27730.688028 \nL 302.430777 143.13567 \nL 297.270084 143.13567 \nz\n\" clip-path=\"url(#p38241cbd11)\" style=\"fill: #029e73; stroke: #ffffff; stroke-linejoin: miter\"/>\n   </g>\n   <g id=\"patch_45\">\n    <path d=\"M 329.524419 27730.688028 \nL 334.685112 27730.688028 \nL 334.685112 153.197855 \nL 329.524419 153.197855 \nz\n\" clip-path=\"url(#p38241cbd11)\" style=\"fill: #029e73; stroke: #ffffff; stroke-linejoin: miter\"/>\n   </g>\n   <g id=\"patch_46\">\n    <path d=\"M 361.778754 27730.688028 \nL 366.939448 27730.688028 \nL 366.939448 156.427792 \nL 361.778754 156.427792 \nz\n\" clip-path=\"url(#p38241cbd11)\" style=\"fill: #029e73; stroke: #ffffff; stroke-linejoin: miter\"/>\n   </g>\n   <g id=\"patch_47\">\n    <path d=\"M 394.033089 27730.688028 \nL 399.193783 27730.688028 \nL 399.193783 148.04212 \nL 394.033089 148.04212 \nz\n\" clip-path=\"url(#p38241cbd11)\" style=\"fill: #029e73; stroke: #ffffff; stroke-linejoin: miter\"/>\n   </g>\n   <g id=\"patch_48\">\n    <path d=\"M 426.287425 27730.688028 \nL 431.448118 27730.688028 \nL 431.448118 141.466647 \nL 426.287425 141.466647 \nz\n\" clip-path=\"url(#p38241cbd11)\" style=\"fill: #029e73; stroke: #ffffff; stroke-linejoin: miter\"/>\n   </g>\n   <g id=\"patch_49\">\n    <path d=\"M 458.54176 27730.688028 \nL 463.702453 27730.688028 \nL 463.702453 142.310466 \nL 458.54176 142.310466 \nz\n\" clip-path=\"url(#p38241cbd11)\" style=\"fill: #029e73; stroke: #ffffff; stroke-linejoin: miter\"/>\n   </g>\n   <g id=\"patch_50\">\n    <path d=\"M 490.796095 27730.688028 \nL 495.956789 27730.688028 \nL 495.956789 128.736969 \nL 490.796095 128.736969 \nz\n\" clip-path=\"url(#p38241cbd11)\" style=\"fill: #029e73; stroke: #ffffff; stroke-linejoin: miter\"/>\n   </g>\n   <g id=\"patch_51\">\n    <path d=\"M 523.05043 27730.688028 \nL 528.211124 27730.688028 \nL 528.211124 139.568079 \nL 523.05043 139.568079 \nz\n\" clip-path=\"url(#p38241cbd11)\" style=\"fill: #029e73; stroke: #ffffff; stroke-linejoin: miter\"/>\n   </g>\n   <g id=\"patch_52\">\n    <path d=\"M 555.304766 27730.688028 \nL 560.465459 27730.688028 \nL 560.465459 137.521066 \nL 555.304766 137.521066 \nz\n\" clip-path=\"url(#p38241cbd11)\" style=\"fill: #029e73; stroke: #ffffff; stroke-linejoin: miter\"/>\n   </g>\n   <g id=\"patch_53\">\n    <path d=\"M 587.559101 27730.688028 \nL 592.719795 27730.688028 \nL 592.719795 138.609709 \nL 587.559101 138.609709 \nz\n\" clip-path=\"url(#p38241cbd11)\" style=\"fill: #029e73; stroke: #ffffff; stroke-linejoin: miter\"/>\n   </g>\n   <g id=\"patch_54\">\n    <path d=\"M 76.65043 27730.688028 \nL 81.811124 27730.688028 \nL 81.811124 278.196703 \nL 76.65043 278.196703 \nz\n\" clip-path=\"url(#p38241cbd11)\" style=\"fill: #d55e00; stroke: #ffffff; stroke-linejoin: miter\"/>\n   </g>\n   <g id=\"patch_55\">\n    <path d=\"M 108.904766 27730.688028 \nL 114.065459 27730.688028 \nL 114.065459 288.542348 \nL 108.904766 288.542348 \nz\n\" clip-path=\"url(#p38241cbd11)\" style=\"fill: #d55e00; stroke: #ffffff; stroke-linejoin: miter\"/>\n   </g>\n   <g id=\"patch_56\">\n    <path d=\"M 141.159101 27730.688028 \nL 146.319795 27730.688028 \nL 146.319795 113.942026 \nL 141.159101 113.942026 \nz\n\" clip-path=\"url(#p38241cbd11)\" style=\"fill: #d55e00; stroke: #ffffff; stroke-linejoin: miter\"/>\n   </g>\n   <g id=\"patch_57\">\n    <path d=\"M 173.413436 27730.688028 \nL 178.57413 27730.688028 \nL 178.57413 273.760112 \nL 173.413436 273.760112 \nz\n\" clip-path=\"url(#p38241cbd11)\" style=\"fill: #d55e00; stroke: #ffffff; stroke-linejoin: miter\"/>\n   </g>\n   <g id=\"patch_58\">\n    <path d=\"M 205.667771 27730.688028 \nL 210.828465 27730.688028 \nL 210.828465 294.322178 \nL 205.667771 294.322178 \nz\n\" clip-path=\"url(#p38241cbd11)\" style=\"fill: #d55e00; stroke: #ffffff; stroke-linejoin: miter\"/>\n   </g>\n   <g id=\"patch_59\">\n    <path d=\"M 237.922107 27730.688028 \nL 243.0828 27730.688028 \nL 243.0828 310.825612 \nL 237.922107 310.825612 \nz\n\" clip-path=\"url(#p38241cbd11)\" style=\"fill: #d55e00; stroke: #ffffff; stroke-linejoin: miter\"/>\n   </g>\n   <g id=\"patch_60\">\n    <path d=\"M 270.176442 27730.688028 \nL 275.337136 27730.688028 \nL 275.337136 310.825612 \nL 270.176442 310.825612 \nz\n\" clip-path=\"url(#p38241cbd11)\" style=\"fill: #d55e00; stroke: #ffffff; stroke-linejoin: miter\"/>\n   </g>\n   <g id=\"patch_61\">\n    <path d=\"M 302.430777 27730.688028 \nL 307.591471 27730.688028 \nL 307.591471 267.67888 \nL 302.430777 267.67888 \nz\n\" clip-path=\"url(#p38241cbd11)\" style=\"fill: #d55e00; stroke: #ffffff; stroke-linejoin: miter\"/>\n   </g>\n   <g id=\"patch_62\">\n    <path d=\"M 334.685112 27730.688028 \nL 339.845806 27730.688028 \nL 339.845806 286.838774 \nL 334.685112 286.838774 \nz\n\" clip-path=\"url(#p38241cbd11)\" style=\"fill: #d55e00; stroke: #ffffff; stroke-linejoin: miter\"/>\n   </g>\n   <g id=\"patch_63\">\n    <path d=\"M 366.939448 27730.688028 \nL 372.100141 27730.688028 \nL 372.100141 310.825612 \nL 366.939448 310.825612 \nz\n\" clip-path=\"url(#p38241cbd11)\" style=\"fill: #d55e00; stroke: #ffffff; stroke-linejoin: miter\"/>\n   </g>\n   <g id=\"patch_64\">\n    <path d=\"M 399.193783 27730.688028 \nL 404.354477 27730.688028 \nL 404.354477 136.574012 \nL 399.193783 136.574012 \nz\n\" clip-path=\"url(#p38241cbd11)\" style=\"fill: #d55e00; stroke: #ffffff; stroke-linejoin: miter\"/>\n   </g>\n   <g id=\"patch_65\">\n    <path d=\"M 431.448118 27730.688028 \nL 436.608812 27730.688028 \nL 436.608812 103.982487 \nL 431.448118 103.982487 \nz\n\" clip-path=\"url(#p38241cbd11)\" style=\"fill: #d55e00; stroke: #ffffff; stroke-linejoin: miter\"/>\n   </g>\n   <g id=\"patch_66\">\n    <path d=\"M 463.702453 27730.688028 \nL 468.863147 27730.688028 \nL 468.863147 297.74695 \nL 463.702453 297.74695 \nz\n\" clip-path=\"url(#p38241cbd11)\" style=\"fill: #d55e00; stroke: #ffffff; stroke-linejoin: miter\"/>\n   </g>\n   <g id=\"patch_67\">\n    <path d=\"M 495.956789 27730.688028 \nL 501.117482 27730.688028 \nL 501.117482 263.228188 \nL 495.956789 263.228188 \nz\n\" clip-path=\"url(#p38241cbd11)\" style=\"fill: #d55e00; stroke: #ffffff; stroke-linejoin: miter\"/>\n   </g>\n   <g id=\"patch_68\">\n    <path d=\"M 528.211124 27730.688028 \nL 533.371818 27730.688028 \nL 533.371818 271.15668 \nL 528.211124 271.15668 \nz\n\" clip-path=\"url(#p38241cbd11)\" style=\"fill: #d55e00; stroke: #ffffff; stroke-linejoin: miter\"/>\n   </g>\n   <g id=\"patch_69\">\n    <path d=\"M 560.465459 27730.688028 \nL 565.626153 27730.688028 \nL 565.626153 302.573895 \nL 560.465459 302.573895 \nz\n\" clip-path=\"url(#p38241cbd11)\" style=\"fill: #d55e00; stroke: #ffffff; stroke-linejoin: miter\"/>\n   </g>\n   <g id=\"patch_70\">\n    <path d=\"M 592.719795 27730.688028 \nL 597.880488 27730.688028 \nL 597.880488 319.07733 \nL 592.719795 319.07733 \nz\n\" clip-path=\"url(#p38241cbd11)\" style=\"fill: #d55e00; stroke: #ffffff; stroke-linejoin: miter\"/>\n   </g>\n   <g id=\"patch_71\">\n    <path d=\"M 81.811124 27730.688028 \nL 86.971818 27730.688028 \nL 86.971818 122.936941 \nL 81.811124 122.936941 \nz\n\" clip-path=\"url(#p38241cbd11)\" style=\"fill: #cc78bc; stroke: #ffffff; stroke-linejoin: miter\"/>\n   </g>\n   <g id=\"patch_72\">\n    <path d=\"M 114.065459 27730.688028 \nL 119.226153 27730.688028 \nL 119.226153 159.264329 \nL 114.065459 159.264329 \nz\n\" clip-path=\"url(#p38241cbd11)\" style=\"fill: #cc78bc; stroke: #ffffff; stroke-linejoin: miter\"/>\n   </g>\n   <g id=\"patch_73\">\n    <path d=\"M 146.319795 27730.688028 \nL 151.480488 27730.688028 \nL 151.480488 274.868326 \nL 146.319795 274.868326 \nz\n\" clip-path=\"url(#p38241cbd11)\" style=\"fill: #cc78bc; stroke: #ffffff; stroke-linejoin: miter\"/>\n   </g>\n   <g id=\"patch_74\">\n    <path d=\"M 178.57413 27730.688028 \nL 183.734823 27730.688028 \nL 183.734823 237.353299 \nL 178.57413 237.353299 \nz\n\" clip-path=\"url(#p38241cbd11)\" style=\"fill: #cc78bc; stroke: #ffffff; stroke-linejoin: miter\"/>\n   </g>\n   <g id=\"patch_75\">\n    <path d=\"M 210.828465 27730.688028 \nL 215.989159 27730.688028 \nL 215.989159 243.164236 \nL 210.828465 243.164236 \nz\n\" clip-path=\"url(#p38241cbd11)\" style=\"fill: #cc78bc; stroke: #ffffff; stroke-linejoin: miter\"/>\n   </g>\n   <g id=\"patch_76\">\n    <path d=\"M 243.0828 27730.688028 \nL 248.243494 27730.688028 \nL 248.243494 27730.688028 \nL 243.0828 27730.688028 \nz\n\" clip-path=\"url(#p38241cbd11)\" style=\"fill: #cc78bc; stroke: #ffffff; stroke-linejoin: miter\"/>\n   </g>\n   <g id=\"patch_77\">\n    <path d=\"M 275.337136 27730.688028 \nL 280.497829 27730.688028 \nL 280.497829 152.09804 \nL 275.337136 152.09804 \nz\n\" clip-path=\"url(#p38241cbd11)\" style=\"fill: #cc78bc; stroke: #ffffff; stroke-linejoin: miter\"/>\n   </g>\n   <g id=\"patch_78\">\n    <path d=\"M 307.591471 27730.688028 \nL 312.752164 27730.688028 \nL 312.752164 143.001013 \nL 307.591471 143.001013 \nz\n\" clip-path=\"url(#p38241cbd11)\" style=\"fill: #cc78bc; stroke: #ffffff; stroke-linejoin: miter\"/>\n   </g>\n   <g id=\"patch_79\">\n    <path d=\"M 339.845806 27730.688028 \nL 345.0065 27730.688028 \nL 345.0065 156.678758 \nL 339.845806 156.678758 \nz\n\" clip-path=\"url(#p38241cbd11)\" style=\"fill: #cc78bc; stroke: #ffffff; stroke-linejoin: miter\"/>\n   </g>\n   <g id=\"patch_80\">\n    <path d=\"M 372.100141 27730.688028 \nL 377.260835 27730.688028 \nL 377.260835 282.279362 \nL 372.100141 282.279362 \nz\n\" clip-path=\"url(#p38241cbd11)\" style=\"fill: #cc78bc; stroke: #ffffff; stroke-linejoin: miter\"/>\n   </g>\n   <g id=\"patch_81\">\n    <path d=\"M 404.354477 27730.688028 \nL 409.51517 27730.688028 \nL 409.51517 166.112134 \nL 404.354477 166.112134 \nz\n\" clip-path=\"url(#p38241cbd11)\" style=\"fill: #cc78bc; stroke: #ffffff; stroke-linejoin: miter\"/>\n   </g>\n   <g id=\"patch_82\">\n    <path d=\"M 436.608812 27730.688028 \nL 441.769506 27730.688028 \nL 441.769506 140.451872 \nL 436.608812 140.451872 \nz\n\" clip-path=\"url(#p38241cbd11)\" style=\"fill: #cc78bc; stroke: #ffffff; stroke-linejoin: miter\"/>\n   </g>\n   <g id=\"patch_83\">\n    <path d=\"M 468.863147 27730.688028 \nL 474.023841 27730.688028 \nL 474.023841 182.413344 \nL 468.863147 182.413344 \nz\n\" clip-path=\"url(#p38241cbd11)\" style=\"fill: #cc78bc; stroke: #ffffff; stroke-linejoin: miter\"/>\n   </g>\n   <g id=\"patch_84\">\n    <path d=\"M 501.117482 27730.688028 \nL 506.278176 27730.688028 \nL 506.278176 251.175446 \nL 501.117482 251.175446 \nz\n\" clip-path=\"url(#p38241cbd11)\" style=\"fill: #cc78bc; stroke: #ffffff; stroke-linejoin: miter\"/>\n   </g>\n   <g id=\"patch_85\">\n    <path d=\"M 533.371818 27730.688028 \nL 538.532511 27730.688028 \nL 538.532511 260.948982 \nL 533.371818 260.948982 \nz\n\" clip-path=\"url(#p38241cbd11)\" style=\"fill: #cc78bc; stroke: #ffffff; stroke-linejoin: miter\"/>\n   </g>\n   <g id=\"patch_86\">\n    <path d=\"M 565.626153 27730.688028 \nL 570.786847 27730.688028 \nL 570.786847 175.407317 \nL 565.626153 175.407317 \nz\n\" clip-path=\"url(#p38241cbd11)\" style=\"fill: #cc78bc; stroke: #ffffff; stroke-linejoin: miter\"/>\n   </g>\n   <g id=\"patch_87\">\n    <path d=\"M 597.880488 27730.688028 \nL 603.041182 27730.688028 \nL 603.041182 173.549743 \nL 597.880488 173.549743 \nz\n\" clip-path=\"url(#p38241cbd11)\" style=\"fill: #cc78bc; stroke: #ffffff; stroke-linejoin: miter\"/>\n   </g>\n   <g id=\"patch_88\">\n    <path d=\"M 53.104766 331.431875 \nL 53.104766 59.631875 \n\" style=\"fill: none; stroke: #ffffff; stroke-width: 1.25; stroke-linejoin: miter; stroke-linecap: square\"/>\n   </g>\n   <g id=\"patch_89\">\n    <path d=\"M 611.104766 331.431875 \nL 611.104766 59.631875 \n\" style=\"fill: none; stroke: #ffffff; stroke-width: 1.25; stroke-linejoin: miter; stroke-linecap: square\"/>\n   </g>\n   <g id=\"patch_90\">\n    <path d=\"M 53.104766 331.431875 \nL 611.104766 331.431875 \n\" style=\"fill: none; stroke: #ffffff; stroke-width: 1.25; stroke-linejoin: miter; stroke-linecap: square\"/>\n   </g>\n   <g id=\"patch_91\">\n    <path d=\"M 53.104766 59.631875 \nL 611.104766 59.631875 \n\" style=\"fill: none; stroke: #ffffff; stroke-width: 1.25; stroke-linejoin: miter; stroke-linecap: square\"/>\n   </g>\n   <g id=\"text_25\">\n    <!-- Répartition des labels dans la dataset CALIBRATION en fonction du mois/semaine -->\n    <g style=\"fill: #262626\" transform=\"translate(88.222578 53.631875)scale(0.12 -0.12)\">\n     <defs>\n      <path id=\"DejaVuSans-52\" d=\"M 2841 2188 \nQ 3044 2119 3236 1894 \nQ 3428 1669 3622 1275 \nL 4263 0 \nL 3584 0 \nL 2988 1197 \nQ 2756 1666 2539 1819 \nQ 2322 1972 1947 1972 \nL 1259 1972 \nL 1259 0 \nL 628 0 \nL 628 4666 \nL 2053 4666 \nQ 2853 4666 3247 4331 \nQ 3641 3997 3641 3322 \nQ 3641 2881 3436 2590 \nQ 3231 2300 2841 2188 \nz\nM 1259 4147 \nL 1259 2491 \nL 2053 2491 \nQ 2509 2491 2742 2702 \nQ 2975 2913 2975 3322 \nQ 2975 3731 2742 3939 \nQ 2509 4147 2053 4147 \nL 1259 4147 \nz\n\" transform=\"scale(0.015625)\"/>\n      <path id=\"DejaVuSans-e9\" d=\"M 3597 1894 \nL 3597 1613 \nL 953 1613 \nQ 991 1019 1311 708 \nQ 1631 397 2203 397 \nQ 2534 397 2845 478 \nQ 3156 559 3463 722 \nL 3463 178 \nQ 3153 47 2828 -22 \nQ 2503 -91 2169 -91 \nQ 1331 -91 842 396 \nQ 353 884 353 1716 \nQ 353 2575 817 3079 \nQ 1281 3584 2069 3584 \nQ 2775 3584 3186 3129 \nQ 3597 2675 3597 1894 \nz\nM 3022 2063 \nQ 3016 2534 2758 2815 \nQ 2500 3097 2075 3097 \nQ 1594 3097 1305 2825 \nQ 1016 2553 972 2059 \nL 3022 2063 \nz\nM 2466 5119 \nL 3088 5119 \nL 2070 3944 \nL 1591 3944 \nL 2466 5119 \nz\n\" transform=\"scale(0.015625)\"/>\n      <path id=\"DejaVuSans-43\" d=\"M 4122 4306 \nL 4122 3641 \nQ 3803 3938 3442 4084 \nQ 3081 4231 2675 4231 \nQ 1875 4231 1450 3742 \nQ 1025 3253 1025 2328 \nQ 1025 1406 1450 917 \nQ 1875 428 2675 428 \nQ 3081 428 3442 575 \nQ 3803 722 4122 1019 \nL 4122 359 \nQ 3791 134 3420 21 \nQ 3050 -91 2638 -91 \nQ 1578 -91 968 557 \nQ 359 1206 359 2328 \nQ 359 3453 968 4101 \nQ 1578 4750 2638 4750 \nQ 3056 4750 3426 4639 \nQ 3797 4528 4122 4306 \nz\n\" transform=\"scale(0.015625)\"/>\n      <path id=\"DejaVuSans-41\" d=\"M 2188 4044 \nL 1331 1722 \nL 3047 1722 \nL 2188 4044 \nz\nM 1831 4666 \nL 2547 4666 \nL 4325 0 \nL 3669 0 \nL 3244 1197 \nL 1141 1197 \nL 716 0 \nL 50 0 \nL 1831 4666 \nz\n\" transform=\"scale(0.015625)\"/>\n      <path id=\"DejaVuSans-4c\" d=\"M 628 4666 \nL 1259 4666 \nL 1259 531 \nL 3531 531 \nL 3531 0 \nL 628 0 \nL 628 4666 \nz\n\" transform=\"scale(0.015625)\"/>\n      <path id=\"DejaVuSans-49\" d=\"M 628 4666 \nL 1259 4666 \nL 1259 0 \nL 628 0 \nL 628 4666 \nz\n\" transform=\"scale(0.015625)\"/>\n      <path id=\"DejaVuSans-42\" d=\"M 1259 2228 \nL 1259 519 \nL 2272 519 \nQ 2781 519 3026 730 \nQ 3272 941 3272 1375 \nQ 3272 1813 3026 2020 \nQ 2781 2228 2272 2228 \nL 1259 2228 \nz\nM 1259 4147 \nL 1259 2741 \nL 2194 2741 \nQ 2656 2741 2882 2914 \nQ 3109 3088 3109 3444 \nQ 3109 3797 2882 3972 \nQ 2656 4147 2194 4147 \nL 1259 4147 \nz\nM 628 4666 \nL 2241 4666 \nQ 2963 4666 3353 4366 \nQ 3744 4066 3744 3513 \nQ 3744 3084 3544 2831 \nQ 3344 2578 2956 2516 \nQ 3422 2416 3680 2098 \nQ 3938 1781 3938 1306 \nQ 3938 681 3513 340 \nQ 3088 0 2303 0 \nL 628 0 \nL 628 4666 \nz\n\" transform=\"scale(0.015625)\"/>\n      <path id=\"DejaVuSans-54\" d=\"M -19 4666 \nL 3928 4666 \nL 3928 4134 \nL 2272 4134 \nL 2272 0 \nL 1638 0 \nL 1638 4134 \nL -19 4134 \nL -19 4666 \nz\n\" transform=\"scale(0.015625)\"/>\n      <path id=\"DejaVuSans-4f\" d=\"M 2522 4238 \nQ 1834 4238 1429 3725 \nQ 1025 3213 1025 2328 \nQ 1025 1447 1429 934 \nQ 1834 422 2522 422 \nQ 3209 422 3611 934 \nQ 4013 1447 4013 2328 \nQ 4013 3213 3611 3725 \nQ 3209 4238 2522 4238 \nz\nM 2522 4750 \nQ 3503 4750 4090 4092 \nQ 4678 3434 4678 2328 \nQ 4678 1225 4090 567 \nQ 3503 -91 2522 -91 \nQ 1538 -91 948 565 \nQ 359 1222 359 2328 \nQ 359 3434 948 4092 \nQ 1538 4750 2522 4750 \nz\n\" transform=\"scale(0.015625)\"/>\n      <path id=\"DejaVuSans-66\" d=\"M 2375 4863 \nL 2375 4384 \nL 1825 4384 \nQ 1516 4384 1395 4259 \nQ 1275 4134 1275 3809 \nL 1275 3500 \nL 2222 3500 \nL 2222 3053 \nL 1275 3053 \nL 1275 0 \nL 697 0 \nL 697 3053 \nL 147 3053 \nL 147 3500 \nL 697 3500 \nL 697 3744 \nQ 697 4328 969 4595 \nQ 1241 4863 1831 4863 \nL 2375 4863 \nz\n\" transform=\"scale(0.015625)\"/>\n     </defs>\n     <use xlink:href=\"#DejaVuSans-52\"/>\n     <use xlink:href=\"#DejaVuSans-e9\" x=\"64.982422\"/>\n     <use xlink:href=\"#DejaVuSans-70\" x=\"126.505859\"/>\n     <use xlink:href=\"#DejaVuSans-61\" x=\"189.982422\"/>\n     <use xlink:href=\"#DejaVuSans-72\" x=\"251.261719\"/>\n     <use xlink:href=\"#DejaVuSans-74\" x=\"292.375\"/>\n     <use xlink:href=\"#DejaVuSans-69\" x=\"331.583984\"/>\n     <use xlink:href=\"#DejaVuSans-74\" x=\"359.367188\"/>\n     <use xlink:href=\"#DejaVuSans-69\" x=\"398.576172\"/>\n     <use xlink:href=\"#DejaVuSans-6f\" x=\"426.359375\"/>\n     <use xlink:href=\"#DejaVuSans-6e\" x=\"487.541016\"/>\n     <use xlink:href=\"#DejaVuSans-20\" x=\"550.919922\"/>\n     <use xlink:href=\"#DejaVuSans-64\" x=\"582.707031\"/>\n     <use xlink:href=\"#DejaVuSans-65\" x=\"646.183594\"/>\n     <use xlink:href=\"#DejaVuSans-73\" x=\"707.707031\"/>\n     <use xlink:href=\"#DejaVuSans-20\" x=\"759.806641\"/>\n     <use xlink:href=\"#DejaVuSans-6c\" x=\"791.59375\"/>\n     <use xlink:href=\"#DejaVuSans-61\" x=\"819.376953\"/>\n     <use xlink:href=\"#DejaVuSans-62\" x=\"880.65625\"/>\n     <use xlink:href=\"#DejaVuSans-65\" x=\"944.132812\"/>\n     <use xlink:href=\"#DejaVuSans-6c\" x=\"1005.65625\"/>\n     <use xlink:href=\"#DejaVuSans-73\" x=\"1033.439453\"/>\n     <use xlink:href=\"#DejaVuSans-20\" x=\"1085.539062\"/>\n     <use xlink:href=\"#DejaVuSans-64\" x=\"1117.326172\"/>\n     <use xlink:href=\"#DejaVuSans-61\" x=\"1180.802734\"/>\n     <use xlink:href=\"#DejaVuSans-6e\" x=\"1242.082031\"/>\n     <use xlink:href=\"#DejaVuSans-73\" x=\"1305.460938\"/>\n     <use xlink:href=\"#DejaVuSans-20\" x=\"1357.560547\"/>\n     <use xlink:href=\"#DejaVuSans-6c\" x=\"1389.347656\"/>\n     <use xlink:href=\"#DejaVuSans-61\" x=\"1417.130859\"/>\n     <use xlink:href=\"#DejaVuSans-20\" x=\"1478.410156\"/>\n     <use xlink:href=\"#DejaVuSans-64\" x=\"1510.197266\"/>\n     <use xlink:href=\"#DejaVuSans-61\" x=\"1573.673828\"/>\n     <use xlink:href=\"#DejaVuSans-74\" x=\"1634.953125\"/>\n     <use xlink:href=\"#DejaVuSans-61\" x=\"1674.162109\"/>\n     <use xlink:href=\"#DejaVuSans-73\" x=\"1735.441406\"/>\n     <use xlink:href=\"#DejaVuSans-65\" x=\"1787.541016\"/>\n     <use xlink:href=\"#DejaVuSans-74\" x=\"1849.064453\"/>\n     <use xlink:href=\"#DejaVuSans-20\" x=\"1888.273438\"/>\n     <use xlink:href=\"#DejaVuSans-43\" x=\"1920.060547\"/>\n     <use xlink:href=\"#DejaVuSans-41\" x=\"1989.884766\"/>\n     <use xlink:href=\"#DejaVuSans-4c\" x=\"2058.292969\"/>\n     <use xlink:href=\"#DejaVuSans-49\" x=\"2114.005859\"/>\n     <use xlink:href=\"#DejaVuSans-42\" x=\"2143.498047\"/>\n     <use xlink:href=\"#DejaVuSans-52\" x=\"2212.101562\"/>\n     <use xlink:href=\"#DejaVuSans-41\" x=\"2277.583984\"/>\n     <use xlink:href=\"#DejaVuSans-54\" x=\"2338.242188\"/>\n     <use xlink:href=\"#DejaVuSans-49\" x=\"2399.326172\"/>\n     <use xlink:href=\"#DejaVuSans-4f\" x=\"2428.818359\"/>\n     <use xlink:href=\"#DejaVuSans-4e\" x=\"2507.529297\"/>\n     <use xlink:href=\"#DejaVuSans-20\" x=\"2582.333984\"/>\n     <use xlink:href=\"#DejaVuSans-65\" x=\"2614.121094\"/>\n     <use xlink:href=\"#DejaVuSans-6e\" x=\"2675.644531\"/>\n     <use xlink:href=\"#DejaVuSans-20\" x=\"2739.023438\"/>\n     <use xlink:href=\"#DejaVuSans-66\" x=\"2770.810547\"/>\n     <use xlink:href=\"#DejaVuSans-6f\" x=\"2806.015625\"/>\n     <use xlink:href=\"#DejaVuSans-6e\" x=\"2867.197266\"/>\n     <use xlink:href=\"#DejaVuSans-63\" x=\"2930.576172\"/>\n     <use xlink:href=\"#DejaVuSans-74\" x=\"2985.556641\"/>\n     <use xlink:href=\"#DejaVuSans-69\" x=\"3024.765625\"/>\n     <use xlink:href=\"#DejaVuSans-6f\" x=\"3052.548828\"/>\n     <use xlink:href=\"#DejaVuSans-6e\" x=\"3113.730469\"/>\n     <use xlink:href=\"#DejaVuSans-20\" x=\"3177.109375\"/>\n     <use xlink:href=\"#DejaVuSans-64\" x=\"3208.896484\"/>\n     <use xlink:href=\"#DejaVuSans-75\" x=\"3272.373047\"/>\n     <use xlink:href=\"#DejaVuSans-20\" x=\"3335.751953\"/>\n     <use xlink:href=\"#DejaVuSans-6d\" x=\"3367.539062\"/>\n     <use xlink:href=\"#DejaVuSans-6f\" x=\"3464.951172\"/>\n     <use xlink:href=\"#DejaVuSans-69\" x=\"3526.132812\"/>\n     <use xlink:href=\"#DejaVuSans-73\" x=\"3553.916016\"/>\n     <use xlink:href=\"#DejaVuSans-2f\" x=\"3606.015625\"/>\n     <use xlink:href=\"#DejaVuSans-73\" x=\"3639.707031\"/>\n     <use xlink:href=\"#DejaVuSans-65\" x=\"3691.806641\"/>\n     <use xlink:href=\"#DejaVuSans-6d\" x=\"3753.330078\"/>\n     <use xlink:href=\"#DejaVuSans-61\" x=\"3850.742188\"/>\n     <use xlink:href=\"#DejaVuSans-69\" x=\"3912.021484\"/>\n     <use xlink:href=\"#DejaVuSans-6e\" x=\"3939.804688\"/>\n     <use xlink:href=\"#DejaVuSans-65\" x=\"4003.183594\"/>\n    </g>\n   </g>\n   <g id=\"legend_1\">\n    <g id=\"patch_92\">\n     <path d=\"M 11.6 19.958281 \nL 33.6 19.958281 \nL 33.6 12.258281 \nL 11.6 12.258281 \nz\n\" style=\"fill: #0173b2; stroke: #ffffff; stroke-linejoin: miter\"/>\n    </g>\n    <g id=\"text_26\">\n     <!-- &lt;INVALID_LENGTH&gt; -->\n     <g style=\"fill: #262626\" transform=\"translate(42.4 19.958281)scale(0.11 -0.11)\">\n      <defs>\n       <path id=\"DejaVuSans-3c\" d=\"M 4684 3150 \nL 1459 2003 \nL 4684 863 \nL 4684 294 \nL 678 1747 \nL 678 2266 \nL 4684 3719 \nL 4684 3150 \nz\n\" transform=\"scale(0.015625)\"/>\n       <path id=\"DejaVuSans-56\" d=\"M 1831 0 \nL 50 4666 \nL 709 4666 \nL 2188 738 \nL 3669 4666 \nL 4325 4666 \nL 2547 0 \nL 1831 0 \nz\n\" transform=\"scale(0.015625)\"/>\n       <path id=\"DejaVuSans-44\" d=\"M 1259 4147 \nL 1259 519 \nL 2022 519 \nQ 2988 519 3436 956 \nQ 3884 1394 3884 2338 \nQ 3884 3275 3436 3711 \nQ 2988 4147 2022 4147 \nL 1259 4147 \nz\nM 628 4666 \nL 1925 4666 \nQ 3281 4666 3915 4102 \nQ 4550 3538 4550 2338 \nQ 4550 1131 3912 565 \nQ 3275 0 1925 0 \nL 628 0 \nL 628 4666 \nz\n\" transform=\"scale(0.015625)\"/>\n       <path id=\"DejaVuSans-5f\" d=\"M 3263 -1063 \nL 3263 -1509 \nL -63 -1509 \nL -63 -1063 \nL 3263 -1063 \nz\n\" transform=\"scale(0.015625)\"/>\n       <path id=\"DejaVuSans-45\" d=\"M 628 4666 \nL 3578 4666 \nL 3578 4134 \nL 1259 4134 \nL 1259 2753 \nL 3481 2753 \nL 3481 2222 \nL 1259 2222 \nL 1259 531 \nL 3634 531 \nL 3634 0 \nL 628 0 \nL 628 4666 \nz\n\" transform=\"scale(0.015625)\"/>\n       <path id=\"DejaVuSans-47\" d=\"M 3809 666 \nL 3809 1919 \nL 2778 1919 \nL 2778 2438 \nL 4434 2438 \nL 4434 434 \nQ 4069 175 3628 42 \nQ 3188 -91 2688 -91 \nQ 1594 -91 976 548 \nQ 359 1188 359 2328 \nQ 359 3472 976 4111 \nQ 1594 4750 2688 4750 \nQ 3144 4750 3555 4637 \nQ 3966 4525 4313 4306 \nL 4313 3634 \nQ 3963 3931 3569 4081 \nQ 3175 4231 2741 4231 \nQ 1884 4231 1454 3753 \nQ 1025 3275 1025 2328 \nQ 1025 1384 1454 906 \nQ 1884 428 2741 428 \nQ 3075 428 3337 486 \nQ 3600 544 3809 666 \nz\n\" transform=\"scale(0.015625)\"/>\n       <path id=\"DejaVuSans-48\" d=\"M 628 4666 \nL 1259 4666 \nL 1259 2753 \nL 3553 2753 \nL 3553 4666 \nL 4184 4666 \nL 4184 0 \nL 3553 0 \nL 3553 2222 \nL 1259 2222 \nL 1259 0 \nL 628 0 \nL 628 4666 \nz\n\" transform=\"scale(0.015625)\"/>\n       <path id=\"DejaVuSans-3e\" d=\"M 678 3150 \nL 678 3719 \nL 4684 2266 \nL 4684 1747 \nL 678 294 \nL 678 863 \nL 3897 2003 \nL 678 3150 \nz\n\" transform=\"scale(0.015625)\"/>\n      </defs>\n      <use xlink:href=\"#DejaVuSans-3c\"/>\n      <use xlink:href=\"#DejaVuSans-49\" x=\"83.789062\"/>\n      <use xlink:href=\"#DejaVuSans-4e\" x=\"113.28125\"/>\n      <use xlink:href=\"#DejaVuSans-56\" x=\"188.085938\"/>\n      <use xlink:href=\"#DejaVuSans-41\" x=\"250.119141\"/>\n      <use xlink:href=\"#DejaVuSans-4c\" x=\"318.527344\"/>\n      <use xlink:href=\"#DejaVuSans-49\" x=\"374.240234\"/>\n      <use xlink:href=\"#DejaVuSans-44\" x=\"403.732422\"/>\n      <use xlink:href=\"#DejaVuSans-5f\" x=\"480.734375\"/>\n      <use xlink:href=\"#DejaVuSans-4c\" x=\"530.734375\"/>\n      <use xlink:href=\"#DejaVuSans-45\" x=\"586.447266\"/>\n      <use xlink:href=\"#DejaVuSans-4e\" x=\"649.630859\"/>\n      <use xlink:href=\"#DejaVuSans-47\" x=\"724.435547\"/>\n      <use xlink:href=\"#DejaVuSans-54\" x=\"798.300781\"/>\n      <use xlink:href=\"#DejaVuSans-48\" x=\"859.384766\"/>\n      <use xlink:href=\"#DejaVuSans-3e\" x=\"934.580078\"/>\n     </g>\n    </g>\n    <g id=\"patch_93\">\n     <path d=\"M 176.426406 19.958281 \nL 198.426406 19.958281 \nL 198.426406 12.258281 \nL 176.426406 12.258281 \nz\n\" style=\"fill: #de8f05; stroke: #ffffff; stroke-linejoin: miter\"/>\n    </g>\n    <g id=\"text_27\">\n     <!-- background -->\n     <g style=\"fill: #262626\" transform=\"translate(207.226406 19.958281)scale(0.11 -0.11)\">\n      <defs>\n       <path id=\"DejaVuSans-67\" d=\"M 2906 1791 \nQ 2906 2416 2648 2759 \nQ 2391 3103 1925 3103 \nQ 1463 3103 1205 2759 \nQ 947 2416 947 1791 \nQ 947 1169 1205 825 \nQ 1463 481 1925 481 \nQ 2391 481 2648 825 \nQ 2906 1169 2906 1791 \nz\nM 3481 434 \nQ 3481 -459 3084 -895 \nQ 2688 -1331 1869 -1331 \nQ 1566 -1331 1297 -1286 \nQ 1028 -1241 775 -1147 \nL 775 -588 \nQ 1028 -725 1275 -790 \nQ 1522 -856 1778 -856 \nQ 2344 -856 2625 -561 \nQ 2906 -266 2906 331 \nL 2906 616 \nQ 2728 306 2450 153 \nQ 2172 0 1784 0 \nQ 1141 0 747 490 \nQ 353 981 353 1791 \nQ 353 2603 747 3093 \nQ 1141 3584 1784 3584 \nQ 2172 3584 2450 3431 \nQ 2728 3278 2906 2969 \nL 2906 3500 \nL 3481 3500 \nL 3481 434 \nz\n\" transform=\"scale(0.015625)\"/>\n      </defs>\n      <use xlink:href=\"#DejaVuSans-62\"/>\n      <use xlink:href=\"#DejaVuSans-61\" x=\"63.476562\"/>\n      <use xlink:href=\"#DejaVuSans-63\" x=\"124.755859\"/>\n      <use xlink:href=\"#DejaVuSans-6b\" x=\"179.736328\"/>\n      <use xlink:href=\"#DejaVuSans-67\" x=\"237.646484\"/>\n      <use xlink:href=\"#DejaVuSans-72\" x=\"301.123047\"/>\n      <use xlink:href=\"#DejaVuSans-6f\" x=\"339.986328\"/>\n      <use xlink:href=\"#DejaVuSans-75\" x=\"401.167969\"/>\n      <use xlink:href=\"#DejaVuSans-6e\" x=\"464.546875\"/>\n      <use xlink:href=\"#DejaVuSans-64\" x=\"527.925781\"/>\n     </g>\n    </g>\n    <g id=\"patch_94\">\n     <path d=\"M 294.282812 19.958281 \nL 316.282812 19.958281 \nL 316.282812 12.258281 \nL 294.282812 12.258281 \nz\n\" style=\"fill: #029e73; stroke: #ffffff; stroke-linejoin: miter\"/>\n    </g>\n    <g id=\"text_28\">\n     <!-- blacklist -->\n     <g style=\"fill: #262626\" transform=\"translate(325.082812 19.958281)scale(0.11 -0.11)\">\n      <use xlink:href=\"#DejaVuSans-62\"/>\n      <use xlink:href=\"#DejaVuSans-6c\" x=\"63.476562\"/>\n      <use xlink:href=\"#DejaVuSans-61\" x=\"91.259766\"/>\n      <use xlink:href=\"#DejaVuSans-63\" x=\"152.539062\"/>\n      <use xlink:href=\"#DejaVuSans-6b\" x=\"207.519531\"/>\n      <use xlink:href=\"#DejaVuSans-6c\" x=\"265.429688\"/>\n      <use xlink:href=\"#DejaVuSans-69\" x=\"293.212891\"/>\n      <use xlink:href=\"#DejaVuSans-73\" x=\"320.996094\"/>\n      <use xlink:href=\"#DejaVuSans-74\" x=\"373.095703\"/>\n     </g>\n    </g>\n    <g id=\"patch_95\">\n     <path d=\"M 392.435469 19.958281 \nL 414.435469 19.958281 \nL 414.435469 12.258281 \nL 392.435469 12.258281 \nz\n\" style=\"fill: #d55e00; stroke: #ffffff; stroke-linejoin: miter\"/>\n    </g>\n    <g id=\"text_29\">\n     <!-- anomaly-sshscan -->\n     <g style=\"fill: #262626\" transform=\"translate(423.235469 19.958281)scale(0.11 -0.11)\">\n      <use xlink:href=\"#DejaVuSans-61\"/>\n      <use xlink:href=\"#DejaVuSans-6e\" x=\"61.279297\"/>\n      <use xlink:href=\"#DejaVuSans-6f\" x=\"124.658203\"/>\n      <use xlink:href=\"#DejaVuSans-6d\" x=\"185.839844\"/>\n      <use xlink:href=\"#DejaVuSans-61\" x=\"283.251953\"/>\n      <use xlink:href=\"#DejaVuSans-6c\" x=\"344.53125\"/>\n      <use xlink:href=\"#DejaVuSans-79\" x=\"372.314453\"/>\n      <use xlink:href=\"#DejaVuSans-2d\" x=\"429.744141\"/>\n      <use xlink:href=\"#DejaVuSans-73\" x=\"465.828125\"/>\n      <use xlink:href=\"#DejaVuSans-73\" x=\"517.927734\"/>\n      <use xlink:href=\"#DejaVuSans-68\" x=\"570.027344\"/>\n      <use xlink:href=\"#DejaVuSans-73\" x=\"633.40625\"/>\n      <use xlink:href=\"#DejaVuSans-63\" x=\"685.505859\"/>\n      <use xlink:href=\"#DejaVuSans-61\" x=\"740.486328\"/>\n      <use xlink:href=\"#DejaVuSans-6e\" x=\"801.765625\"/>\n     </g>\n    </g>\n    <g id=\"patch_96\">\n     <path d=\"M 540.399219 19.958281 \nL 562.399219 19.958281 \nL 562.399219 12.258281 \nL 540.399219 12.258281 \nz\n\" style=\"fill: #cc78bc; stroke: #ffffff; stroke-linejoin: miter\"/>\n    </g>\n    <g id=\"text_30\">\n     <!-- anomaly-spam -->\n     <g style=\"fill: #262626\" transform=\"translate(571.199219 19.958281)scale(0.11 -0.11)\">\n      <use xlink:href=\"#DejaVuSans-61\"/>\n      <use xlink:href=\"#DejaVuSans-6e\" x=\"61.279297\"/>\n      <use xlink:href=\"#DejaVuSans-6f\" x=\"124.658203\"/>\n      <use xlink:href=\"#DejaVuSans-6d\" x=\"185.839844\"/>\n      <use xlink:href=\"#DejaVuSans-61\" x=\"283.251953\"/>\n      <use xlink:href=\"#DejaVuSans-6c\" x=\"344.53125\"/>\n      <use xlink:href=\"#DejaVuSans-79\" x=\"372.314453\"/>\n      <use xlink:href=\"#DejaVuSans-2d\" x=\"429.744141\"/>\n      <use xlink:href=\"#DejaVuSans-73\" x=\"465.828125\"/>\n      <use xlink:href=\"#DejaVuSans-70\" x=\"517.927734\"/>\n      <use xlink:href=\"#DejaVuSans-61\" x=\"581.404297\"/>\n      <use xlink:href=\"#DejaVuSans-6d\" x=\"642.683594\"/>\n     </g>\n    </g>\n   </g>\n  </g>\n </g>\n <defs>\n  <clipPath id=\"p38241cbd11\">\n   <rect x=\"53.104766\" y=\"59.631875\" width=\"558\" height=\"271.8\"/>\n  </clipPath>\n </defs>\n</svg>\n",
      "text/plain": [
       "<Figure size 720x360 with 1 Axes>"
      ]
     },
     "metadata": {},
     "output_type": "display_data"
    }
   ],
   "source": [
    "calibration_df.plot.bar(logy=True, figsize=(10, 5), width=0.8, title=\"Répartition des labels dans la dataset CALIBRATION en fonction du mois/semaine\")\n",
    "plt.legend(loc='lower center', bbox_to_anchor=(0.5, 1.1), frameon=False, ncol=10)\n",
    "plt.xlabel('mois/semaine')\n",
    "plt.ylabel(\"Nombre d'exemples\")"
   ]
  },
  {
   "cell_type": "code",
   "execution_count": 29,
   "metadata": {},
   "outputs": [
    {
     "data": {
      "text/plain": [
       "Text(0, 0.5, \"Nombre d'exemples\")"
      ]
     },
     "execution_count": 29,
     "metadata": {},
     "output_type": "execute_result"
    },
    {
     "data": {
      "image/svg+xml": "<?xml version=\"1.0\" encoding=\"utf-8\" standalone=\"no\"?>\n<!DOCTYPE svg PUBLIC \"-//W3C//DTD SVG 1.1//EN\"\n  \"http://www.w3.org/Graphics/SVG/1.1/DTD/svg11.dtd\">\n<svg xmlns:xlink=\"http://www.w3.org/1999/xlink\" width=\"660.134219pt\" height=\"482.090156pt\" viewBox=\"0 0 660.134219 482.090156\" xmlns=\"http://www.w3.org/2000/svg\" version=\"1.1\">\n <metadata>\n  <rdf:RDF xmlns:dc=\"http://purl.org/dc/elements/1.1/\" xmlns:cc=\"http://creativecommons.org/ns#\" xmlns:rdf=\"http://www.w3.org/1999/02/22-rdf-syntax-ns#\">\n   <cc:Work>\n    <dc:type rdf:resource=\"http://purl.org/dc/dcmitype/StillImage\"/>\n    <dc:date>2022-04-28T14:23:28.062138</dc:date>\n    <dc:format>image/svg+xml</dc:format>\n    <dc:creator>\n     <cc:Agent>\n      <dc:title>Matplotlib v3.5.1, https://matplotlib.org/</dc:title>\n     </cc:Agent>\n    </dc:creator>\n   </cc:Work>\n  </rdf:RDF>\n </metadata>\n <defs>\n  <style type=\"text/css\">*{stroke-linejoin: round; stroke-linecap: butt}</style>\n </defs>\n <g id=\"figure_1\">\n  <g id=\"patch_1\">\n   <path d=\"M 0 482.090156 \nL 660.134219 482.090156 \nL 660.134219 0 \nL 0 0 \nz\n\" style=\"fill: #ffffff\"/>\n  </g>\n  <g id=\"axes_1\">\n   <g id=\"patch_2\">\n    <path d=\"M 51.67375 347.577812 \nL 609.67375 347.577812 \nL 609.67375 75.777812 \nL 51.67375 75.777812 \nz\n\" style=\"fill: #eaeaf2\"/>\n   </g>\n   <g id=\"matplotlib.axis_1\">\n    <g id=\"xtick_1\">\n     <g id=\"line2d_1\">\n      <path d=\"M 109.245179 347.577812 \nL 109.245179 75.777812 \n\" clip-path=\"url(#p9ddeffc1cc)\" style=\"fill: none; stroke: #ffffff; stroke-linecap: round\"/>\n     </g>\n     <g id=\"text_1\">\n      <!-- test-august.week4 -->\n      <g style=\"fill: #262626\" transform=\"translate(112.280491 459.276406)rotate(-90)scale(0.11 -0.11)\">\n       <defs>\n        <path id=\"DejaVuSans-74\" d=\"M 1172 4494 \nL 1172 3500 \nL 2356 3500 \nL 2356 3053 \nL 1172 3053 \nL 1172 1153 \nQ 1172 725 1289 603 \nQ 1406 481 1766 481 \nL 2356 481 \nL 2356 0 \nL 1766 0 \nQ 1100 0 847 248 \nQ 594 497 594 1153 \nL 594 3053 \nL 172 3053 \nL 172 3500 \nL 594 3500 \nL 594 4494 \nL 1172 4494 \nz\n\" transform=\"scale(0.015625)\"/>\n        <path id=\"DejaVuSans-65\" d=\"M 3597 1894 \nL 3597 1613 \nL 953 1613 \nQ 991 1019 1311 708 \nQ 1631 397 2203 397 \nQ 2534 397 2845 478 \nQ 3156 559 3463 722 \nL 3463 178 \nQ 3153 47 2828 -22 \nQ 2503 -91 2169 -91 \nQ 1331 -91 842 396 \nQ 353 884 353 1716 \nQ 353 2575 817 3079 \nQ 1281 3584 2069 3584 \nQ 2775 3584 3186 3129 \nQ 3597 2675 3597 1894 \nz\nM 3022 2063 \nQ 3016 2534 2758 2815 \nQ 2500 3097 2075 3097 \nQ 1594 3097 1305 2825 \nQ 1016 2553 972 2059 \nL 3022 2063 \nz\n\" transform=\"scale(0.015625)\"/>\n        <path id=\"DejaVuSans-73\" d=\"M 2834 3397 \nL 2834 2853 \nQ 2591 2978 2328 3040 \nQ 2066 3103 1784 3103 \nQ 1356 3103 1142 2972 \nQ 928 2841 928 2578 \nQ 928 2378 1081 2264 \nQ 1234 2150 1697 2047 \nL 1894 2003 \nQ 2506 1872 2764 1633 \nQ 3022 1394 3022 966 \nQ 3022 478 2636 193 \nQ 2250 -91 1575 -91 \nQ 1294 -91 989 -36 \nQ 684 19 347 128 \nL 347 722 \nQ 666 556 975 473 \nQ 1284 391 1588 391 \nQ 1994 391 2212 530 \nQ 2431 669 2431 922 \nQ 2431 1156 2273 1281 \nQ 2116 1406 1581 1522 \nL 1381 1569 \nQ 847 1681 609 1914 \nQ 372 2147 372 2553 \nQ 372 3047 722 3315 \nQ 1072 3584 1716 3584 \nQ 2034 3584 2315 3537 \nQ 2597 3491 2834 3397 \nz\n\" transform=\"scale(0.015625)\"/>\n        <path id=\"DejaVuSans-2d\" d=\"M 313 2009 \nL 1997 2009 \nL 1997 1497 \nL 313 1497 \nL 313 2009 \nz\n\" transform=\"scale(0.015625)\"/>\n        <path id=\"DejaVuSans-61\" d=\"M 2194 1759 \nQ 1497 1759 1228 1600 \nQ 959 1441 959 1056 \nQ 959 750 1161 570 \nQ 1363 391 1709 391 \nQ 2188 391 2477 730 \nQ 2766 1069 2766 1631 \nL 2766 1759 \nL 2194 1759 \nz\nM 3341 1997 \nL 3341 0 \nL 2766 0 \nL 2766 531 \nQ 2569 213 2275 61 \nQ 1981 -91 1556 -91 \nQ 1019 -91 701 211 \nQ 384 513 384 1019 \nQ 384 1609 779 1909 \nQ 1175 2209 1959 2209 \nL 2766 2209 \nL 2766 2266 \nQ 2766 2663 2505 2880 \nQ 2244 3097 1772 3097 \nQ 1472 3097 1187 3025 \nQ 903 2953 641 2809 \nL 641 3341 \nQ 956 3463 1253 3523 \nQ 1550 3584 1831 3584 \nQ 2591 3584 2966 3190 \nQ 3341 2797 3341 1997 \nz\n\" transform=\"scale(0.015625)\"/>\n        <path id=\"DejaVuSans-75\" d=\"M 544 1381 \nL 544 3500 \nL 1119 3500 \nL 1119 1403 \nQ 1119 906 1312 657 \nQ 1506 409 1894 409 \nQ 2359 409 2629 706 \nQ 2900 1003 2900 1516 \nL 2900 3500 \nL 3475 3500 \nL 3475 0 \nL 2900 0 \nL 2900 538 \nQ 2691 219 2414 64 \nQ 2138 -91 1772 -91 \nQ 1169 -91 856 284 \nQ 544 659 544 1381 \nz\nM 1991 3584 \nL 1991 3584 \nz\n\" transform=\"scale(0.015625)\"/>\n        <path id=\"DejaVuSans-67\" d=\"M 2906 1791 \nQ 2906 2416 2648 2759 \nQ 2391 3103 1925 3103 \nQ 1463 3103 1205 2759 \nQ 947 2416 947 1791 \nQ 947 1169 1205 825 \nQ 1463 481 1925 481 \nQ 2391 481 2648 825 \nQ 2906 1169 2906 1791 \nz\nM 3481 434 \nQ 3481 -459 3084 -895 \nQ 2688 -1331 1869 -1331 \nQ 1566 -1331 1297 -1286 \nQ 1028 -1241 775 -1147 \nL 775 -588 \nQ 1028 -725 1275 -790 \nQ 1522 -856 1778 -856 \nQ 2344 -856 2625 -561 \nQ 2906 -266 2906 331 \nL 2906 616 \nQ 2728 306 2450 153 \nQ 2172 0 1784 0 \nQ 1141 0 747 490 \nQ 353 981 353 1791 \nQ 353 2603 747 3093 \nQ 1141 3584 1784 3584 \nQ 2172 3584 2450 3431 \nQ 2728 3278 2906 2969 \nL 2906 3500 \nL 3481 3500 \nL 3481 434 \nz\n\" transform=\"scale(0.015625)\"/>\n        <path id=\"DejaVuSans-2e\" d=\"M 684 794 \nL 1344 794 \nL 1344 0 \nL 684 0 \nL 684 794 \nz\n\" transform=\"scale(0.015625)\"/>\n        <path id=\"DejaVuSans-77\" d=\"M 269 3500 \nL 844 3500 \nL 1563 769 \nL 2278 3500 \nL 2956 3500 \nL 3675 769 \nL 4391 3500 \nL 4966 3500 \nL 4050 0 \nL 3372 0 \nL 2619 2869 \nL 1863 0 \nL 1184 0 \nL 269 3500 \nz\n\" transform=\"scale(0.015625)\"/>\n        <path id=\"DejaVuSans-6b\" d=\"M 581 4863 \nL 1159 4863 \nL 1159 1991 \nL 2875 3500 \nL 3609 3500 \nL 1753 1863 \nL 3688 0 \nL 2938 0 \nL 1159 1709 \nL 1159 0 \nL 581 0 \nL 581 4863 \nz\n\" transform=\"scale(0.015625)\"/>\n        <path id=\"DejaVuSans-34\" d=\"M 2419 4116 \nL 825 1625 \nL 2419 1625 \nL 2419 4116 \nz\nM 2253 4666 \nL 3047 4666 \nL 3047 1625 \nL 3713 1625 \nL 3713 1100 \nL 3047 1100 \nL 3047 0 \nL 2419 0 \nL 2419 1100 \nL 313 1100 \nL 313 1709 \nL 2253 4666 \nz\n\" transform=\"scale(0.015625)\"/>\n       </defs>\n       <use xlink:href=\"#DejaVuSans-74\"/>\n       <use xlink:href=\"#DejaVuSans-65\" x=\"39.208984\"/>\n       <use xlink:href=\"#DejaVuSans-73\" x=\"100.732422\"/>\n       <use xlink:href=\"#DejaVuSans-74\" x=\"152.832031\"/>\n       <use xlink:href=\"#DejaVuSans-2d\" x=\"192.041016\"/>\n       <use xlink:href=\"#DejaVuSans-61\" x=\"228.125\"/>\n       <use xlink:href=\"#DejaVuSans-75\" x=\"289.404297\"/>\n       <use xlink:href=\"#DejaVuSans-67\" x=\"352.783203\"/>\n       <use xlink:href=\"#DejaVuSans-75\" x=\"416.259766\"/>\n       <use xlink:href=\"#DejaVuSans-73\" x=\"479.638672\"/>\n       <use xlink:href=\"#DejaVuSans-74\" x=\"531.738281\"/>\n       <use xlink:href=\"#DejaVuSans-2e\" x=\"570.947266\"/>\n       <use xlink:href=\"#DejaVuSans-77\" x=\"602.734375\"/>\n       <use xlink:href=\"#DejaVuSans-65\" x=\"684.521484\"/>\n       <use xlink:href=\"#DejaVuSans-65\" x=\"746.044922\"/>\n       <use xlink:href=\"#DejaVuSans-6b\" x=\"807.568359\"/>\n       <use xlink:href=\"#DejaVuSans-34\" x=\"865.478516\"/>\n      </g>\n     </g>\n    </g>\n    <g id=\"xtick_2\">\n     <g id=\"line2d_2\">\n      <path d=\"M 197.816607 347.577812 \nL 197.816607 75.777812 \n\" clip-path=\"url(#p9ddeffc1cc)\" style=\"fill: none; stroke: #ffffff; stroke-linecap: round\"/>\n     </g>\n     <g id=\"text_2\">\n      <!-- test-august.week1 -->\n      <g style=\"fill: #262626\" transform=\"translate(200.85192 459.276406)rotate(-90)scale(0.11 -0.11)\">\n       <defs>\n        <path id=\"DejaVuSans-31\" d=\"M 794 531 \nL 1825 531 \nL 1825 4091 \nL 703 3866 \nL 703 4441 \nL 1819 4666 \nL 2450 4666 \nL 2450 531 \nL 3481 531 \nL 3481 0 \nL 794 0 \nL 794 531 \nz\n\" transform=\"scale(0.015625)\"/>\n       </defs>\n       <use xlink:href=\"#DejaVuSans-74\"/>\n       <use xlink:href=\"#DejaVuSans-65\" x=\"39.208984\"/>\n       <use xlink:href=\"#DejaVuSans-73\" x=\"100.732422\"/>\n       <use xlink:href=\"#DejaVuSans-74\" x=\"152.832031\"/>\n       <use xlink:href=\"#DejaVuSans-2d\" x=\"192.041016\"/>\n       <use xlink:href=\"#DejaVuSans-61\" x=\"228.125\"/>\n       <use xlink:href=\"#DejaVuSans-75\" x=\"289.404297\"/>\n       <use xlink:href=\"#DejaVuSans-67\" x=\"352.783203\"/>\n       <use xlink:href=\"#DejaVuSans-75\" x=\"416.259766\"/>\n       <use xlink:href=\"#DejaVuSans-73\" x=\"479.638672\"/>\n       <use xlink:href=\"#DejaVuSans-74\" x=\"531.738281\"/>\n       <use xlink:href=\"#DejaVuSans-2e\" x=\"570.947266\"/>\n       <use xlink:href=\"#DejaVuSans-77\" x=\"602.734375\"/>\n       <use xlink:href=\"#DejaVuSans-65\" x=\"684.521484\"/>\n       <use xlink:href=\"#DejaVuSans-65\" x=\"746.044922\"/>\n       <use xlink:href=\"#DejaVuSans-6b\" x=\"807.568359\"/>\n       <use xlink:href=\"#DejaVuSans-31\" x=\"865.478516\"/>\n      </g>\n     </g>\n    </g>\n    <g id=\"xtick_3\">\n     <g id=\"line2d_3\">\n      <path d=\"M 286.388036 347.577812 \nL 286.388036 75.777812 \n\" clip-path=\"url(#p9ddeffc1cc)\" style=\"fill: none; stroke: #ffffff; stroke-linecap: round\"/>\n     </g>\n     <g id=\"text_3\">\n      <!-- test-july.week5 -->\n      <g style=\"fill: #262626\" transform=\"translate(289.423348 439.593281)rotate(-90)scale(0.11 -0.11)\">\n       <defs>\n        <path id=\"DejaVuSans-6a\" d=\"M 603 3500 \nL 1178 3500 \nL 1178 -63 \nQ 1178 -731 923 -1031 \nQ 669 -1331 103 -1331 \nL -116 -1331 \nL -116 -844 \nL 38 -844 \nQ 366 -844 484 -692 \nQ 603 -541 603 -63 \nL 603 3500 \nz\nM 603 4863 \nL 1178 4863 \nL 1178 4134 \nL 603 4134 \nL 603 4863 \nz\n\" transform=\"scale(0.015625)\"/>\n        <path id=\"DejaVuSans-6c\" d=\"M 603 4863 \nL 1178 4863 \nL 1178 0 \nL 603 0 \nL 603 4863 \nz\n\" transform=\"scale(0.015625)\"/>\n        <path id=\"DejaVuSans-79\" d=\"M 2059 -325 \nQ 1816 -950 1584 -1140 \nQ 1353 -1331 966 -1331 \nL 506 -1331 \nL 506 -850 \nL 844 -850 \nQ 1081 -850 1212 -737 \nQ 1344 -625 1503 -206 \nL 1606 56 \nL 191 3500 \nL 800 3500 \nL 1894 763 \nL 2988 3500 \nL 3597 3500 \nL 2059 -325 \nz\n\" transform=\"scale(0.015625)\"/>\n        <path id=\"DejaVuSans-35\" d=\"M 691 4666 \nL 3169 4666 \nL 3169 4134 \nL 1269 4134 \nL 1269 2991 \nQ 1406 3038 1543 3061 \nQ 1681 3084 1819 3084 \nQ 2600 3084 3056 2656 \nQ 3513 2228 3513 1497 \nQ 3513 744 3044 326 \nQ 2575 -91 1722 -91 \nQ 1428 -91 1123 -41 \nQ 819 9 494 109 \nL 494 744 \nQ 775 591 1075 516 \nQ 1375 441 1709 441 \nQ 2250 441 2565 725 \nQ 2881 1009 2881 1497 \nQ 2881 1984 2565 2268 \nQ 2250 2553 1709 2553 \nQ 1456 2553 1204 2497 \nQ 953 2441 691 2322 \nL 691 4666 \nz\n\" transform=\"scale(0.015625)\"/>\n       </defs>\n       <use xlink:href=\"#DejaVuSans-74\"/>\n       <use xlink:href=\"#DejaVuSans-65\" x=\"39.208984\"/>\n       <use xlink:href=\"#DejaVuSans-73\" x=\"100.732422\"/>\n       <use xlink:href=\"#DejaVuSans-74\" x=\"152.832031\"/>\n       <use xlink:href=\"#DejaVuSans-2d\" x=\"192.041016\"/>\n       <use xlink:href=\"#DejaVuSans-6a\" x=\"228.125\"/>\n       <use xlink:href=\"#DejaVuSans-75\" x=\"255.908203\"/>\n       <use xlink:href=\"#DejaVuSans-6c\" x=\"319.287109\"/>\n       <use xlink:href=\"#DejaVuSans-79\" x=\"347.070312\"/>\n       <use xlink:href=\"#DejaVuSans-2e\" x=\"392\"/>\n       <use xlink:href=\"#DejaVuSans-77\" x=\"423.787109\"/>\n       <use xlink:href=\"#DejaVuSans-65\" x=\"505.574219\"/>\n       <use xlink:href=\"#DejaVuSans-65\" x=\"567.097656\"/>\n       <use xlink:href=\"#DejaVuSans-6b\" x=\"628.621094\"/>\n       <use xlink:href=\"#DejaVuSans-35\" x=\"686.53125\"/>\n      </g>\n     </g>\n    </g>\n    <g id=\"xtick_4\">\n     <g id=\"line2d_4\">\n      <path d=\"M 374.959464 347.577812 \nL 374.959464 75.777812 \n\" clip-path=\"url(#p9ddeffc1cc)\" style=\"fill: none; stroke: #ffffff; stroke-linecap: round\"/>\n     </g>\n     <g id=\"text_4\">\n      <!-- test-august.week2 -->\n      <g style=\"fill: #262626\" transform=\"translate(377.994777 459.276406)rotate(-90)scale(0.11 -0.11)\">\n       <defs>\n        <path id=\"DejaVuSans-32\" d=\"M 1228 531 \nL 3431 531 \nL 3431 0 \nL 469 0 \nL 469 531 \nQ 828 903 1448 1529 \nQ 2069 2156 2228 2338 \nQ 2531 2678 2651 2914 \nQ 2772 3150 2772 3378 \nQ 2772 3750 2511 3984 \nQ 2250 4219 1831 4219 \nQ 1534 4219 1204 4116 \nQ 875 4013 500 3803 \nL 500 4441 \nQ 881 4594 1212 4672 \nQ 1544 4750 1819 4750 \nQ 2544 4750 2975 4387 \nQ 3406 4025 3406 3419 \nQ 3406 3131 3298 2873 \nQ 3191 2616 2906 2266 \nQ 2828 2175 2409 1742 \nQ 1991 1309 1228 531 \nz\n\" transform=\"scale(0.015625)\"/>\n       </defs>\n       <use xlink:href=\"#DejaVuSans-74\"/>\n       <use xlink:href=\"#DejaVuSans-65\" x=\"39.208984\"/>\n       <use xlink:href=\"#DejaVuSans-73\" x=\"100.732422\"/>\n       <use xlink:href=\"#DejaVuSans-74\" x=\"152.832031\"/>\n       <use xlink:href=\"#DejaVuSans-2d\" x=\"192.041016\"/>\n       <use xlink:href=\"#DejaVuSans-61\" x=\"228.125\"/>\n       <use xlink:href=\"#DejaVuSans-75\" x=\"289.404297\"/>\n       <use xlink:href=\"#DejaVuSans-67\" x=\"352.783203\"/>\n       <use xlink:href=\"#DejaVuSans-75\" x=\"416.259766\"/>\n       <use xlink:href=\"#DejaVuSans-73\" x=\"479.638672\"/>\n       <use xlink:href=\"#DejaVuSans-74\" x=\"531.738281\"/>\n       <use xlink:href=\"#DejaVuSans-2e\" x=\"570.947266\"/>\n       <use xlink:href=\"#DejaVuSans-77\" x=\"602.734375\"/>\n       <use xlink:href=\"#DejaVuSans-65\" x=\"684.521484\"/>\n       <use xlink:href=\"#DejaVuSans-65\" x=\"746.044922\"/>\n       <use xlink:href=\"#DejaVuSans-6b\" x=\"807.568359\"/>\n       <use xlink:href=\"#DejaVuSans-32\" x=\"865.478516\"/>\n      </g>\n     </g>\n    </g>\n    <g id=\"xtick_5\">\n     <g id=\"line2d_5\">\n      <path d=\"M 463.530893 347.577812 \nL 463.530893 75.777812 \n\" clip-path=\"url(#p9ddeffc1cc)\" style=\"fill: none; stroke: #ffffff; stroke-linecap: round\"/>\n     </g>\n     <g id=\"text_5\">\n      <!-- test-august.week3 -->\n      <g style=\"fill: #262626\" transform=\"translate(466.566205 459.276406)rotate(-90)scale(0.11 -0.11)\">\n       <defs>\n        <path id=\"DejaVuSans-33\" d=\"M 2597 2516 \nQ 3050 2419 3304 2112 \nQ 3559 1806 3559 1356 \nQ 3559 666 3084 287 \nQ 2609 -91 1734 -91 \nQ 1441 -91 1130 -33 \nQ 819 25 488 141 \nL 488 750 \nQ 750 597 1062 519 \nQ 1375 441 1716 441 \nQ 2309 441 2620 675 \nQ 2931 909 2931 1356 \nQ 2931 1769 2642 2001 \nQ 2353 2234 1838 2234 \nL 1294 2234 \nL 1294 2753 \nL 1863 2753 \nQ 2328 2753 2575 2939 \nQ 2822 3125 2822 3475 \nQ 2822 3834 2567 4026 \nQ 2313 4219 1838 4219 \nQ 1578 4219 1281 4162 \nQ 984 4106 628 3988 \nL 628 4550 \nQ 988 4650 1302 4700 \nQ 1616 4750 1894 4750 \nQ 2613 4750 3031 4423 \nQ 3450 4097 3450 3541 \nQ 3450 3153 3228 2886 \nQ 3006 2619 2597 2516 \nz\n\" transform=\"scale(0.015625)\"/>\n       </defs>\n       <use xlink:href=\"#DejaVuSans-74\"/>\n       <use xlink:href=\"#DejaVuSans-65\" x=\"39.208984\"/>\n       <use xlink:href=\"#DejaVuSans-73\" x=\"100.732422\"/>\n       <use xlink:href=\"#DejaVuSans-74\" x=\"152.832031\"/>\n       <use xlink:href=\"#DejaVuSans-2d\" x=\"192.041016\"/>\n       <use xlink:href=\"#DejaVuSans-61\" x=\"228.125\"/>\n       <use xlink:href=\"#DejaVuSans-75\" x=\"289.404297\"/>\n       <use xlink:href=\"#DejaVuSans-67\" x=\"352.783203\"/>\n       <use xlink:href=\"#DejaVuSans-75\" x=\"416.259766\"/>\n       <use xlink:href=\"#DejaVuSans-73\" x=\"479.638672\"/>\n       <use xlink:href=\"#DejaVuSans-74\" x=\"531.738281\"/>\n       <use xlink:href=\"#DejaVuSans-2e\" x=\"570.947266\"/>\n       <use xlink:href=\"#DejaVuSans-77\" x=\"602.734375\"/>\n       <use xlink:href=\"#DejaVuSans-65\" x=\"684.521484\"/>\n       <use xlink:href=\"#DejaVuSans-65\" x=\"746.044922\"/>\n       <use xlink:href=\"#DejaVuSans-6b\" x=\"807.568359\"/>\n       <use xlink:href=\"#DejaVuSans-33\" x=\"865.478516\"/>\n      </g>\n     </g>\n    </g>\n    <g id=\"xtick_6\">\n     <g id=\"line2d_6\">\n      <path d=\"M 552.102321 347.577812 \nL 552.102321 75.777812 \n\" clip-path=\"url(#p9ddeffc1cc)\" style=\"fill: none; stroke: #ffffff; stroke-linecap: round\"/>\n     </g>\n     <g id=\"text_6\">\n      <!-- test-august.week5 -->\n      <g style=\"fill: #262626\" transform=\"translate(555.137634 459.276406)rotate(-90)scale(0.11 -0.11)\">\n       <use xlink:href=\"#DejaVuSans-74\"/>\n       <use xlink:href=\"#DejaVuSans-65\" x=\"39.208984\"/>\n       <use xlink:href=\"#DejaVuSans-73\" x=\"100.732422\"/>\n       <use xlink:href=\"#DejaVuSans-74\" x=\"152.832031\"/>\n       <use xlink:href=\"#DejaVuSans-2d\" x=\"192.041016\"/>\n       <use xlink:href=\"#DejaVuSans-61\" x=\"228.125\"/>\n       <use xlink:href=\"#DejaVuSans-75\" x=\"289.404297\"/>\n       <use xlink:href=\"#DejaVuSans-67\" x=\"352.783203\"/>\n       <use xlink:href=\"#DejaVuSans-75\" x=\"416.259766\"/>\n       <use xlink:href=\"#DejaVuSans-73\" x=\"479.638672\"/>\n       <use xlink:href=\"#DejaVuSans-74\" x=\"531.738281\"/>\n       <use xlink:href=\"#DejaVuSans-2e\" x=\"570.947266\"/>\n       <use xlink:href=\"#DejaVuSans-77\" x=\"602.734375\"/>\n       <use xlink:href=\"#DejaVuSans-65\" x=\"684.521484\"/>\n       <use xlink:href=\"#DejaVuSans-65\" x=\"746.044922\"/>\n       <use xlink:href=\"#DejaVuSans-6b\" x=\"807.568359\"/>\n       <use xlink:href=\"#DejaVuSans-35\" x=\"865.478516\"/>\n      </g>\n     </g>\n    </g>\n    <g id=\"text_7\">\n     <!-- mois/semaine -->\n     <g style=\"fill: #262626\" transform=\"translate(288.844375 472.394531)scale(0.12 -0.12)\">\n      <defs>\n       <path id=\"DejaVuSans-6d\" d=\"M 3328 2828 \nQ 3544 3216 3844 3400 \nQ 4144 3584 4550 3584 \nQ 5097 3584 5394 3201 \nQ 5691 2819 5691 2113 \nL 5691 0 \nL 5113 0 \nL 5113 2094 \nQ 5113 2597 4934 2840 \nQ 4756 3084 4391 3084 \nQ 3944 3084 3684 2787 \nQ 3425 2491 3425 1978 \nL 3425 0 \nL 2847 0 \nL 2847 2094 \nQ 2847 2600 2669 2842 \nQ 2491 3084 2119 3084 \nQ 1678 3084 1418 2786 \nQ 1159 2488 1159 1978 \nL 1159 0 \nL 581 0 \nL 581 3500 \nL 1159 3500 \nL 1159 2956 \nQ 1356 3278 1631 3431 \nQ 1906 3584 2284 3584 \nQ 2666 3584 2933 3390 \nQ 3200 3197 3328 2828 \nz\n\" transform=\"scale(0.015625)\"/>\n       <path id=\"DejaVuSans-6f\" d=\"M 1959 3097 \nQ 1497 3097 1228 2736 \nQ 959 2375 959 1747 \nQ 959 1119 1226 758 \nQ 1494 397 1959 397 \nQ 2419 397 2687 759 \nQ 2956 1122 2956 1747 \nQ 2956 2369 2687 2733 \nQ 2419 3097 1959 3097 \nz\nM 1959 3584 \nQ 2709 3584 3137 3096 \nQ 3566 2609 3566 1747 \nQ 3566 888 3137 398 \nQ 2709 -91 1959 -91 \nQ 1206 -91 779 398 \nQ 353 888 353 1747 \nQ 353 2609 779 3096 \nQ 1206 3584 1959 3584 \nz\n\" transform=\"scale(0.015625)\"/>\n       <path id=\"DejaVuSans-69\" d=\"M 603 3500 \nL 1178 3500 \nL 1178 0 \nL 603 0 \nL 603 3500 \nz\nM 603 4863 \nL 1178 4863 \nL 1178 4134 \nL 603 4134 \nL 603 4863 \nz\n\" transform=\"scale(0.015625)\"/>\n       <path id=\"DejaVuSans-2f\" d=\"M 1625 4666 \nL 2156 4666 \nL 531 -594 \nL 0 -594 \nL 1625 4666 \nz\n\" transform=\"scale(0.015625)\"/>\n       <path id=\"DejaVuSans-6e\" d=\"M 3513 2113 \nL 3513 0 \nL 2938 0 \nL 2938 2094 \nQ 2938 2591 2744 2837 \nQ 2550 3084 2163 3084 \nQ 1697 3084 1428 2787 \nQ 1159 2491 1159 1978 \nL 1159 0 \nL 581 0 \nL 581 3500 \nL 1159 3500 \nL 1159 2956 \nQ 1366 3272 1645 3428 \nQ 1925 3584 2291 3584 \nQ 2894 3584 3203 3211 \nQ 3513 2838 3513 2113 \nz\n\" transform=\"scale(0.015625)\"/>\n      </defs>\n      <use xlink:href=\"#DejaVuSans-6d\"/>\n      <use xlink:href=\"#DejaVuSans-6f\" x=\"97.412109\"/>\n      <use xlink:href=\"#DejaVuSans-69\" x=\"158.59375\"/>\n      <use xlink:href=\"#DejaVuSans-73\" x=\"186.376953\"/>\n      <use xlink:href=\"#DejaVuSans-2f\" x=\"238.476562\"/>\n      <use xlink:href=\"#DejaVuSans-73\" x=\"272.167969\"/>\n      <use xlink:href=\"#DejaVuSans-65\" x=\"324.267578\"/>\n      <use xlink:href=\"#DejaVuSans-6d\" x=\"385.791016\"/>\n      <use xlink:href=\"#DejaVuSans-61\" x=\"483.203125\"/>\n      <use xlink:href=\"#DejaVuSans-69\" x=\"544.482422\"/>\n      <use xlink:href=\"#DejaVuSans-6e\" x=\"572.265625\"/>\n      <use xlink:href=\"#DejaVuSans-65\" x=\"635.644531\"/>\n     </g>\n    </g>\n   </g>\n   <g id=\"matplotlib.axis_2\">\n    <g id=\"ytick_1\">\n     <g id=\"line2d_7\">\n      <path d=\"M 51.67375 307.558297 \nL 609.67375 307.558297 \n\" clip-path=\"url(#p9ddeffc1cc)\" style=\"fill: none; stroke: #ffffff; stroke-linecap: round\"/>\n     </g>\n     <g id=\"text_8\">\n      <!-- $\\mathdefault{10^{1}}$ -->\n      <g style=\"fill: #262626\" transform=\"translate(22.81375 311.737438)scale(0.11 -0.11)\">\n       <defs>\n        <path id=\"DejaVuSans-30\" d=\"M 2034 4250 \nQ 1547 4250 1301 3770 \nQ 1056 3291 1056 2328 \nQ 1056 1369 1301 889 \nQ 1547 409 2034 409 \nQ 2525 409 2770 889 \nQ 3016 1369 3016 2328 \nQ 3016 3291 2770 3770 \nQ 2525 4250 2034 4250 \nz\nM 2034 4750 \nQ 2819 4750 3233 4129 \nQ 3647 3509 3647 2328 \nQ 3647 1150 3233 529 \nQ 2819 -91 2034 -91 \nQ 1250 -91 836 529 \nQ 422 1150 422 2328 \nQ 422 3509 836 4129 \nQ 1250 4750 2034 4750 \nz\n\" transform=\"scale(0.015625)\"/>\n       </defs>\n       <use xlink:href=\"#DejaVuSans-31\" transform=\"translate(0 0.684375)\"/>\n       <use xlink:href=\"#DejaVuSans-30\" transform=\"translate(63.623047 0.684375)\"/>\n       <use xlink:href=\"#DejaVuSans-31\" transform=\"translate(128.203125 38.965625)scale(0.7)\"/>\n      </g>\n     </g>\n    </g>\n    <g id=\"ytick_2\">\n     <g id=\"line2d_8\">\n      <path d=\"M 51.67375 252.228358 \nL 609.67375 252.228358 \n\" clip-path=\"url(#p9ddeffc1cc)\" style=\"fill: none; stroke: #ffffff; stroke-linecap: round\"/>\n     </g>\n     <g id=\"text_9\">\n      <!-- $\\mathdefault{10^{3}}$ -->\n      <g style=\"fill: #262626\" transform=\"translate(22.81375 256.407498)scale(0.11 -0.11)\">\n       <use xlink:href=\"#DejaVuSans-31\" transform=\"translate(0 0.765625)\"/>\n       <use xlink:href=\"#DejaVuSans-30\" transform=\"translate(63.623047 0.765625)\"/>\n       <use xlink:href=\"#DejaVuSans-33\" transform=\"translate(128.203125 39.046875)scale(0.7)\"/>\n      </g>\n     </g>\n    </g>\n    <g id=\"ytick_3\">\n     <g id=\"line2d_9\">\n      <path d=\"M 51.67375 196.898418 \nL 609.67375 196.898418 \n\" clip-path=\"url(#p9ddeffc1cc)\" style=\"fill: none; stroke: #ffffff; stroke-linecap: round\"/>\n     </g>\n     <g id=\"text_10\">\n      <!-- $\\mathdefault{10^{5}}$ -->\n      <g style=\"fill: #262626\" transform=\"translate(22.81375 201.077559)scale(0.11 -0.11)\">\n       <use xlink:href=\"#DejaVuSans-31\" transform=\"translate(0 0.684375)\"/>\n       <use xlink:href=\"#DejaVuSans-30\" transform=\"translate(63.623047 0.684375)\"/>\n       <use xlink:href=\"#DejaVuSans-35\" transform=\"translate(128.203125 38.965625)scale(0.7)\"/>\n      </g>\n     </g>\n    </g>\n    <g id=\"ytick_4\">\n     <g id=\"line2d_10\">\n      <path d=\"M 51.67375 141.568479 \nL 609.67375 141.568479 \n\" clip-path=\"url(#p9ddeffc1cc)\" style=\"fill: none; stroke: #ffffff; stroke-linecap: round\"/>\n     </g>\n     <g id=\"text_11\">\n      <!-- $\\mathdefault{10^{7}}$ -->\n      <g style=\"fill: #262626\" transform=\"translate(22.81375 145.747619)scale(0.11 -0.11)\">\n       <defs>\n        <path id=\"DejaVuSans-37\" d=\"M 525 4666 \nL 3525 4666 \nL 3525 4397 \nL 1831 0 \nL 1172 0 \nL 2766 4134 \nL 525 4134 \nL 525 4666 \nz\n\" transform=\"scale(0.015625)\"/>\n       </defs>\n       <use xlink:href=\"#DejaVuSans-31\" transform=\"translate(0 0.684375)\"/>\n       <use xlink:href=\"#DejaVuSans-30\" transform=\"translate(63.623047 0.684375)\"/>\n       <use xlink:href=\"#DejaVuSans-37\" transform=\"translate(128.203125 38.965625)scale(0.7)\"/>\n      </g>\n     </g>\n    </g>\n    <g id=\"ytick_5\">\n     <g id=\"line2d_11\">\n      <path d=\"M 51.67375 86.238539 \nL 609.67375 86.238539 \n\" clip-path=\"url(#p9ddeffc1cc)\" style=\"fill: none; stroke: #ffffff; stroke-linecap: round\"/>\n     </g>\n     <g id=\"text_12\">\n      <!-- $\\mathdefault{10^{9}}$ -->\n      <g style=\"fill: #262626\" transform=\"translate(22.81375 90.41768)scale(0.11 -0.11)\">\n       <defs>\n        <path id=\"DejaVuSans-39\" d=\"M 703 97 \nL 703 672 \nQ 941 559 1184 500 \nQ 1428 441 1663 441 \nQ 2288 441 2617 861 \nQ 2947 1281 2994 2138 \nQ 2813 1869 2534 1725 \nQ 2256 1581 1919 1581 \nQ 1219 1581 811 2004 \nQ 403 2428 403 3163 \nQ 403 3881 828 4315 \nQ 1253 4750 1959 4750 \nQ 2769 4750 3195 4129 \nQ 3622 3509 3622 2328 \nQ 3622 1225 3098 567 \nQ 2575 -91 1691 -91 \nQ 1453 -91 1209 -44 \nQ 966 3 703 97 \nz\nM 1959 2075 \nQ 2384 2075 2632 2365 \nQ 2881 2656 2881 3163 \nQ 2881 3666 2632 3958 \nQ 2384 4250 1959 4250 \nQ 1534 4250 1286 3958 \nQ 1038 3666 1038 3163 \nQ 1038 2656 1286 2365 \nQ 1534 2075 1959 2075 \nz\n\" transform=\"scale(0.015625)\"/>\n       </defs>\n       <use xlink:href=\"#DejaVuSans-31\" transform=\"translate(0 0.765625)\"/>\n       <use xlink:href=\"#DejaVuSans-30\" transform=\"translate(63.623047 0.765625)\"/>\n       <use xlink:href=\"#DejaVuSans-39\" transform=\"translate(128.203125 39.046875)scale(0.7)\"/>\n      </g>\n     </g>\n    </g>\n    <g id=\"text_13\">\n     <!-- Nombre d'exemples -->\n     <g style=\"fill: #262626\" transform=\"translate(16.318125 271.66)rotate(-90)scale(0.12 -0.12)\">\n      <defs>\n       <path id=\"DejaVuSans-4e\" d=\"M 628 4666 \nL 1478 4666 \nL 3547 763 \nL 3547 4666 \nL 4159 4666 \nL 4159 0 \nL 3309 0 \nL 1241 3903 \nL 1241 0 \nL 628 0 \nL 628 4666 \nz\n\" transform=\"scale(0.015625)\"/>\n       <path id=\"DejaVuSans-62\" d=\"M 3116 1747 \nQ 3116 2381 2855 2742 \nQ 2594 3103 2138 3103 \nQ 1681 3103 1420 2742 \nQ 1159 2381 1159 1747 \nQ 1159 1113 1420 752 \nQ 1681 391 2138 391 \nQ 2594 391 2855 752 \nQ 3116 1113 3116 1747 \nz\nM 1159 2969 \nQ 1341 3281 1617 3432 \nQ 1894 3584 2278 3584 \nQ 2916 3584 3314 3078 \nQ 3713 2572 3713 1747 \nQ 3713 922 3314 415 \nQ 2916 -91 2278 -91 \nQ 1894 -91 1617 61 \nQ 1341 213 1159 525 \nL 1159 0 \nL 581 0 \nL 581 4863 \nL 1159 4863 \nL 1159 2969 \nz\n\" transform=\"scale(0.015625)\"/>\n       <path id=\"DejaVuSans-72\" d=\"M 2631 2963 \nQ 2534 3019 2420 3045 \nQ 2306 3072 2169 3072 \nQ 1681 3072 1420 2755 \nQ 1159 2438 1159 1844 \nL 1159 0 \nL 581 0 \nL 581 3500 \nL 1159 3500 \nL 1159 2956 \nQ 1341 3275 1631 3429 \nQ 1922 3584 2338 3584 \nQ 2397 3584 2469 3576 \nQ 2541 3569 2628 3553 \nL 2631 2963 \nz\n\" transform=\"scale(0.015625)\"/>\n       <path id=\"DejaVuSans-20\" transform=\"scale(0.015625)\"/>\n       <path id=\"DejaVuSans-64\" d=\"M 2906 2969 \nL 2906 4863 \nL 3481 4863 \nL 3481 0 \nL 2906 0 \nL 2906 525 \nQ 2725 213 2448 61 \nQ 2172 -91 1784 -91 \nQ 1150 -91 751 415 \nQ 353 922 353 1747 \nQ 353 2572 751 3078 \nQ 1150 3584 1784 3584 \nQ 2172 3584 2448 3432 \nQ 2725 3281 2906 2969 \nz\nM 947 1747 \nQ 947 1113 1208 752 \nQ 1469 391 1925 391 \nQ 2381 391 2643 752 \nQ 2906 1113 2906 1747 \nQ 2906 2381 2643 2742 \nQ 2381 3103 1925 3103 \nQ 1469 3103 1208 2742 \nQ 947 2381 947 1747 \nz\n\" transform=\"scale(0.015625)\"/>\n       <path id=\"DejaVuSans-27\" d=\"M 1147 4666 \nL 1147 2931 \nL 616 2931 \nL 616 4666 \nL 1147 4666 \nz\n\" transform=\"scale(0.015625)\"/>\n       <path id=\"DejaVuSans-78\" d=\"M 3513 3500 \nL 2247 1797 \nL 3578 0 \nL 2900 0 \nL 1881 1375 \nL 863 0 \nL 184 0 \nL 1544 1831 \nL 300 3500 \nL 978 3500 \nL 1906 2253 \nL 2834 3500 \nL 3513 3500 \nz\n\" transform=\"scale(0.015625)\"/>\n       <path id=\"DejaVuSans-70\" d=\"M 1159 525 \nL 1159 -1331 \nL 581 -1331 \nL 581 3500 \nL 1159 3500 \nL 1159 2969 \nQ 1341 3281 1617 3432 \nQ 1894 3584 2278 3584 \nQ 2916 3584 3314 3078 \nQ 3713 2572 3713 1747 \nQ 3713 922 3314 415 \nQ 2916 -91 2278 -91 \nQ 1894 -91 1617 61 \nQ 1341 213 1159 525 \nz\nM 3116 1747 \nQ 3116 2381 2855 2742 \nQ 2594 3103 2138 3103 \nQ 1681 3103 1420 2742 \nQ 1159 2381 1159 1747 \nQ 1159 1113 1420 752 \nQ 1681 391 2138 391 \nQ 2594 391 2855 752 \nQ 3116 1113 3116 1747 \nz\n\" transform=\"scale(0.015625)\"/>\n      </defs>\n      <use xlink:href=\"#DejaVuSans-4e\"/>\n      <use xlink:href=\"#DejaVuSans-6f\" x=\"74.804688\"/>\n      <use xlink:href=\"#DejaVuSans-6d\" x=\"135.986328\"/>\n      <use xlink:href=\"#DejaVuSans-62\" x=\"233.398438\"/>\n      <use xlink:href=\"#DejaVuSans-72\" x=\"296.875\"/>\n      <use xlink:href=\"#DejaVuSans-65\" x=\"335.738281\"/>\n      <use xlink:href=\"#DejaVuSans-20\" x=\"397.261719\"/>\n      <use xlink:href=\"#DejaVuSans-64\" x=\"429.048828\"/>\n      <use xlink:href=\"#DejaVuSans-27\" x=\"492.525391\"/>\n      <use xlink:href=\"#DejaVuSans-65\" x=\"520.015625\"/>\n      <use xlink:href=\"#DejaVuSans-78\" x=\"579.789062\"/>\n      <use xlink:href=\"#DejaVuSans-65\" x=\"635.84375\"/>\n      <use xlink:href=\"#DejaVuSans-6d\" x=\"697.367188\"/>\n      <use xlink:href=\"#DejaVuSans-70\" x=\"794.779297\"/>\n      <use xlink:href=\"#DejaVuSans-6c\" x=\"858.255859\"/>\n      <use xlink:href=\"#DejaVuSans-65\" x=\"886.039062\"/>\n      <use xlink:href=\"#DejaVuSans-73\" x=\"947.5625\"/>\n     </g>\n    </g>\n   </g>\n   <g id=\"patch_3\">\n    <path d=\"M 73.816607 28000.193017 \nL 80.902321 28000.193017 \nL 80.902321 326.895281 \nL 73.816607 326.895281 \nz\n\" clip-path=\"url(#p9ddeffc1cc)\" style=\"fill: #0173b2; stroke: #ffffff; stroke-linejoin: miter\"/>\n   </g>\n   <g id=\"patch_4\">\n    <path d=\"M 162.388036 28000.193017 \nL 169.47375 28000.193017 \nL 169.47375 311.843655 \nL 162.388036 311.843655 \nz\n\" clip-path=\"url(#p9ddeffc1cc)\" style=\"fill: #0173b2; stroke: #ffffff; stroke-linejoin: miter\"/>\n   </g>\n   <g id=\"patch_5\">\n    <path d=\"M 250.959464 28000.193017 \nL 258.045179 28000.193017 \nL 258.045179 335.223267 \nL 250.959464 335.223267 \nz\n\" clip-path=\"url(#p9ddeffc1cc)\" style=\"fill: #0173b2; stroke: #ffffff; stroke-linejoin: miter\"/>\n   </g>\n   <g id=\"patch_6\">\n    <path d=\"M 339.530893 28000.193017 \nL 346.616607 28000.193017 \nL 346.616607 326.895281 \nL 339.530893 326.895281 \nz\n\" clip-path=\"url(#p9ddeffc1cc)\" style=\"fill: #0173b2; stroke: #ffffff; stroke-linejoin: miter\"/>\n   </g>\n   <g id=\"patch_7\">\n    <path d=\"M 428.102321 28000.193017 \nL 435.188036 28000.193017 \nL 435.188036 318.567296 \nL 428.102321 318.567296 \nz\n\" clip-path=\"url(#p9ddeffc1cc)\" style=\"fill: #0173b2; stroke: #ffffff; stroke-linejoin: miter\"/>\n   </g>\n   <g id=\"patch_8\">\n    <path d=\"M 516.67375 28000.193017 \nL 523.759464 28000.193017 \nL 523.759464 335.223267 \nL 516.67375 335.223267 \nz\n\" clip-path=\"url(#p9ddeffc1cc)\" style=\"fill: #0173b2; stroke: #ffffff; stroke-linejoin: miter\"/>\n   </g>\n   <g id=\"patch_9\">\n    <path d=\"M 80.902321 28000.193017 \nL 87.988036 28000.193017 \nL 87.988036 88.132358 \nL 80.902321 88.132358 \nz\n\" clip-path=\"url(#p9ddeffc1cc)\" style=\"fill: #de8f05; stroke: #ffffff; stroke-linejoin: miter\"/>\n   </g>\n   <g id=\"patch_10\">\n    <path d=\"M 169.47375 28000.193017 \nL 176.559464 28000.193017 \nL 176.559464 88.754169 \nL 169.47375 88.754169 \nz\n\" clip-path=\"url(#p9ddeffc1cc)\" style=\"fill: #de8f05; stroke: #ffffff; stroke-linejoin: miter\"/>\n   </g>\n   <g id=\"patch_11\">\n    <path d=\"M 258.045179 28000.193017 \nL 265.130893 28000.193017 \nL 265.130893 93.821748 \nL 258.045179 93.821748 \nz\n\" clip-path=\"url(#p9ddeffc1cc)\" style=\"fill: #de8f05; stroke: #ffffff; stroke-linejoin: miter\"/>\n   </g>\n   <g id=\"patch_12\">\n    <path d=\"M 346.616607 28000.193017 \nL 353.702321 28000.193017 \nL 353.702321 89.017296 \nL 346.616607 89.017296 \nz\n\" clip-path=\"url(#p9ddeffc1cc)\" style=\"fill: #de8f05; stroke: #ffffff; stroke-linejoin: miter\"/>\n   </g>\n   <g id=\"patch_13\">\n    <path d=\"M 435.188036 28000.193017 \nL 442.27375 28000.193017 \nL 442.27375 88.817009 \nL 435.188036 88.817009 \nz\n\" clip-path=\"url(#p9ddeffc1cc)\" style=\"fill: #de8f05; stroke: #ffffff; stroke-linejoin: miter\"/>\n   </g>\n   <g id=\"patch_14\">\n    <path d=\"M 523.759464 28000.193017 \nL 530.845179 28000.193017 \nL 530.845179 124.866581 \nL 523.759464 124.866581 \nz\n\" clip-path=\"url(#p9ddeffc1cc)\" style=\"fill: #de8f05; stroke: #ffffff; stroke-linejoin: miter\"/>\n   </g>\n   <g id=\"patch_15\">\n    <path d=\"M 87.988036 28000.193017 \nL 95.07375 28000.193017 \nL 95.07375 155.760232 \nL 87.988036 155.760232 \nz\n\" clip-path=\"url(#p9ddeffc1cc)\" style=\"fill: #029e73; stroke: #ffffff; stroke-linejoin: miter\"/>\n   </g>\n   <g id=\"patch_16\">\n    <path d=\"M 176.559464 28000.193017 \nL 183.645179 28000.193017 \nL 183.645179 158.395868 \nL 176.559464 158.395868 \nz\n\" clip-path=\"url(#p9ddeffc1cc)\" style=\"fill: #029e73; stroke: #ffffff; stroke-linejoin: miter\"/>\n   </g>\n   <g id=\"patch_17\">\n    <path d=\"M 265.130893 28000.193017 \nL 272.216607 28000.193017 \nL 272.216607 164.763094 \nL 265.130893 164.763094 \nz\n\" clip-path=\"url(#p9ddeffc1cc)\" style=\"fill: #029e73; stroke: #ffffff; stroke-linejoin: miter\"/>\n   </g>\n   <g id=\"patch_18\">\n    <path d=\"M 353.702321 28000.193017 \nL 360.788036 28000.193017 \nL 360.788036 148.262953 \nL 353.702321 148.262953 \nz\n\" clip-path=\"url(#p9ddeffc1cc)\" style=\"fill: #029e73; stroke: #ffffff; stroke-linejoin: miter\"/>\n   </g>\n   <g id=\"patch_19\">\n    <path d=\"M 442.27375 28000.193017 \nL 449.359464 28000.193017 \nL 449.359464 149.560857 \nL 442.27375 149.560857 \nz\n\" clip-path=\"url(#p9ddeffc1cc)\" style=\"fill: #029e73; stroke: #ffffff; stroke-linejoin: miter\"/>\n   </g>\n   <g id=\"patch_20\">\n    <path d=\"M 530.845179 28000.193017 \nL 537.930893 28000.193017 \nL 537.930893 193.168607 \nL 530.845179 193.168607 \nz\n\" clip-path=\"url(#p9ddeffc1cc)\" style=\"fill: #029e73; stroke: #ffffff; stroke-linejoin: miter\"/>\n   </g>\n   <g id=\"patch_21\">\n    <path d=\"M 95.07375 28000.193017 \nL 102.159464 28000.193017 \nL 102.159464 149.225167 \nL 95.07375 149.225167 \nz\n\" clip-path=\"url(#p9ddeffc1cc)\" style=\"fill: #d55e00; stroke: #ffffff; stroke-linejoin: miter\"/>\n   </g>\n   <g id=\"patch_22\">\n    <path d=\"M 183.645179 28000.193017 \nL 190.730893 28000.193017 \nL 190.730893 129.210745 \nL 183.645179 129.210745 \nz\n\" clip-path=\"url(#p9ddeffc1cc)\" style=\"fill: #d55e00; stroke: #ffffff; stroke-linejoin: miter\"/>\n   </g>\n   <g id=\"patch_23\">\n    <path d=\"M 272.216607 28000.193017 \nL 279.302321 28000.193017 \nL 279.302321 177.473854 \nL 272.216607 177.473854 \nz\n\" clip-path=\"url(#p9ddeffc1cc)\" style=\"fill: #d55e00; stroke: #ffffff; stroke-linejoin: miter\"/>\n   </g>\n   <g id=\"patch_24\">\n    <path d=\"M 360.788036 28000.193017 \nL 367.87375 28000.193017 \nL 367.87375 125.915394 \nL 360.788036 125.915394 \nz\n\" clip-path=\"url(#p9ddeffc1cc)\" style=\"fill: #d55e00; stroke: #ffffff; stroke-linejoin: miter\"/>\n   </g>\n   <g id=\"patch_25\">\n    <path d=\"M 449.359464 28000.193017 \nL 456.445179 28000.193017 \nL 456.445179 145.752577 \nL 449.359464 145.752577 \nz\n\" clip-path=\"url(#p9ddeffc1cc)\" style=\"fill: #d55e00; stroke: #ffffff; stroke-linejoin: miter\"/>\n   </g>\n   <g id=\"patch_26\">\n    <path d=\"M 537.930893 28000.193017 \nL 545.016607 28000.193017 \nL 545.016607 28000.193017 \nL 537.930893 28000.193017 \nz\n\" clip-path=\"url(#p9ddeffc1cc)\" style=\"fill: #d55e00; stroke: #ffffff; stroke-linejoin: miter\"/>\n   </g>\n   <g id=\"patch_27\">\n    <path d=\"M 102.159464 28000.193017 \nL 109.245179 28000.193017 \nL 109.245179 305.367751 \nL 102.159464 305.367751 \nz\n\" clip-path=\"url(#p9ddeffc1cc)\" style=\"fill: #cc78bc; stroke: #ffffff; stroke-linejoin: miter\"/>\n   </g>\n   <g id=\"patch_28\">\n    <path d=\"M 190.730893 28000.193017 \nL 197.816607 28000.193017 \nL 197.816607 301.911324 \nL 190.730893 301.911324 \nz\n\" clip-path=\"url(#p9ddeffc1cc)\" style=\"fill: #cc78bc; stroke: #ffffff; stroke-linejoin: miter\"/>\n   </g>\n   <g id=\"patch_29\">\n    <path d=\"M 279.302321 28000.193017 \nL 286.388036 28000.193017 \nL 286.388036 307.558297 \nL 279.302321 307.558297 \nz\n\" clip-path=\"url(#p9ddeffc1cc)\" style=\"fill: #cc78bc; stroke: #ffffff; stroke-linejoin: miter\"/>\n   </g>\n   <g id=\"patch_30\">\n    <path d=\"M 367.87375 28000.193017 \nL 374.959464 28000.193017 \nL 374.959464 315.886283 \nL 367.87375 315.886283 \nz\n\" clip-path=\"url(#p9ddeffc1cc)\" style=\"fill: #cc78bc; stroke: #ffffff; stroke-linejoin: miter\"/>\n   </g>\n   <g id=\"patch_31\">\n    <path d=\"M 456.445179 28000.193017 \nL 463.530893 28000.193017 \nL 463.530893 299.230312 \nL 456.445179 299.230312 \nz\n\" clip-path=\"url(#p9ddeffc1cc)\" style=\"fill: #cc78bc; stroke: #ffffff; stroke-linejoin: miter\"/>\n   </g>\n   <g id=\"patch_32\">\n    <path d=\"M 545.016607 28000.193017 \nL 552.102321 28000.193017 \nL 552.102321 335.223267 \nL 545.016607 335.223267 \nz\n\" clip-path=\"url(#p9ddeffc1cc)\" style=\"fill: #cc78bc; stroke: #ffffff; stroke-linejoin: miter\"/>\n   </g>\n   <g id=\"patch_33\">\n    <path d=\"M 109.245179 28000.193017 \nL 116.330893 28000.193017 \nL 116.330893 28000.193017 \nL 109.245179 28000.193017 \nz\n\" clip-path=\"url(#p9ddeffc1cc)\" style=\"fill: #ca9161; stroke: #ffffff; stroke-linejoin: miter\"/>\n   </g>\n   <g id=\"patch_34\">\n    <path d=\"M 197.816607 28000.193017 \nL 204.902321 28000.193017 \nL 204.902321 169.355754 \nL 197.816607 169.355754 \nz\n\" clip-path=\"url(#p9ddeffc1cc)\" style=\"fill: #ca9161; stroke: #ffffff; stroke-linejoin: miter\"/>\n   </g>\n   <g id=\"patch_35\">\n    <path d=\"M 286.388036 28000.193017 \nL 293.47375 28000.193017 \nL 293.47375 28000.193017 \nL 286.388036 28000.193017 \nz\n\" clip-path=\"url(#p9ddeffc1cc)\" style=\"fill: #ca9161; stroke: #ffffff; stroke-linejoin: miter\"/>\n   </g>\n   <g id=\"patch_36\">\n    <path d=\"M 374.959464 28000.193017 \nL 382.045179 28000.193017 \nL 382.045179 28000.193017 \nL 374.959464 28000.193017 \nz\n\" clip-path=\"url(#p9ddeffc1cc)\" style=\"fill: #ca9161; stroke: #ffffff; stroke-linejoin: miter\"/>\n   </g>\n   <g id=\"patch_37\">\n    <path d=\"M 463.530893 28000.193017 \nL 470.616607 28000.193017 \nL 470.616607 28000.193017 \nL 463.530893 28000.193017 \nz\n\" clip-path=\"url(#p9ddeffc1cc)\" style=\"fill: #ca9161; stroke: #ffffff; stroke-linejoin: miter\"/>\n   </g>\n   <g id=\"patch_38\">\n    <path d=\"M 552.102321 28000.193017 \nL 559.188036 28000.193017 \nL 559.188036 28000.193017 \nL 552.102321 28000.193017 \nz\n\" clip-path=\"url(#p9ddeffc1cc)\" style=\"fill: #ca9161; stroke: #ffffff; stroke-linejoin: miter\"/>\n   </g>\n   <g id=\"patch_39\">\n    <path d=\"M 116.330893 28000.193017 \nL 123.416607 28000.193017 \nL 123.416607 28000.193017 \nL 116.330893 28000.193017 \nz\n\" clip-path=\"url(#p9ddeffc1cc)\" style=\"fill: #fbafe4; stroke: #ffffff; stroke-linejoin: miter\"/>\n   </g>\n   <g id=\"patch_40\">\n    <path d=\"M 204.902321 28000.193017 \nL 211.988036 28000.193017 \nL 211.988036 149.674732 \nL 204.902321 149.674732 \nz\n\" clip-path=\"url(#p9ddeffc1cc)\" style=\"fill: #fbafe4; stroke: #ffffff; stroke-linejoin: miter\"/>\n   </g>\n   <g id=\"patch_41\">\n    <path d=\"M 293.47375 28000.193017 \nL 300.559464 28000.193017 \nL 300.559464 155.506094 \nL 293.47375 155.506094 \nz\n\" clip-path=\"url(#p9ddeffc1cc)\" style=\"fill: #fbafe4; stroke: #ffffff; stroke-linejoin: miter\"/>\n   </g>\n   <g id=\"patch_42\">\n    <path d=\"M 382.045179 28000.193017 \nL 389.130893 28000.193017 \nL 389.130893 168.898796 \nL 382.045179 168.898796 \nz\n\" clip-path=\"url(#p9ddeffc1cc)\" style=\"fill: #fbafe4; stroke: #ffffff; stroke-linejoin: miter\"/>\n   </g>\n   <g id=\"patch_43\">\n    <path d=\"M 470.616607 28000.193017 \nL 477.702321 28000.193017 \nL 477.702321 28000.193017 \nL 470.616607 28000.193017 \nz\n\" clip-path=\"url(#p9ddeffc1cc)\" style=\"fill: #fbafe4; stroke: #ffffff; stroke-linejoin: miter\"/>\n   </g>\n   <g id=\"patch_44\">\n    <path d=\"M 559.188036 28000.193017 \nL 566.27375 28000.193017 \nL 566.27375 28000.193017 \nL 559.188036 28000.193017 \nz\n\" clip-path=\"url(#p9ddeffc1cc)\" style=\"fill: #fbafe4; stroke: #ffffff; stroke-linejoin: miter\"/>\n   </g>\n   <g id=\"patch_45\">\n    <path d=\"M 123.416607 28000.193017 \nL 130.502321 28000.193017 \nL 130.502321 28000.193017 \nL 123.416607 28000.193017 \nz\n\" clip-path=\"url(#p9ddeffc1cc)\" style=\"fill: #949494; stroke: #ffffff; stroke-linejoin: miter\"/>\n   </g>\n   <g id=\"patch_46\">\n    <path d=\"M 211.988036 28000.193017 \nL 219.07375 28000.193017 \nL 219.07375 176.658636 \nL 211.988036 176.658636 \nz\n\" clip-path=\"url(#p9ddeffc1cc)\" style=\"fill: #949494; stroke: #ffffff; stroke-linejoin: miter\"/>\n   </g>\n   <g id=\"patch_47\">\n    <path d=\"M 300.559464 28000.193017 \nL 307.645179 28000.193017 \nL 307.645179 182.806883 \nL 300.559464 182.806883 \nz\n\" clip-path=\"url(#p9ddeffc1cc)\" style=\"fill: #949494; stroke: #ffffff; stroke-linejoin: miter\"/>\n   </g>\n   <g id=\"patch_48\">\n    <path d=\"M 389.130893 28000.193017 \nL 396.216607 28000.193017 \nL 396.216607 192.809452 \nL 389.130893 192.809452 \nz\n\" clip-path=\"url(#p9ddeffc1cc)\" style=\"fill: #949494; stroke: #ffffff; stroke-linejoin: miter\"/>\n   </g>\n   <g id=\"patch_49\">\n    <path d=\"M 477.702321 28000.193017 \nL 484.788036 28000.193017 \nL 484.788036 28000.193017 \nL 477.702321 28000.193017 \nz\n\" clip-path=\"url(#p9ddeffc1cc)\" style=\"fill: #949494; stroke: #ffffff; stroke-linejoin: miter\"/>\n   </g>\n   <g id=\"patch_50\">\n    <path d=\"M 566.27375 28000.193017 \nL 573.359464 28000.193017 \nL 573.359464 28000.193017 \nL 566.27375 28000.193017 \nz\n\" clip-path=\"url(#p9ddeffc1cc)\" style=\"fill: #949494; stroke: #ffffff; stroke-linejoin: miter\"/>\n   </g>\n   <g id=\"patch_51\">\n    <path d=\"M 130.502321 28000.193017 \nL 137.588036 28000.193017 \nL 137.588036 28000.193017 \nL 130.502321 28000.193017 \nz\n\" clip-path=\"url(#p9ddeffc1cc)\" style=\"fill: #ece133; stroke: #ffffff; stroke-linejoin: miter\"/>\n   </g>\n   <g id=\"patch_52\">\n    <path d=\"M 219.07375 28000.193017 \nL 226.159464 28000.193017 \nL 226.159464 158.334513 \nL 219.07375 158.334513 \nz\n\" clip-path=\"url(#p9ddeffc1cc)\" style=\"fill: #ece133; stroke: #ffffff; stroke-linejoin: miter\"/>\n   </g>\n   <g id=\"patch_53\">\n    <path d=\"M 307.645179 28000.193017 \nL 314.730893 28000.193017 \nL 314.730893 164.389924 \nL 307.645179 164.389924 \nz\n\" clip-path=\"url(#p9ddeffc1cc)\" style=\"fill: #ece133; stroke: #ffffff; stroke-linejoin: miter\"/>\n   </g>\n   <g id=\"patch_54\">\n    <path d=\"M 396.216607 28000.193017 \nL 403.302321 28000.193017 \nL 403.302321 176.471746 \nL 396.216607 176.471746 \nz\n\" clip-path=\"url(#p9ddeffc1cc)\" style=\"fill: #ece133; stroke: #ffffff; stroke-linejoin: miter\"/>\n   </g>\n   <g id=\"patch_55\">\n    <path d=\"M 484.788036 28000.193017 \nL 491.87375 28000.193017 \nL 491.87375 28000.193017 \nL 484.788036 28000.193017 \nz\n\" clip-path=\"url(#p9ddeffc1cc)\" style=\"fill: #ece133; stroke: #ffffff; stroke-linejoin: miter\"/>\n   </g>\n   <g id=\"patch_56\">\n    <path d=\"M 573.359464 28000.193017 \nL 580.445179 28000.193017 \nL 580.445179 28000.193017 \nL 573.359464 28000.193017 \nz\n\" clip-path=\"url(#p9ddeffc1cc)\" style=\"fill: #ece133; stroke: #ffffff; stroke-linejoin: miter\"/>\n   </g>\n   <g id=\"patch_57\">\n    <path d=\"M 137.588036 28000.193017 \nL 144.67375 28000.193017 \nL 144.67375 28000.193017 \nL 137.588036 28000.193017 \nz\n\" clip-path=\"url(#p9ddeffc1cc)\" style=\"fill: #56b4e9; stroke: #ffffff; stroke-linejoin: miter\"/>\n   </g>\n   <g id=\"patch_58\">\n    <path d=\"M 226.159464 28000.193017 \nL 233.245179 28000.193017 \nL 233.245179 169.322991 \nL 226.159464 169.322991 \nz\n\" clip-path=\"url(#p9ddeffc1cc)\" style=\"fill: #56b4e9; stroke: #ffffff; stroke-linejoin: miter\"/>\n   </g>\n   <g id=\"patch_59\">\n    <path d=\"M 314.730893 28000.193017 \nL 321.816607 28000.193017 \nL 321.816607 175.230814 \nL 314.730893 175.230814 \nz\n\" clip-path=\"url(#p9ddeffc1cc)\" style=\"fill: #56b4e9; stroke: #ffffff; stroke-linejoin: miter\"/>\n   </g>\n   <g id=\"patch_60\">\n    <path d=\"M 403.302321 28000.193017 \nL 410.388036 28000.193017 \nL 410.388036 199.294776 \nL 403.302321 199.294776 \nz\n\" clip-path=\"url(#p9ddeffc1cc)\" style=\"fill: #56b4e9; stroke: #ffffff; stroke-linejoin: miter\"/>\n   </g>\n   <g id=\"patch_61\">\n    <path d=\"M 491.87375 28000.193017 \nL 498.959464 28000.193017 \nL 498.959464 28000.193017 \nL 491.87375 28000.193017 \nz\n\" clip-path=\"url(#p9ddeffc1cc)\" style=\"fill: #56b4e9; stroke: #ffffff; stroke-linejoin: miter\"/>\n   </g>\n   <g id=\"patch_62\">\n    <path d=\"M 580.445179 28000.193017 \nL 587.530893 28000.193017 \nL 587.530893 28000.193017 \nL 580.445179 28000.193017 \nz\n\" clip-path=\"url(#p9ddeffc1cc)\" style=\"fill: #56b4e9; stroke: #ffffff; stroke-linejoin: miter\"/>\n   </g>\n   <g id=\"patch_63\">\n    <path d=\"M 51.67375 347.577812 \nL 51.67375 75.777812 \n\" style=\"fill: none; stroke: #ffffff; stroke-width: 1.25; stroke-linejoin: miter; stroke-linecap: square\"/>\n   </g>\n   <g id=\"patch_64\">\n    <path d=\"M 609.67375 347.577812 \nL 609.67375 75.777812 \n\" style=\"fill: none; stroke: #ffffff; stroke-width: 1.25; stroke-linejoin: miter; stroke-linecap: square\"/>\n   </g>\n   <g id=\"patch_65\">\n    <path d=\"M 51.67375 347.577812 \nL 609.67375 347.577812 \n\" style=\"fill: none; stroke: #ffffff; stroke-width: 1.25; stroke-linejoin: miter; stroke-linecap: square\"/>\n   </g>\n   <g id=\"patch_66\">\n    <path d=\"M 51.67375 75.777812 \nL 609.67375 75.777812 \n\" style=\"fill: none; stroke: #ffffff; stroke-width: 1.25; stroke-linejoin: miter; stroke-linecap: square\"/>\n   </g>\n   <g id=\"text_14\">\n    <!-- Répartition des labels dans la dataset TEST en fonction du mois/semaine -->\n    <g style=\"fill: #262626\" transform=\"translate(111.600625 69.777812)scale(0.12 -0.12)\">\n     <defs>\n      <path id=\"DejaVuSans-52\" d=\"M 2841 2188 \nQ 3044 2119 3236 1894 \nQ 3428 1669 3622 1275 \nL 4263 0 \nL 3584 0 \nL 2988 1197 \nQ 2756 1666 2539 1819 \nQ 2322 1972 1947 1972 \nL 1259 1972 \nL 1259 0 \nL 628 0 \nL 628 4666 \nL 2053 4666 \nQ 2853 4666 3247 4331 \nQ 3641 3997 3641 3322 \nQ 3641 2881 3436 2590 \nQ 3231 2300 2841 2188 \nz\nM 1259 4147 \nL 1259 2491 \nL 2053 2491 \nQ 2509 2491 2742 2702 \nQ 2975 2913 2975 3322 \nQ 2975 3731 2742 3939 \nQ 2509 4147 2053 4147 \nL 1259 4147 \nz\n\" transform=\"scale(0.015625)\"/>\n      <path id=\"DejaVuSans-e9\" d=\"M 3597 1894 \nL 3597 1613 \nL 953 1613 \nQ 991 1019 1311 708 \nQ 1631 397 2203 397 \nQ 2534 397 2845 478 \nQ 3156 559 3463 722 \nL 3463 178 \nQ 3153 47 2828 -22 \nQ 2503 -91 2169 -91 \nQ 1331 -91 842 396 \nQ 353 884 353 1716 \nQ 353 2575 817 3079 \nQ 1281 3584 2069 3584 \nQ 2775 3584 3186 3129 \nQ 3597 2675 3597 1894 \nz\nM 3022 2063 \nQ 3016 2534 2758 2815 \nQ 2500 3097 2075 3097 \nQ 1594 3097 1305 2825 \nQ 1016 2553 972 2059 \nL 3022 2063 \nz\nM 2466 5119 \nL 3088 5119 \nL 2070 3944 \nL 1591 3944 \nL 2466 5119 \nz\n\" transform=\"scale(0.015625)\"/>\n      <path id=\"DejaVuSans-54\" d=\"M -19 4666 \nL 3928 4666 \nL 3928 4134 \nL 2272 4134 \nL 2272 0 \nL 1638 0 \nL 1638 4134 \nL -19 4134 \nL -19 4666 \nz\n\" transform=\"scale(0.015625)\"/>\n      <path id=\"DejaVuSans-45\" d=\"M 628 4666 \nL 3578 4666 \nL 3578 4134 \nL 1259 4134 \nL 1259 2753 \nL 3481 2753 \nL 3481 2222 \nL 1259 2222 \nL 1259 531 \nL 3634 531 \nL 3634 0 \nL 628 0 \nL 628 4666 \nz\n\" transform=\"scale(0.015625)\"/>\n      <path id=\"DejaVuSans-53\" d=\"M 3425 4513 \nL 3425 3897 \nQ 3066 4069 2747 4153 \nQ 2428 4238 2131 4238 \nQ 1616 4238 1336 4038 \nQ 1056 3838 1056 3469 \nQ 1056 3159 1242 3001 \nQ 1428 2844 1947 2747 \nL 2328 2669 \nQ 3034 2534 3370 2195 \nQ 3706 1856 3706 1288 \nQ 3706 609 3251 259 \nQ 2797 -91 1919 -91 \nQ 1588 -91 1214 -16 \nQ 841 59 441 206 \nL 441 856 \nQ 825 641 1194 531 \nQ 1563 422 1919 422 \nQ 2459 422 2753 634 \nQ 3047 847 3047 1241 \nQ 3047 1584 2836 1778 \nQ 2625 1972 2144 2069 \nL 1759 2144 \nQ 1053 2284 737 2584 \nQ 422 2884 422 3419 \nQ 422 4038 858 4394 \nQ 1294 4750 2059 4750 \nQ 2388 4750 2728 4690 \nQ 3069 4631 3425 4513 \nz\n\" transform=\"scale(0.015625)\"/>\n      <path id=\"DejaVuSans-66\" d=\"M 2375 4863 \nL 2375 4384 \nL 1825 4384 \nQ 1516 4384 1395 4259 \nQ 1275 4134 1275 3809 \nL 1275 3500 \nL 2222 3500 \nL 2222 3053 \nL 1275 3053 \nL 1275 0 \nL 697 0 \nL 697 3053 \nL 147 3053 \nL 147 3500 \nL 697 3500 \nL 697 3744 \nQ 697 4328 969 4595 \nQ 1241 4863 1831 4863 \nL 2375 4863 \nz\n\" transform=\"scale(0.015625)\"/>\n      <path id=\"DejaVuSans-63\" d=\"M 3122 3366 \nL 3122 2828 \nQ 2878 2963 2633 3030 \nQ 2388 3097 2138 3097 \nQ 1578 3097 1268 2742 \nQ 959 2388 959 1747 \nQ 959 1106 1268 751 \nQ 1578 397 2138 397 \nQ 2388 397 2633 464 \nQ 2878 531 3122 666 \nL 3122 134 \nQ 2881 22 2623 -34 \nQ 2366 -91 2075 -91 \nQ 1284 -91 818 406 \nQ 353 903 353 1747 \nQ 353 2603 823 3093 \nQ 1294 3584 2113 3584 \nQ 2378 3584 2631 3529 \nQ 2884 3475 3122 3366 \nz\n\" transform=\"scale(0.015625)\"/>\n     </defs>\n     <use xlink:href=\"#DejaVuSans-52\"/>\n     <use xlink:href=\"#DejaVuSans-e9\" x=\"64.982422\"/>\n     <use xlink:href=\"#DejaVuSans-70\" x=\"126.505859\"/>\n     <use xlink:href=\"#DejaVuSans-61\" x=\"189.982422\"/>\n     <use xlink:href=\"#DejaVuSans-72\" x=\"251.261719\"/>\n     <use xlink:href=\"#DejaVuSans-74\" x=\"292.375\"/>\n     <use xlink:href=\"#DejaVuSans-69\" x=\"331.583984\"/>\n     <use xlink:href=\"#DejaVuSans-74\" x=\"359.367188\"/>\n     <use xlink:href=\"#DejaVuSans-69\" x=\"398.576172\"/>\n     <use xlink:href=\"#DejaVuSans-6f\" x=\"426.359375\"/>\n     <use xlink:href=\"#DejaVuSans-6e\" x=\"487.541016\"/>\n     <use xlink:href=\"#DejaVuSans-20\" x=\"550.919922\"/>\n     <use xlink:href=\"#DejaVuSans-64\" x=\"582.707031\"/>\n     <use xlink:href=\"#DejaVuSans-65\" x=\"646.183594\"/>\n     <use xlink:href=\"#DejaVuSans-73\" x=\"707.707031\"/>\n     <use xlink:href=\"#DejaVuSans-20\" x=\"759.806641\"/>\n     <use xlink:href=\"#DejaVuSans-6c\" x=\"791.59375\"/>\n     <use xlink:href=\"#DejaVuSans-61\" x=\"819.376953\"/>\n     <use xlink:href=\"#DejaVuSans-62\" x=\"880.65625\"/>\n     <use xlink:href=\"#DejaVuSans-65\" x=\"944.132812\"/>\n     <use xlink:href=\"#DejaVuSans-6c\" x=\"1005.65625\"/>\n     <use xlink:href=\"#DejaVuSans-73\" x=\"1033.439453\"/>\n     <use xlink:href=\"#DejaVuSans-20\" x=\"1085.539062\"/>\n     <use xlink:href=\"#DejaVuSans-64\" x=\"1117.326172\"/>\n     <use xlink:href=\"#DejaVuSans-61\" x=\"1180.802734\"/>\n     <use xlink:href=\"#DejaVuSans-6e\" x=\"1242.082031\"/>\n     <use xlink:href=\"#DejaVuSans-73\" x=\"1305.460938\"/>\n     <use xlink:href=\"#DejaVuSans-20\" x=\"1357.560547\"/>\n     <use xlink:href=\"#DejaVuSans-6c\" x=\"1389.347656\"/>\n     <use xlink:href=\"#DejaVuSans-61\" x=\"1417.130859\"/>\n     <use xlink:href=\"#DejaVuSans-20\" x=\"1478.410156\"/>\n     <use xlink:href=\"#DejaVuSans-64\" x=\"1510.197266\"/>\n     <use xlink:href=\"#DejaVuSans-61\" x=\"1573.673828\"/>\n     <use xlink:href=\"#DejaVuSans-74\" x=\"1634.953125\"/>\n     <use xlink:href=\"#DejaVuSans-61\" x=\"1674.162109\"/>\n     <use xlink:href=\"#DejaVuSans-73\" x=\"1735.441406\"/>\n     <use xlink:href=\"#DejaVuSans-65\" x=\"1787.541016\"/>\n     <use xlink:href=\"#DejaVuSans-74\" x=\"1849.064453\"/>\n     <use xlink:href=\"#DejaVuSans-20\" x=\"1888.273438\"/>\n     <use xlink:href=\"#DejaVuSans-54\" x=\"1920.060547\"/>\n     <use xlink:href=\"#DejaVuSans-45\" x=\"1981.144531\"/>\n     <use xlink:href=\"#DejaVuSans-53\" x=\"2044.328125\"/>\n     <use xlink:href=\"#DejaVuSans-54\" x=\"2107.804688\"/>\n     <use xlink:href=\"#DejaVuSans-20\" x=\"2168.888672\"/>\n     <use xlink:href=\"#DejaVuSans-65\" x=\"2200.675781\"/>\n     <use xlink:href=\"#DejaVuSans-6e\" x=\"2262.199219\"/>\n     <use xlink:href=\"#DejaVuSans-20\" x=\"2325.578125\"/>\n     <use xlink:href=\"#DejaVuSans-66\" x=\"2357.365234\"/>\n     <use xlink:href=\"#DejaVuSans-6f\" x=\"2392.570312\"/>\n     <use xlink:href=\"#DejaVuSans-6e\" x=\"2453.751953\"/>\n     <use xlink:href=\"#DejaVuSans-63\" x=\"2517.130859\"/>\n     <use xlink:href=\"#DejaVuSans-74\" x=\"2572.111328\"/>\n     <use xlink:href=\"#DejaVuSans-69\" x=\"2611.320312\"/>\n     <use xlink:href=\"#DejaVuSans-6f\" x=\"2639.103516\"/>\n     <use xlink:href=\"#DejaVuSans-6e\" x=\"2700.285156\"/>\n     <use xlink:href=\"#DejaVuSans-20\" x=\"2763.664062\"/>\n     <use xlink:href=\"#DejaVuSans-64\" x=\"2795.451172\"/>\n     <use xlink:href=\"#DejaVuSans-75\" x=\"2858.927734\"/>\n     <use xlink:href=\"#DejaVuSans-20\" x=\"2922.306641\"/>\n     <use xlink:href=\"#DejaVuSans-6d\" x=\"2954.09375\"/>\n     <use xlink:href=\"#DejaVuSans-6f\" x=\"3051.505859\"/>\n     <use xlink:href=\"#DejaVuSans-69\" x=\"3112.6875\"/>\n     <use xlink:href=\"#DejaVuSans-73\" x=\"3140.470703\"/>\n     <use xlink:href=\"#DejaVuSans-2f\" x=\"3192.570312\"/>\n     <use xlink:href=\"#DejaVuSans-73\" x=\"3226.261719\"/>\n     <use xlink:href=\"#DejaVuSans-65\" x=\"3278.361328\"/>\n     <use xlink:href=\"#DejaVuSans-6d\" x=\"3339.884766\"/>\n     <use xlink:href=\"#DejaVuSans-61\" x=\"3437.296875\"/>\n     <use xlink:href=\"#DejaVuSans-69\" x=\"3498.576172\"/>\n     <use xlink:href=\"#DejaVuSans-6e\" x=\"3526.359375\"/>\n     <use xlink:href=\"#DejaVuSans-65\" x=\"3589.738281\"/>\n    </g>\n   </g>\n   <g id=\"legend_1\">\n    <g id=\"patch_67\">\n     <path d=\"M 12.813281 19.958281 \nL 34.813281 19.958281 \nL 34.813281 12.258281 \nL 12.813281 12.258281 \nz\n\" style=\"fill: #0173b2; stroke: #ffffff; stroke-linejoin: miter\"/>\n    </g>\n    <g id=\"text_15\">\n     <!-- &lt;INVALID_LENGTH&gt; -->\n     <g style=\"fill: #262626\" transform=\"translate(43.613281 19.958281)scale(0.11 -0.11)\">\n      <defs>\n       <path id=\"DejaVuSans-3c\" d=\"M 4684 3150 \nL 1459 2003 \nL 4684 863 \nL 4684 294 \nL 678 1747 \nL 678 2266 \nL 4684 3719 \nL 4684 3150 \nz\n\" transform=\"scale(0.015625)\"/>\n       <path id=\"DejaVuSans-49\" d=\"M 628 4666 \nL 1259 4666 \nL 1259 0 \nL 628 0 \nL 628 4666 \nz\n\" transform=\"scale(0.015625)\"/>\n       <path id=\"DejaVuSans-56\" d=\"M 1831 0 \nL 50 4666 \nL 709 4666 \nL 2188 738 \nL 3669 4666 \nL 4325 4666 \nL 2547 0 \nL 1831 0 \nz\n\" transform=\"scale(0.015625)\"/>\n       <path id=\"DejaVuSans-41\" d=\"M 2188 4044 \nL 1331 1722 \nL 3047 1722 \nL 2188 4044 \nz\nM 1831 4666 \nL 2547 4666 \nL 4325 0 \nL 3669 0 \nL 3244 1197 \nL 1141 1197 \nL 716 0 \nL 50 0 \nL 1831 4666 \nz\n\" transform=\"scale(0.015625)\"/>\n       <path id=\"DejaVuSans-4c\" d=\"M 628 4666 \nL 1259 4666 \nL 1259 531 \nL 3531 531 \nL 3531 0 \nL 628 0 \nL 628 4666 \nz\n\" transform=\"scale(0.015625)\"/>\n       <path id=\"DejaVuSans-44\" d=\"M 1259 4147 \nL 1259 519 \nL 2022 519 \nQ 2988 519 3436 956 \nQ 3884 1394 3884 2338 \nQ 3884 3275 3436 3711 \nQ 2988 4147 2022 4147 \nL 1259 4147 \nz\nM 628 4666 \nL 1925 4666 \nQ 3281 4666 3915 4102 \nQ 4550 3538 4550 2338 \nQ 4550 1131 3912 565 \nQ 3275 0 1925 0 \nL 628 0 \nL 628 4666 \nz\n\" transform=\"scale(0.015625)\"/>\n       <path id=\"DejaVuSans-5f\" d=\"M 3263 -1063 \nL 3263 -1509 \nL -63 -1509 \nL -63 -1063 \nL 3263 -1063 \nz\n\" transform=\"scale(0.015625)\"/>\n       <path id=\"DejaVuSans-47\" d=\"M 3809 666 \nL 3809 1919 \nL 2778 1919 \nL 2778 2438 \nL 4434 2438 \nL 4434 434 \nQ 4069 175 3628 42 \nQ 3188 -91 2688 -91 \nQ 1594 -91 976 548 \nQ 359 1188 359 2328 \nQ 359 3472 976 4111 \nQ 1594 4750 2688 4750 \nQ 3144 4750 3555 4637 \nQ 3966 4525 4313 4306 \nL 4313 3634 \nQ 3963 3931 3569 4081 \nQ 3175 4231 2741 4231 \nQ 1884 4231 1454 3753 \nQ 1025 3275 1025 2328 \nQ 1025 1384 1454 906 \nQ 1884 428 2741 428 \nQ 3075 428 3337 486 \nQ 3600 544 3809 666 \nz\n\" transform=\"scale(0.015625)\"/>\n       <path id=\"DejaVuSans-48\" d=\"M 628 4666 \nL 1259 4666 \nL 1259 2753 \nL 3553 2753 \nL 3553 4666 \nL 4184 4666 \nL 4184 0 \nL 3553 0 \nL 3553 2222 \nL 1259 2222 \nL 1259 0 \nL 628 0 \nL 628 4666 \nz\n\" transform=\"scale(0.015625)\"/>\n       <path id=\"DejaVuSans-3e\" d=\"M 678 3150 \nL 678 3719 \nL 4684 2266 \nL 4684 1747 \nL 678 294 \nL 678 863 \nL 3897 2003 \nL 678 3150 \nz\n\" transform=\"scale(0.015625)\"/>\n      </defs>\n      <use xlink:href=\"#DejaVuSans-3c\"/>\n      <use xlink:href=\"#DejaVuSans-49\" x=\"83.789062\"/>\n      <use xlink:href=\"#DejaVuSans-4e\" x=\"113.28125\"/>\n      <use xlink:href=\"#DejaVuSans-56\" x=\"188.085938\"/>\n      <use xlink:href=\"#DejaVuSans-41\" x=\"250.119141\"/>\n      <use xlink:href=\"#DejaVuSans-4c\" x=\"318.527344\"/>\n      <use xlink:href=\"#DejaVuSans-49\" x=\"374.240234\"/>\n      <use xlink:href=\"#DejaVuSans-44\" x=\"403.732422\"/>\n      <use xlink:href=\"#DejaVuSans-5f\" x=\"480.734375\"/>\n      <use xlink:href=\"#DejaVuSans-4c\" x=\"530.734375\"/>\n      <use xlink:href=\"#DejaVuSans-45\" x=\"586.447266\"/>\n      <use xlink:href=\"#DejaVuSans-4e\" x=\"649.630859\"/>\n      <use xlink:href=\"#DejaVuSans-47\" x=\"724.435547\"/>\n      <use xlink:href=\"#DejaVuSans-54\" x=\"798.300781\"/>\n      <use xlink:href=\"#DejaVuSans-48\" x=\"859.384766\"/>\n      <use xlink:href=\"#DejaVuSans-3e\" x=\"934.580078\"/>\n     </g>\n    </g>\n    <g id=\"patch_68\">\n     <path d=\"M 12.813281 36.410156 \nL 34.813281 36.410156 \nL 34.813281 28.710156 \nL 12.813281 28.710156 \nz\n\" style=\"fill: #de8f05; stroke: #ffffff; stroke-linejoin: miter\"/>\n    </g>\n    <g id=\"text_16\">\n     <!-- background -->\n     <g style=\"fill: #262626\" transform=\"translate(43.613281 36.410156)scale(0.11 -0.11)\">\n      <use xlink:href=\"#DejaVuSans-62\"/>\n      <use xlink:href=\"#DejaVuSans-61\" x=\"63.476562\"/>\n      <use xlink:href=\"#DejaVuSans-63\" x=\"124.755859\"/>\n      <use xlink:href=\"#DejaVuSans-6b\" x=\"179.736328\"/>\n      <use xlink:href=\"#DejaVuSans-67\" x=\"237.646484\"/>\n      <use xlink:href=\"#DejaVuSans-72\" x=\"301.123047\"/>\n      <use xlink:href=\"#DejaVuSans-6f\" x=\"339.986328\"/>\n      <use xlink:href=\"#DejaVuSans-75\" x=\"401.167969\"/>\n      <use xlink:href=\"#DejaVuSans-6e\" x=\"464.546875\"/>\n      <use xlink:href=\"#DejaVuSans-64\" x=\"527.925781\"/>\n     </g>\n    </g>\n    <g id=\"patch_69\">\n     <path d=\"M 177.639688 19.958281 \nL 199.639688 19.958281 \nL 199.639688 12.258281 \nL 177.639688 12.258281 \nz\n\" style=\"fill: #029e73; stroke: #ffffff; stroke-linejoin: miter\"/>\n    </g>\n    <g id=\"text_17\">\n     <!-- blacklist -->\n     <g style=\"fill: #262626\" transform=\"translate(208.439688 19.958281)scale(0.11 -0.11)\">\n      <use xlink:href=\"#DejaVuSans-62\"/>\n      <use xlink:href=\"#DejaVuSans-6c\" x=\"63.476562\"/>\n      <use xlink:href=\"#DejaVuSans-61\" x=\"91.259766\"/>\n      <use xlink:href=\"#DejaVuSans-63\" x=\"152.539062\"/>\n      <use xlink:href=\"#DejaVuSans-6b\" x=\"207.519531\"/>\n      <use xlink:href=\"#DejaVuSans-6c\" x=\"265.429688\"/>\n      <use xlink:href=\"#DejaVuSans-69\" x=\"293.212891\"/>\n      <use xlink:href=\"#DejaVuSans-73\" x=\"320.996094\"/>\n      <use xlink:href=\"#DejaVuSans-74\" x=\"373.095703\"/>\n     </g>\n    </g>\n    <g id=\"patch_70\">\n     <path d=\"M 177.639688 36.104219 \nL 199.639688 36.104219 \nL 199.639688 28.404219 \nL 177.639688 28.404219 \nz\n\" style=\"fill: #d55e00; stroke: #ffffff; stroke-linejoin: miter\"/>\n    </g>\n    <g id=\"text_18\">\n     <!-- anomaly-spam -->\n     <g style=\"fill: #262626\" transform=\"translate(208.439688 36.104219)scale(0.11 -0.11)\">\n      <use xlink:href=\"#DejaVuSans-61\"/>\n      <use xlink:href=\"#DejaVuSans-6e\" x=\"61.279297\"/>\n      <use xlink:href=\"#DejaVuSans-6f\" x=\"124.658203\"/>\n      <use xlink:href=\"#DejaVuSans-6d\" x=\"185.839844\"/>\n      <use xlink:href=\"#DejaVuSans-61\" x=\"283.251953\"/>\n      <use xlink:href=\"#DejaVuSans-6c\" x=\"344.53125\"/>\n      <use xlink:href=\"#DejaVuSans-79\" x=\"372.314453\"/>\n      <use xlink:href=\"#DejaVuSans-2d\" x=\"429.744141\"/>\n      <use xlink:href=\"#DejaVuSans-73\" x=\"465.828125\"/>\n      <use xlink:href=\"#DejaVuSans-70\" x=\"517.927734\"/>\n      <use xlink:href=\"#DejaVuSans-61\" x=\"581.404297\"/>\n      <use xlink:href=\"#DejaVuSans-6d\" x=\"642.683594\"/>\n     </g>\n    </g>\n    <g id=\"patch_71\">\n     <path d=\"M 311.85 19.958281 \nL 333.85 19.958281 \nL 333.85 12.258281 \nL 311.85 12.258281 \nz\n\" style=\"fill: #cc78bc; stroke: #ffffff; stroke-linejoin: miter\"/>\n    </g>\n    <g id=\"text_19\">\n     <!-- anomaly-sshscan -->\n     <g style=\"fill: #262626\" transform=\"translate(342.65 19.958281)scale(0.11 -0.11)\">\n      <defs>\n       <path id=\"DejaVuSans-68\" d=\"M 3513 2113 \nL 3513 0 \nL 2938 0 \nL 2938 2094 \nQ 2938 2591 2744 2837 \nQ 2550 3084 2163 3084 \nQ 1697 3084 1428 2787 \nQ 1159 2491 1159 1978 \nL 1159 0 \nL 581 0 \nL 581 4863 \nL 1159 4863 \nL 1159 2956 \nQ 1366 3272 1645 3428 \nQ 1925 3584 2291 3584 \nQ 2894 3584 3203 3211 \nQ 3513 2838 3513 2113 \nz\n\" transform=\"scale(0.015625)\"/>\n      </defs>\n      <use xlink:href=\"#DejaVuSans-61\"/>\n      <use xlink:href=\"#DejaVuSans-6e\" x=\"61.279297\"/>\n      <use xlink:href=\"#DejaVuSans-6f\" x=\"124.658203\"/>\n      <use xlink:href=\"#DejaVuSans-6d\" x=\"185.839844\"/>\n      <use xlink:href=\"#DejaVuSans-61\" x=\"283.251953\"/>\n      <use xlink:href=\"#DejaVuSans-6c\" x=\"344.53125\"/>\n      <use xlink:href=\"#DejaVuSans-79\" x=\"372.314453\"/>\n      <use xlink:href=\"#DejaVuSans-2d\" x=\"429.744141\"/>\n      <use xlink:href=\"#DejaVuSans-73\" x=\"465.828125\"/>\n      <use xlink:href=\"#DejaVuSans-73\" x=\"517.927734\"/>\n      <use xlink:href=\"#DejaVuSans-68\" x=\"570.027344\"/>\n      <use xlink:href=\"#DejaVuSans-73\" x=\"633.40625\"/>\n      <use xlink:href=\"#DejaVuSans-63\" x=\"685.505859\"/>\n      <use xlink:href=\"#DejaVuSans-61\" x=\"740.486328\"/>\n      <use xlink:href=\"#DejaVuSans-6e\" x=\"801.765625\"/>\n     </g>\n    </g>\n    <g id=\"patch_72\">\n     <path d=\"M 311.85 36.104219 \nL 333.85 36.104219 \nL 333.85 28.404219 \nL 311.85 28.404219 \nz\n\" style=\"fill: #ca9161; stroke: #ffffff; stroke-linejoin: miter\"/>\n    </g>\n    <g id=\"text_20\">\n     <!-- anomaly-udpscan -->\n     <g style=\"fill: #262626\" transform=\"translate(342.65 36.104219)scale(0.11 -0.11)\">\n      <use xlink:href=\"#DejaVuSans-61\"/>\n      <use xlink:href=\"#DejaVuSans-6e\" x=\"61.279297\"/>\n      <use xlink:href=\"#DejaVuSans-6f\" x=\"124.658203\"/>\n      <use xlink:href=\"#DejaVuSans-6d\" x=\"185.839844\"/>\n      <use xlink:href=\"#DejaVuSans-61\" x=\"283.251953\"/>\n      <use xlink:href=\"#DejaVuSans-6c\" x=\"344.53125\"/>\n      <use xlink:href=\"#DejaVuSans-79\" x=\"372.314453\"/>\n      <use xlink:href=\"#DejaVuSans-2d\" x=\"429.744141\"/>\n      <use xlink:href=\"#DejaVuSans-75\" x=\"465.828125\"/>\n      <use xlink:href=\"#DejaVuSans-64\" x=\"529.207031\"/>\n      <use xlink:href=\"#DejaVuSans-70\" x=\"592.683594\"/>\n      <use xlink:href=\"#DejaVuSans-73\" x=\"656.160156\"/>\n      <use xlink:href=\"#DejaVuSans-63\" x=\"708.259766\"/>\n      <use xlink:href=\"#DejaVuSans-61\" x=\"763.240234\"/>\n      <use xlink:href=\"#DejaVuSans-6e\" x=\"824.519531\"/>\n     </g>\n    </g>\n    <g id=\"patch_73\">\n     <path d=\"M 462.319687 19.958281 \nL 484.319687 19.958281 \nL 484.319687 12.258281 \nL 462.319687 12.258281 \nz\n\" style=\"fill: #fbafe4; stroke: #ffffff; stroke-linejoin: miter\"/>\n    </g>\n    <g id=\"text_21\">\n     <!-- dos -->\n     <g style=\"fill: #262626\" transform=\"translate(493.119687 19.958281)scale(0.11 -0.11)\">\n      <use xlink:href=\"#DejaVuSans-64\"/>\n      <use xlink:href=\"#DejaVuSans-6f\" x=\"63.476562\"/>\n      <use xlink:href=\"#DejaVuSans-73\" x=\"124.658203\"/>\n     </g>\n    </g>\n    <g id=\"patch_74\">\n     <path d=\"M 462.319687 36.104219 \nL 484.319687 36.104219 \nL 484.319687 28.404219 \nL 462.319687 28.404219 \nz\n\" style=\"fill: #949494; stroke: #ffffff; stroke-linejoin: miter\"/>\n    </g>\n    <g id=\"text_22\">\n     <!-- scan11 -->\n     <g style=\"fill: #262626\" transform=\"translate(493.119687 36.104219)scale(0.11 -0.11)\">\n      <use xlink:href=\"#DejaVuSans-73\"/>\n      <use xlink:href=\"#DejaVuSans-63\" x=\"52.099609\"/>\n      <use xlink:href=\"#DejaVuSans-61\" x=\"107.080078\"/>\n      <use xlink:href=\"#DejaVuSans-6e\" x=\"168.359375\"/>\n      <use xlink:href=\"#DejaVuSans-31\" x=\"231.738281\"/>\n      <use xlink:href=\"#DejaVuSans-31\" x=\"295.361328\"/>\n     </g>\n    </g>\n    <g id=\"patch_75\">\n     <path d=\"M 554.607969 19.958281 \nL 576.607969 19.958281 \nL 576.607969 12.258281 \nL 554.607969 12.258281 \nz\n\" style=\"fill: #ece133; stroke: #ffffff; stroke-linejoin: miter\"/>\n    </g>\n    <g id=\"text_23\">\n     <!-- scan44 -->\n     <g style=\"fill: #262626\" transform=\"translate(585.407969 19.958281)scale(0.11 -0.11)\">\n      <use xlink:href=\"#DejaVuSans-73\"/>\n      <use xlink:href=\"#DejaVuSans-63\" x=\"52.099609\"/>\n      <use xlink:href=\"#DejaVuSans-61\" x=\"107.080078\"/>\n      <use xlink:href=\"#DejaVuSans-6e\" x=\"168.359375\"/>\n      <use xlink:href=\"#DejaVuSans-34\" x=\"231.738281\"/>\n      <use xlink:href=\"#DejaVuSans-34\" x=\"295.361328\"/>\n     </g>\n    </g>\n    <g id=\"patch_76\">\n     <path d=\"M 554.607969 36.104219 \nL 576.607969 36.104219 \nL 576.607969 28.404219 \nL 554.607969 28.404219 \nz\n\" style=\"fill: #56b4e9; stroke: #ffffff; stroke-linejoin: miter\"/>\n    </g>\n    <g id=\"text_24\">\n     <!-- nerisbotnet -->\n     <g style=\"fill: #262626\" transform=\"translate(585.407969 36.104219)scale(0.11 -0.11)\">\n      <use xlink:href=\"#DejaVuSans-6e\"/>\n      <use xlink:href=\"#DejaVuSans-65\" x=\"63.378906\"/>\n      <use xlink:href=\"#DejaVuSans-72\" x=\"124.902344\"/>\n      <use xlink:href=\"#DejaVuSans-69\" x=\"166.015625\"/>\n      <use xlink:href=\"#DejaVuSans-73\" x=\"193.798828\"/>\n      <use xlink:href=\"#DejaVuSans-62\" x=\"245.898438\"/>\n      <use xlink:href=\"#DejaVuSans-6f\" x=\"309.375\"/>\n      <use xlink:href=\"#DejaVuSans-74\" x=\"370.556641\"/>\n      <use xlink:href=\"#DejaVuSans-6e\" x=\"409.765625\"/>\n      <use xlink:href=\"#DejaVuSans-65\" x=\"473.144531\"/>\n      <use xlink:href=\"#DejaVuSans-74\" x=\"534.667969\"/>\n     </g>\n    </g>\n   </g>\n  </g>\n </g>\n <defs>\n  <clipPath id=\"p9ddeffc1cc\">\n   <rect x=\"51.67375\" y=\"75.777812\" width=\"558\" height=\"271.8\"/>\n  </clipPath>\n </defs>\n</svg>\n",
      "text/plain": [
       "<Figure size 720x360 with 1 Axes>"
      ]
     },
     "metadata": {},
     "output_type": "display_data"
    }
   ],
   "source": [
    "test_df.plot.bar(logy=True, figsize=(10, 5), width=0.8, title=\"Répartition des labels dans la dataset TEST en fonction du mois/semaine\")\n",
    "plt.legend(loc='lower center', bbox_to_anchor=(0.5, 1.1), frameon=False, ncol=5)\n",
    "plt.xlabel('mois/semaine')\n",
    "plt.ylabel(\"Nombre d'exemples\")"
   ]
  },
  {
   "cell_type": "markdown",
   "metadata": {},
   "source": [
    "### Total"
   ]
  },
  {
   "cell_type": "code",
   "execution_count": 30,
   "metadata": {},
   "outputs": [
    {
     "data": {
      "text/plain": [
       "16690732133"
      ]
     },
     "execution_count": 30,
     "metadata": {},
     "output_type": "execute_result"
    }
   ],
   "source": [
    "3837761986+12852970147"
   ]
  },
  {
   "cell_type": "code",
   "execution_count": 31,
   "metadata": {},
   "outputs": [
    {
     "data": {
      "text/html": [
       "<div>\n",
       "<style scoped>\n",
       "    .dataframe tbody tr th:only-of-type {\n",
       "        vertical-align: middle;\n",
       "    }\n",
       "\n",
       "    .dataframe tbody tr th {\n",
       "        vertical-align: top;\n",
       "    }\n",
       "\n",
       "    .dataframe thead th {\n",
       "        text-align: right;\n",
       "    }\n",
       "</style>\n",
       "<table border=\"1\" class=\"dataframe\">\n",
       "  <thead>\n",
       "    <tr style=\"text-align: right;\">\n",
       "      <th></th>\n",
       "      <th>&lt;INVALID_LENGTH&gt;</th>\n",
       "      <th>background</th>\n",
       "      <th>blacklist</th>\n",
       "      <th>anomaly-sshscan</th>\n",
       "      <th>anomaly-spam</th>\n",
       "    </tr>\n",
       "    <tr>\n",
       "      <th>name</th>\n",
       "      <th></th>\n",
       "      <th></th>\n",
       "      <th></th>\n",
       "      <th></th>\n",
       "      <th></th>\n",
       "    </tr>\n",
       "  </thead>\n",
       "  <tbody>\n",
       "    <tr>\n",
       "      <th>calibration-june.week4</th>\n",
       "      <td>1</td>\n",
       "      <td>843192954</td>\n",
       "      <td>19277175</td>\n",
       "      <td>31</td>\n",
       "      <td>14301324</td>\n",
       "    </tr>\n",
       "    <tr>\n",
       "      <th>calibration-march.week5</th>\n",
       "      <td>1</td>\n",
       "      <td>577297082</td>\n",
       "      <td>1777370</td>\n",
       "      <td>13</td>\n",
       "      <td>676271</td>\n",
       "    </tr>\n",
       "    <tr>\n",
       "      <th>calibration-april.week4</th>\n",
       "      <td>6</td>\n",
       "      <td>989178319</td>\n",
       "      <td>3637575</td>\n",
       "      <td>30445197</td>\n",
       "      <td>41</td>\n",
       "    </tr>\n",
       "    <tr>\n",
       "      <th>calibration-june.week3</th>\n",
       "      <td>1</td>\n",
       "      <td>887500109</td>\n",
       "      <td>16614562</td>\n",
       "      <td>45</td>\n",
       "      <td>958</td>\n",
       "    </tr>\n",
       "    <tr>\n",
       "      <th>calibration-may.week5</th>\n",
       "      <td>1</td>\n",
       "      <td>996775652</td>\n",
       "      <td>2776843</td>\n",
       "      <td>8</td>\n",
       "      <td>588</td>\n",
       "    </tr>\n",
       "    <tr>\n",
       "      <th>calibration-may.week1</th>\n",
       "      <td>1</td>\n",
       "      <td>124059484</td>\n",
       "      <td>456202</td>\n",
       "      <td>2</td>\n",
       "      <td>0</td>\n",
       "    </tr>\n",
       "    <tr>\n",
       "      <th>calibration-may.week4</th>\n",
       "      <td>1</td>\n",
       "      <td>1032991347</td>\n",
       "      <td>3309844</td>\n",
       "      <td>2</td>\n",
       "      <td>1234677</td>\n",
       "    </tr>\n",
       "    <tr>\n",
       "      <th>calibration-march.week4</th>\n",
       "      <td>1</td>\n",
       "      <td>854603763</td>\n",
       "      <td>2621251</td>\n",
       "      <td>75</td>\n",
       "      <td>2651069</td>\n",
       "    </tr>\n",
       "    <tr>\n",
       "      <th>calibration-march.week3</th>\n",
       "      <td>1</td>\n",
       "      <td>238703829</td>\n",
       "      <td>1125722</td>\n",
       "      <td>15</td>\n",
       "      <td>840320</td>\n",
       "    </tr>\n",
       "    <tr>\n",
       "      <th>calibration-may.week6</th>\n",
       "      <td>1</td>\n",
       "      <td>296121596</td>\n",
       "      <td>858223</td>\n",
       "      <td>2</td>\n",
       "      <td>22</td>\n",
       "    </tr>\n",
       "    <tr>\n",
       "      <th>calibration-april.week2</th>\n",
       "      <td>1</td>\n",
       "      <td>557363853</td>\n",
       "      <td>1735869</td>\n",
       "      <td>4548663</td>\n",
       "      <td>380458</td>\n",
       "    </tr>\n",
       "    <tr>\n",
       "      <th>calibration-april.week3</th>\n",
       "      <td>3</td>\n",
       "      <td>1030802501</td>\n",
       "      <td>3015755</td>\n",
       "      <td>70283217</td>\n",
       "      <td>3284097</td>\n",
       "    </tr>\n",
       "    <tr>\n",
       "      <th>calibration-april.week5</th>\n",
       "      <td>1</td>\n",
       "      <td>827765689</td>\n",
       "      <td>2809395</td>\n",
       "      <td>6</td>\n",
       "      <td>96744</td>\n",
       "    </tr>\n",
       "    <tr>\n",
       "      <th>calibration-june.week2</th>\n",
       "      <td>1</td>\n",
       "      <td>986331605</td>\n",
       "      <td>8785896</td>\n",
       "      <td>109</td>\n",
       "      <td>300</td>\n",
       "    </tr>\n",
       "    <tr>\n",
       "      <th>calibration-june.week1</th>\n",
       "      <td>1</td>\n",
       "      <td>677562760</td>\n",
       "      <td>3537183</td>\n",
       "      <td>56</td>\n",
       "      <td>132</td>\n",
       "    </tr>\n",
       "    <tr>\n",
       "      <th>calibration-may.week2</th>\n",
       "      <td>3</td>\n",
       "      <td>962444899</td>\n",
       "      <td>4200823</td>\n",
       "      <td>4</td>\n",
       "      <td>174265</td>\n",
       "    </tr>\n",
       "    <tr>\n",
       "      <th>calibration-may.week3</th>\n",
       "      <td>2</td>\n",
       "      <td>970274705</td>\n",
       "      <td>3833714</td>\n",
       "      <td>1</td>\n",
       "      <td>203693</td>\n",
       "    </tr>\n",
       "  </tbody>\n",
       "</table>\n",
       "</div>"
      ],
      "text/plain": [
       "                         <INVALID_LENGTH>  background  blacklist  \\\n",
       "name                                                               \n",
       "calibration-june.week4                  1   843192954   19277175   \n",
       "calibration-march.week5                 1   577297082    1777370   \n",
       "calibration-april.week4                 6   989178319    3637575   \n",
       "calibration-june.week3                  1   887500109   16614562   \n",
       "calibration-may.week5                   1   996775652    2776843   \n",
       "calibration-may.week1                   1   124059484     456202   \n",
       "calibration-may.week4                   1  1032991347    3309844   \n",
       "calibration-march.week4                 1   854603763    2621251   \n",
       "calibration-march.week3                 1   238703829    1125722   \n",
       "calibration-may.week6                   1   296121596     858223   \n",
       "calibration-april.week2                 1   557363853    1735869   \n",
       "calibration-april.week3                 3  1030802501    3015755   \n",
       "calibration-april.week5                 1   827765689    2809395   \n",
       "calibration-june.week2                  1   986331605    8785896   \n",
       "calibration-june.week1                  1   677562760    3537183   \n",
       "calibration-may.week2                   3   962444899    4200823   \n",
       "calibration-may.week3                   2   970274705    3833714   \n",
       "\n",
       "                         anomaly-sshscan  anomaly-spam  \n",
       "name                                                    \n",
       "calibration-june.week4                31      14301324  \n",
       "calibration-march.week5               13        676271  \n",
       "calibration-april.week4         30445197            41  \n",
       "calibration-june.week3                45           958  \n",
       "calibration-may.week5                  8           588  \n",
       "calibration-may.week1                  2             0  \n",
       "calibration-may.week4                  2       1234677  \n",
       "calibration-march.week4               75       2651069  \n",
       "calibration-march.week3               15        840320  \n",
       "calibration-may.week6                  2            22  \n",
       "calibration-april.week2          4548663        380458  \n",
       "calibration-april.week3         70283217       3284097  \n",
       "calibration-april.week5                6         96744  \n",
       "calibration-june.week2               109           300  \n",
       "calibration-june.week1                56           132  \n",
       "calibration-may.week2                  4        174265  \n",
       "calibration-may.week3                  1        203693  "
      ]
     },
     "execution_count": 31,
     "metadata": {},
     "output_type": "execute_result"
    }
   ],
   "source": [
    "calibration_df"
   ]
  },
  {
   "cell_type": "code",
   "execution_count": 32,
   "metadata": {},
   "outputs": [
    {
     "data": {
      "text/plain": [
       "<INVALID_LENGTH>             27\n",
       "background          12852970147\n",
       "blacklist              80373402\n",
       "anomaly-sshscan       105277446\n",
       "anomaly-spam           23844959\n",
       "dtype: int64"
      ]
     },
     "execution_count": 32,
     "metadata": {},
     "output_type": "execute_result"
    }
   ],
   "source": [
    "calibration_df.sum()"
   ]
  },
  {
   "cell_type": "code",
   "execution_count": 33,
   "metadata": {},
   "outputs": [
    {
     "data": {
      "text/html": [
       "<div>\n",
       "<style scoped>\n",
       "    .dataframe tbody tr th:only-of-type {\n",
       "        vertical-align: middle;\n",
       "    }\n",
       "\n",
       "    .dataframe tbody tr th {\n",
       "        vertical-align: top;\n",
       "    }\n",
       "\n",
       "    .dataframe thead th {\n",
       "        text-align: right;\n",
       "    }\n",
       "</style>\n",
       "<table border=\"1\" class=\"dataframe\">\n",
       "  <thead>\n",
       "    <tr style=\"text-align: right;\">\n",
       "      <th></th>\n",
       "      <th>&lt;INVALID_LENGTH&gt;</th>\n",
       "      <th>background</th>\n",
       "      <th>blacklist</th>\n",
       "      <th>anomaly-spam</th>\n",
       "      <th>anomaly-sshscan</th>\n",
       "      <th>anomaly-udpscan</th>\n",
       "      <th>dos</th>\n",
       "      <th>scan11</th>\n",
       "      <th>scan44</th>\n",
       "      <th>nerisbotnet</th>\n",
       "    </tr>\n",
       "    <tr>\n",
       "      <th>name</th>\n",
       "      <th></th>\n",
       "      <th></th>\n",
       "      <th></th>\n",
       "      <th></th>\n",
       "      <th></th>\n",
       "      <th></th>\n",
       "      <th></th>\n",
       "      <th></th>\n",
       "      <th></th>\n",
       "      <th></th>\n",
       "    </tr>\n",
       "  </thead>\n",
       "  <tbody>\n",
       "    <tr>\n",
       "      <th>test-august.week4</th>\n",
       "      <td>2</td>\n",
       "      <td>854170414</td>\n",
       "      <td>3069118</td>\n",
       "      <td>5287316</td>\n",
       "      <td>12</td>\n",
       "      <td>0</td>\n",
       "      <td>0</td>\n",
       "      <td>0</td>\n",
       "      <td>0</td>\n",
       "      <td>0</td>\n",
       "    </tr>\n",
       "    <tr>\n",
       "      <th>test-august.week1</th>\n",
       "      <td>7</td>\n",
       "      <td>811088135</td>\n",
       "      <td>2464585</td>\n",
       "      <td>27970000</td>\n",
       "      <td>16</td>\n",
       "      <td>989872</td>\n",
       "      <td>5093132</td>\n",
       "      <td>539018</td>\n",
       "      <td>2477203</td>\n",
       "      <td>992575</td>\n",
       "    </tr>\n",
       "    <tr>\n",
       "      <th>test-july.week5</th>\n",
       "      <td>1</td>\n",
       "      <td>531975100</td>\n",
       "      <td>1450738</td>\n",
       "      <td>503658</td>\n",
       "      <td>10</td>\n",
       "      <td>0</td>\n",
       "      <td>3134728</td>\n",
       "      <td>323120</td>\n",
       "      <td>1496504</td>\n",
       "      <td>607036</td>\n",
       "    </tr>\n",
       "    <tr>\n",
       "      <th>test-august.week2</th>\n",
       "      <td>2</td>\n",
       "      <td>793518112</td>\n",
       "      <td>5728174</td>\n",
       "      <td>36796698</td>\n",
       "      <td>5</td>\n",
       "      <td>0</td>\n",
       "      <td>1028245</td>\n",
       "      <td>140541</td>\n",
       "      <td>547468</td>\n",
       "      <td>81918</td>\n",
       "    </tr>\n",
       "    <tr>\n",
       "      <th>test-august.week3</th>\n",
       "      <td>4</td>\n",
       "      <td>806857033</td>\n",
       "      <td>5141634</td>\n",
       "      <td>7059245</td>\n",
       "      <td>20</td>\n",
       "      <td>0</td>\n",
       "      <td>0</td>\n",
       "      <td>0</td>\n",
       "      <td>0</td>\n",
       "      <td>0</td>\n",
       "    </tr>\n",
       "    <tr>\n",
       "      <th>test-august.week5</th>\n",
       "      <td>1</td>\n",
       "      <td>40153192</td>\n",
       "      <td>136402</td>\n",
       "      <td>0</td>\n",
       "      <td>1</td>\n",
       "      <td>0</td>\n",
       "      <td>0</td>\n",
       "      <td>0</td>\n",
       "      <td>0</td>\n",
       "      <td>0</td>\n",
       "    </tr>\n",
       "  </tbody>\n",
       "</table>\n",
       "</div>"
      ],
      "text/plain": [
       "                   <INVALID_LENGTH>  background  blacklist  anomaly-spam  \\\n",
       "name                                                                       \n",
       "test-august.week4                 2   854170414    3069118       5287316   \n",
       "test-august.week1                 7   811088135    2464585      27970000   \n",
       "test-july.week5                   1   531975100    1450738        503658   \n",
       "test-august.week2                 2   793518112    5728174      36796698   \n",
       "test-august.week3                 4   806857033    5141634       7059245   \n",
       "test-august.week5                 1    40153192     136402             0   \n",
       "\n",
       "                   anomaly-sshscan  anomaly-udpscan      dos  scan11   scan44  \\\n",
       "name                                                                            \n",
       "test-august.week4               12                0        0       0        0   \n",
       "test-august.week1               16           989872  5093132  539018  2477203   \n",
       "test-july.week5                 10                0  3134728  323120  1496504   \n",
       "test-august.week2                5                0  1028245  140541   547468   \n",
       "test-august.week3               20                0        0       0        0   \n",
       "test-august.week5                1                0        0       0        0   \n",
       "\n",
       "                   nerisbotnet  \n",
       "name                            \n",
       "test-august.week4            0  \n",
       "test-august.week1       992575  \n",
       "test-july.week5         607036  \n",
       "test-august.week2        81918  \n",
       "test-august.week3            0  \n",
       "test-august.week5            0  "
      ]
     },
     "execution_count": 33,
     "metadata": {},
     "output_type": "execute_result"
    }
   ],
   "source": [
    "test_df"
   ]
  },
  {
   "cell_type": "code",
   "execution_count": 34,
   "metadata": {},
   "outputs": [
    {
     "data": {
      "text/plain": [
       "<INVALID_LENGTH>            17\n",
       "background          3837761986\n",
       "blacklist             17990651\n",
       "anomaly-spam          77616917\n",
       "anomaly-sshscan             64\n",
       "anomaly-udpscan         989872\n",
       "dos                    9256105\n",
       "scan11                 1002679\n",
       "scan44                 4521175\n",
       "nerisbotnet            1681529\n",
       "dtype: int64"
      ]
     },
     "execution_count": 34,
     "metadata": {},
     "output_type": "execute_result"
    }
   ],
   "source": [
    "test_df.sum()"
   ]
  },
  {
   "cell_type": "code",
   "execution_count": 44,
   "metadata": {},
   "outputs": [
    {
     "data": {
      "text/plain": [
       "<INVALID_LENGTH>             44\n",
       "background          16690732133\n",
       "blacklist              98364053\n",
       "anomaly-sshscan       105277510\n",
       "anomaly-spam          101461876\n",
       "anomaly-udpscan          989872\n",
       "dos                     9256105\n",
       "scan11                  1002679\n",
       "scan44                  4521175\n",
       "nerisbotnet             1681529\n",
       "dtype: int64"
      ]
     },
     "execution_count": 44,
     "metadata": {},
     "output_type": "execute_result"
    }
   ],
   "source": [
    "from collections import Counter\n",
    "counter = Counter(calibration_df.sum().to_dict())\n",
    "counter.update(test_df.sum().to_dict())\n",
    "counter_serie = pd.Series(dict(counter))\n",
    "counter_serie"
   ]
  },
  {
   "cell_type": "code",
   "execution_count": 50,
   "metadata": {},
   "outputs": [
    {
     "data": {
      "text/plain": [
       "<INVALID_LENGTH>    2.586214e-07\n",
       "anomaly-udpscan     5.818229e-03\n",
       "scan11              5.893505e-03\n",
       "nerisbotnet         9.883622e-03\n",
       "scan44              2.657438e-02\n",
       "dos                 5.440515e-02\n",
       "blacklist           5.781602e-01\n",
       "anomaly-spam        5.963685e-01\n",
       "anomaly-sshscan     6.187958e-01\n",
       "background          9.810410e+01\n",
       "dtype: float64"
      ]
     },
     "execution_count": 50,
     "metadata": {},
     "output_type": "execute_result"
    }
   ],
   "source": [
    "counter_serie.sort_values()*100/counter_serie.sort_values().sum()"
   ]
  },
  {
   "cell_type": "markdown",
   "metadata": {},
   "source": [
    "# Tirage aléatoire des index des données"
   ]
  },
  {
   "cell_type": "code",
   "execution_count": 35,
   "metadata": {},
   "outputs": [],
   "source": [
    "name_count_dict = dict()\n",
    "\n",
    "for column in calibration_df.columns:\n",
    "    name_count_list = name_count_dict.get(column, [])\n",
    "    name_count_list += list(calibration_df[column].to_dict().items())\n",
    "    name_count_dict[column] = name_count_list\n",
    "\n",
    "for column in test_df.columns:\n",
    "    name_count_list = name_count_dict.get(column, [])\n",
    "    name_count_list += list(test_df[column].to_dict().items())\n",
    "    name_count_dict[column] = name_count_list"
   ]
  },
  {
   "cell_type": "code",
   "execution_count": 40,
   "metadata": {},
   "outputs": [],
   "source": [
    "del name_count_dict[\"<INVALID_LENGTH>\"]"
   ]
  },
  {
   "cell_type": "code",
   "execution_count": 41,
   "metadata": {},
   "outputs": [
    {
     "name": "stderr",
     "output_type": "stream",
     "text": [
      "100%|██████████| 9/9 [00:14<00:00,  1.62s/it]\n"
     ]
    }
   ],
   "source": [
    "subset_size_per_label_dict = dict()\n",
    "for label, set_count_list in tqdm(name_count_dict.items()):\n",
    "    total_count = sum([value for _, value in set_count_list])\n",
    "    try:\n",
    "        subset_size = 900_000\n",
    "        if label == \"background\":\n",
    "            subset_size = 900_000*8\n",
    "        index_list = np.array(random.sample(range(total_count), subset_size))\n",
    "    except:\n",
    "        print(label, total_count)\n",
    "        break\n",
    "\n",
    "    subset_size_per_set_dict = dict()\n",
    "    for set_name, count in tqdm(set_count_list, leave=False):\n",
    "        index_for_dataset_list = index_list[index_list<count]\n",
    "        index_list = index_list[index_list>=count]\n",
    "        index_list -= count\n",
    "        subset_size_per_set_dict[set_name] = index_for_dataset_list\n",
    "    \n",
    "    subset_size_per_label_dict[label] = subset_size_per_set_dict"
   ]
  },
  {
   "cell_type": "code",
   "execution_count": 42,
   "metadata": {},
   "outputs": [],
   "source": [
    "export_dataset_dict = dict()\n",
    "for label, subset_index_per_set_dict in subset_size_per_label_dict.items():\n",
    "    for dataset_name, index_list in subset_index_per_set_dict.items():\n",
    "        dataset_dict = export_dataset_dict.get(dataset_name, {})\n",
    "        dataset_dict[label] = index_list\n",
    "        export_dataset_dict[dataset_name] = dataset_dict"
   ]
  },
  {
   "cell_type": "code",
   "execution_count": 43,
   "metadata": {},
   "outputs": [],
   "source": [
    "class NpEncoder(json.JSONEncoder):\n",
    "    def default(self, obj):\n",
    "        if isinstance(obj, np.integer):\n",
    "            return int(obj)\n",
    "        if isinstance(obj, np.floating):\n",
    "            return float(obj)\n",
    "        if isinstance(obj, np.ndarray):\n",
    "            return obj.tolist()\n",
    "        return super(NpEncoder, self).default(obj)"
   ]
  },
  {
   "cell_type": "code",
   "execution_count": 44,
   "metadata": {},
   "outputs": [],
   "source": [
    "with open(\"test-dataset_label_index.json\", \"w\") as f:\n",
    "    f.write(json.dumps(export_dataset_dict, cls=NpEncoder))"
   ]
  },
  {
   "cell_type": "markdown",
   "metadata": {},
   "source": [
    "# Tests"
   ]
  },
  {
   "cell_type": "code",
   "execution_count": 2,
   "metadata": {},
   "outputs": [],
   "source": [
    "import pandas as pd"
   ]
  },
  {
   "cell_type": "code",
   "execution_count": 11,
   "metadata": {},
   "outputs": [],
   "source": [
    "x00 = pd.read_csv(\"../data/split/x00\")\n",
    "target_x00 = x00.iloc[:,-1].fillna(\"background\")\n",
    "del x00\n",
    "x01 = pd.read_csv(\"../data/split/x01\")\n",
    "target_x01 = x01.iloc[:,-1].fillna(\"background\")\n",
    "del x01"
   ]
  },
  {
   "cell_type": "code",
   "execution_count": 15,
   "metadata": {},
   "outputs": [
    {
     "data": {
      "text/plain": [
       "0           background\n",
       "1           background\n",
       "2           background\n",
       "3           background\n",
       "4           background\n",
       "               ...    \n",
       "10352371    background\n",
       "10352372    background\n",
       "10352373    background\n",
       "10352374    background\n",
       "10352375    background\n",
       "Name: background, Length: 10352376, dtype: object"
      ]
     },
     "execution_count": 15,
     "metadata": {},
     "output_type": "execute_result"
    }
   ],
   "source": [
    "target_x00"
   ]
  },
  {
   "cell_type": "code",
   "execution_count": 22,
   "metadata": {},
   "outputs": [],
   "source": [
    "target_x00_dict = target_x00.value_counts().to_dict()\n",
    "target_x00_dict[\"name\"]=\"x00\"\n",
    "\n",
    "target_x01_dict = target_x01.value_counts().to_dict()\n",
    "target_x01_dict[\"name\"]=\"x01\""
   ]
  },
  {
   "cell_type": "code",
   "execution_count": 26,
   "metadata": {},
   "outputs": [
    {
     "data": {
      "text/html": [
       "<div>\n",
       "<style scoped>\n",
       "    .dataframe tbody tr th:only-of-type {\n",
       "        vertical-align: middle;\n",
       "    }\n",
       "\n",
       "    .dataframe tbody tr th {\n",
       "        vertical-align: top;\n",
       "    }\n",
       "\n",
       "    .dataframe thead th {\n",
       "        text-align: right;\n",
       "    }\n",
       "</style>\n",
       "<table border=\"1\" class=\"dataframe\">\n",
       "  <thead>\n",
       "    <tr style=\"text-align: right;\">\n",
       "      <th></th>\n",
       "      <th>background</th>\n",
       "      <th>blacklist</th>\n",
       "      <th>anomaly-spam</th>\n",
       "    </tr>\n",
       "    <tr>\n",
       "      <th>name</th>\n",
       "      <th></th>\n",
       "      <th></th>\n",
       "      <th></th>\n",
       "    </tr>\n",
       "  </thead>\n",
       "  <tbody>\n",
       "    <tr>\n",
       "      <th>x00</th>\n",
       "      <td>10321180</td>\n",
       "      <td>29456</td>\n",
       "      <td>1740</td>\n",
       "    </tr>\n",
       "    <tr>\n",
       "      <th>x01</th>\n",
       "      <td>10280428</td>\n",
       "      <td>54316</td>\n",
       "      <td>1903</td>\n",
       "    </tr>\n",
       "  </tbody>\n",
       "</table>\n",
       "</div>"
      ],
      "text/plain": [
       "      background  blacklist  anomaly-spam\n",
       "name                                     \n",
       "x00     10321180      29456          1740\n",
       "x01     10280428      54316          1903"
      ]
     },
     "execution_count": 26,
     "metadata": {},
     "output_type": "execute_result"
    }
   ],
   "source": [
    "df = pd.DataFrame([target_x00_dict, target_x01_dict]).set_index(\"name\")\n",
    "df"
   ]
  },
  {
   "cell_type": "code",
   "execution_count": 27,
   "metadata": {},
   "outputs": [],
   "source": [
    "name_count_dict = dict()\n",
    "\n",
    "for column in df.columns:\n",
    "    name_count_list = name_count_dict.get(column, [])\n",
    "    name_count_list += list(df[column].to_dict().items())\n",
    "    name_count_dict[column] = name_count_list"
   ]
  },
  {
   "cell_type": "code",
   "execution_count": 28,
   "metadata": {},
   "outputs": [
    {
     "data": {
      "text/plain": [
       "{'background': [('x00', 10321180), ('x01', 10280428)],\n",
       " 'blacklist': [('x00', 29456), ('x01', 54316)],\n",
       " 'anomaly-spam': [('x00', 1740), ('x01', 1903)]}"
      ]
     },
     "execution_count": 28,
     "metadata": {},
     "output_type": "execute_result"
    }
   ],
   "source": [
    "name_count_dict"
   ]
  },
  {
   "cell_type": "code",
   "execution_count": 31,
   "metadata": {},
   "outputs": [
    {
     "name": "stderr",
     "output_type": "stream",
     "text": [
      "100%|██████████| 3/3 [00:00<00:00, 138.04it/s]\n"
     ]
    }
   ],
   "source": [
    "subset_size_per_label_dict = dict()\n",
    "for label, set_count_list in tqdm(name_count_dict.items()):\n",
    "    total_count = sum([value for _, value in set_count_list])\n",
    "    try:\n",
    "        subset_size = 1000\n",
    "        if label == \"background\":\n",
    "            subset_size = 1000*8\n",
    "        index_list = np.array(random.sample(range(total_count), subset_size))\n",
    "    except:\n",
    "        print(label, total_count)\n",
    "        break\n",
    "\n",
    "    subset_size_per_set_dict = dict()\n",
    "    for set_name, count in tqdm(set_count_list, leave=False):\n",
    "        index_for_dataset_list = index_list[index_list<count]\n",
    "        index_list = index_list[index_list>=count]\n",
    "        index_list -= count\n",
    "        subset_size_per_set_dict[set_name] = index_for_dataset_list\n",
    "    \n",
    "    subset_size_per_label_dict[label] = subset_size_per_set_dict"
   ]
  },
  {
   "cell_type": "code",
   "execution_count": 33,
   "metadata": {},
   "outputs": [],
   "source": [
    "export_dataset_dict = dict()\n",
    "for label, subset_index_per_set_dict in subset_size_per_label_dict.items():\n",
    "    for dataset_name, index_list in subset_index_per_set_dict.items():\n",
    "        dataset_dict = export_dataset_dict.get(dataset_name, {})\n",
    "        dataset_dict[label] = index_list\n",
    "        export_dataset_dict[dataset_name] = dataset_dict"
   ]
  },
  {
   "cell_type": "code",
   "execution_count": 80,
   "metadata": {},
   "outputs": [],
   "source": [
    "class NpEncoder(json.JSONEncoder):\n",
    "    def default(self, obj):\n",
    "        if isinstance(obj, np.integer):\n",
    "            return int(obj)\n",
    "        if isinstance(obj, np.floating):\n",
    "            return float(obj)\n",
    "        if isinstance(obj, np.ndarray):\n",
    "            return obj.tolist()\n",
    "        return super(NpEncoder, self).default(obj)"
   ]
  },
  {
   "cell_type": "code",
   "execution_count": 81,
   "metadata": {},
   "outputs": [],
   "source": [
    "with open(\"test-dataset_label_index.json\", \"w\") as f:\n",
    "    f.write(json.dumps(export_dataset_dict, cls=NpEncoder))"
   ]
  },
  {
   "cell_type": "code",
   "execution_count": 73,
   "metadata": {},
   "outputs": [
    {
     "data": {
      "text/plain": [
       "329"
      ]
     },
     "execution_count": 73,
     "metadata": {},
     "output_type": "execute_result"
    }
   ],
   "source": [
    "len(export_dataset_dict[\"x00\"][\"blacklist\"])"
   ]
  },
  {
   "cell_type": "code",
   "execution_count": 46,
   "metadata": {},
   "outputs": [
    {
     "name": "stderr",
     "output_type": "stream",
     "text": [
      "10352378it [02:14, 77044.12it/s]\n",
      "10336648it [02:14, 76956.85it/s]\n"
     ]
    }
   ],
   "source": [
    "FILE_TO_TEST = [\"../data/split/x00\", \"../data/split/x01\"]\n",
    "\n",
    "import csv\n",
    "from collections import Counter\n",
    "\n",
    "label_counter = Counter([])\n",
    "edd = export_dataset_dict[\"x00\"]\n",
    "with open(\"dataset0.csv\", \"w\") as extract_f:\n",
    "    writer = csv.writer(extract_f)\n",
    "    with open(FILE_TO_TEST[0], \"r\") as f:\n",
    "        reader = csv.reader(f)\n",
    "        for row in tqdm(reader):\n",
    "            if len(row) == 13:\n",
    "                target = row[-1]\n",
    "                current_label_index = label_counter.get(target, 0)\n",
    "                label_counter.update([target])\n",
    "                if current_label_index in edd[target]:\n",
    "                    writer.writerow(row)\n",
    "\n",
    "label_counter = Counter([])\n",
    "edd = export_dataset_dict[\"x01\"]\n",
    "with open(\"dataset1.csv\", \"w\") as extract_f:\n",
    "    writer = csv.writer(extract_f)\n",
    "    with open(FILE_TO_TEST[1], \"r\") as f:\n",
    "        reader = csv.reader(f)\n",
    "        for row in tqdm(reader):\n",
    "            if len(row) == 13:\n",
    "                target = row[-1]\n",
    "                current_label_index = label_counter.get(target, 0)\n",
    "                label_counter.update([target])\n",
    "                if current_label_index in edd[target]:\n",
    "                    writer.writerow(row)\n"
   ]
  },
  {
   "cell_type": "code",
   "execution_count": 74,
   "metadata": {},
   "outputs": [],
   "source": [
    "d0 = pd.read_csv(\"dataset0.csv\")\n",
    "d1 = pd.read_csv(\"dataset1.csv\")\n",
    "d = pd.read_csv(\"dataset.csv\", names=[\"h\"+str(i) for i in range(13)])"
   ]
  },
  {
   "cell_type": "code",
   "execution_count": 75,
   "metadata": {},
   "outputs": [
    {
     "data": {
      "text/plain": [
       "((4776, 13), (5222, 13), (10000, 13))"
      ]
     },
     "execution_count": 75,
     "metadata": {},
     "output_type": "execute_result"
    }
   ],
   "source": [
    "d0.shape, d1.shape, d.shape"
   ]
  },
  {
   "cell_type": "code",
   "execution_count": 76,
   "metadata": {},
   "outputs": [
    {
     "data": {
      "text/plain": [
       "background      8000\n",
       "blacklist       1000\n",
       "anomaly-spam    1000\n",
       "Name: h12, dtype: int64"
      ]
     },
     "execution_count": 76,
     "metadata": {},
     "output_type": "execute_result"
    }
   ],
   "source": [
    "d.iloc[:,-1].value_counts()"
   ]
  },
  {
   "cell_type": "code",
   "execution_count": 69,
   "metadata": {},
   "outputs": [
    {
     "data": {
      "text/plain": [
       "background      3993\n",
       "anomaly-spam     455\n",
       "blacklist        328\n",
       "Name: blacklist, dtype: int64"
      ]
     },
     "execution_count": 69,
     "metadata": {},
     "output_type": "execute_result"
    }
   ],
   "source": [
    "d0.iloc[:,-1].value_counts()"
   ]
  },
  {
   "cell_type": "code",
   "execution_count": 70,
   "metadata": {},
   "outputs": [
    {
     "data": {
      "text/plain": [
       "background      4006\n",
       "blacklist        671\n",
       "anomaly-spam     545\n",
       "Name: background, dtype: int64"
      ]
     },
     "execution_count": 70,
     "metadata": {},
     "output_type": "execute_result"
    }
   ],
   "source": [
    "d1.iloc[:,-1].value_counts()"
   ]
  },
  {
   "cell_type": "code",
   "execution_count": 84,
   "metadata": {},
   "outputs": [
    {
     "data": {
      "text/plain": [
       "background      3993\n",
       "anomaly-spam     455\n",
       "blacklist        329\n",
       "Name: h12, dtype: int64"
      ]
     },
     "execution_count": 84,
     "metadata": {},
     "output_type": "execute_result"
    }
   ],
   "source": [
    "pd.read_csv(\"dd0.csv\", names=[\"h\"+str(i) for i in range(13)]).iloc[:,-1].value_counts()"
   ]
  },
  {
   "cell_type": "code",
   "execution_count": null,
   "metadata": {},
   "outputs": [],
   "source": []
  }
 ],
 "metadata": {
  "interpreter": {
   "hash": "ee9eb1c0c2d3d5fd1f863f1cc58cbab3365ceba20654f2ce47b07e2c22606099"
  },
  "kernelspec": {
   "display_name": "Python 3.8.5 ('.venv': poetry)",
   "language": "python",
   "name": "python3"
  },
  "language_info": {
   "codemirror_mode": {
    "name": "ipython",
    "version": 3
   },
   "file_extension": ".py",
   "mimetype": "text/x-python",
   "name": "python",
   "nbconvert_exporter": "python",
   "pygments_lexer": "ipython3",
   "version": "3.8.5"
  },
  "orig_nbformat": 4
 },
 "nbformat": 4,
 "nbformat_minor": 2
}
